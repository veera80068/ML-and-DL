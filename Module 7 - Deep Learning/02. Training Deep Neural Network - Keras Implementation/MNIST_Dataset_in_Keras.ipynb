{
  "nbformat": 4,
  "nbformat_minor": 0,
  "metadata": {
    "colab": {
      "name": "MNIST Dataset in Keras.ipynb",
      "provenance": [],
      "collapsed_sections": [
        "zgUykL92DwRP",
        "VyhqBvA3hMNJ",
        "a3fzyltQg8aC",
        "WAhsOhJLKLQz",
        "Orpjq104avfu",
        "VgGDtkuUdFnJ",
        "KVA5UBgRX328"
      ]
    },
    "kernelspec": {
      "name": "python3",
      "display_name": "Python 3"
    },
    "accelerator": "GPU"
  },
  "cells": [
    {
      "cell_type": "markdown",
      "metadata": {
        "id": "O-zE0qRLEojg",
        "colab_type": "text"
      },
      "source": [
        "# Steps\n",
        "\n",
        "1. Import Required Libraries\n",
        "2. Load the data\n",
        "3. Preprocess the Data\n",
        "4. Define the Model\n",
        "5. Compile the Model\n",
        "6. Fit the Model\n",
        "7. Evaluate"
      ]
    },
    {
      "cell_type": "markdown",
      "metadata": {
        "id": "zgUykL92DwRP",
        "colab_type": "text"
      },
      "source": [
        "# Importing the required libraries"
      ]
    },
    {
      "cell_type": "code",
      "metadata": {
        "id": "8REFAXoaHDyt",
        "colab_type": "code",
        "colab": {
          "base_uri": "https://localhost:8080/",
          "height": 74
        },
        "outputId": "5b047b96-7dae-4fd9-9761-078f525ad7c1"
      },
      "source": [
        "# Helper Libraries\n",
        "\n",
        "import numpy as np\n",
        "import pandas as pd\n",
        "import matplotlib.pyplot as plt\n",
        "import seaborn as sns"
      ],
      "execution_count": null,
      "outputs": [
        {
          "output_type": "stream",
          "text": [
            "/usr/local/lib/python3.6/dist-packages/statsmodels/tools/_testing.py:19: FutureWarning: pandas.util.testing is deprecated. Use the functions in the public API at pandas.testing instead.\n",
            "  import pandas.util.testing as tm\n"
          ],
          "name": "stderr"
        }
      ]
    },
    {
      "cell_type": "code",
      "metadata": {
        "id": "TrgfD9xFDjzN",
        "colab_type": "code",
        "colab": {
          "base_uri": "https://localhost:8080/",
          "height": 54
        },
        "outputId": "f95144f5-eebf-4f1f-83f9-0e4d57042e96"
      },
      "source": [
        "# TensorFlow and tf.keras\n",
        "\n",
        "import tensorflow as tf\n",
        "from tensorflow import keras\n",
        "\n",
        "print(tf.__version__)\n",
        "\n",
        "print(keras.__version__)"
      ],
      "execution_count": null,
      "outputs": [
        {
          "output_type": "stream",
          "text": [
            "2.3.0\n",
            "2.4.0\n"
          ],
          "name": "stdout"
        }
      ]
    },
    {
      "cell_type": "code",
      "metadata": {
        "id": "DNwSvHEFjbCV",
        "colab_type": "code",
        "colab": {}
      },
      "source": [
        "from keras.utils import np_utils\n",
        "from keras.models import Sequential \n",
        "from keras.layers import Dense, Dropout, BatchNormalization, Flatten"
      ],
      "execution_count": null,
      "outputs": []
    },
    {
      "cell_type": "code",
      "metadata": {
        "id": "iNSzif91D_jp",
        "colab_type": "code",
        "colab": {}
      },
      "source": [
        "from keras.datasets import mnist"
      ],
      "execution_count": null,
      "outputs": []
    },
    {
      "cell_type": "markdown",
      "metadata": {
        "id": "VyhqBvA3hMNJ",
        "colab_type": "text"
      },
      "source": [
        "# Load and Explore the Data"
      ]
    },
    {
      "cell_type": "code",
      "metadata": {
        "id": "s3Iy3-yeGoIh",
        "colab_type": "code",
        "colab": {
          "base_uri": "https://localhost:8080/",
          "height": 54
        },
        "outputId": "6685990b-cca8-436b-cf11-a0f075647659"
      },
      "source": [
        "# the data, shuffled and split between train and test sets \n",
        "(X_train, y_train), (X_test, y_test) = mnist.load_data()"
      ],
      "execution_count": null,
      "outputs": [
        {
          "output_type": "stream",
          "text": [
            "Downloading data from https://storage.googleapis.com/tensorflow/tf-keras-datasets/mnist.npz\n",
            "11493376/11490434 [==============================] - 0s 0us/step\n"
          ],
          "name": "stdout"
        }
      ]
    },
    {
      "cell_type": "code",
      "metadata": {
        "id": "OKW_AjhfL9Y4",
        "colab_type": "code",
        "colab": {
          "base_uri": "https://localhost:8080/",
          "height": 36
        },
        "outputId": "eb5182f7-940a-4139-887e-d89425ef3242"
      },
      "source": [
        "X_train.shape"
      ],
      "execution_count": null,
      "outputs": [
        {
          "output_type": "execute_result",
          "data": {
            "text/plain": [
              "(60000, 28, 28)"
            ]
          },
          "metadata": {
            "tags": []
          },
          "execution_count": 6
        }
      ]
    },
    {
      "cell_type": "code",
      "metadata": {
        "id": "NYchz8q6F8LZ",
        "colab_type": "code",
        "colab": {
          "base_uri": "https://localhost:8080/",
          "height": 54
        },
        "outputId": "716ce54f-26a4-4af7-b523-dfba38d9f4d3"
      },
      "source": [
        "print(\"Number of training examples :\", X_train.shape[0], \"and each image is of shape (%d, %d)\"%(X_train.shape[1], X_train.shape[2]))\n",
        "print(\"Number of test examples :\", X_test.shape[0], \"and each image is of shape (%d, %d)\"%(X_test.shape[1], X_test.shape[2]))"
      ],
      "execution_count": null,
      "outputs": [
        {
          "output_type": "stream",
          "text": [
            "Number of training examples : 60000 and each image is of shape (28, 28)\n",
            "Number of test examples : 10000 and each image is of shape (28, 28)\n"
          ],
          "name": "stdout"
        }
      ]
    },
    {
      "cell_type": "code",
      "metadata": {
        "id": "rHTm6CpRGAKX",
        "colab_type": "code",
        "colab": {
          "base_uri": "https://localhost:8080/",
          "height": 1000
        },
        "outputId": "c87a6e31-cda9-4b7e-df19-dc6188b85d93"
      },
      "source": [
        "# An example data point\n",
        "print(X_train[0])"
      ],
      "execution_count": null,
      "outputs": [
        {
          "output_type": "stream",
          "text": [
            "[[  0   0   0   0   0   0   0   0   0   0   0   0   0   0   0   0   0   0\n",
            "    0   0   0   0   0   0   0   0   0   0]\n",
            " [  0   0   0   0   0   0   0   0   0   0   0   0   0   0   0   0   0   0\n",
            "    0   0   0   0   0   0   0   0   0   0]\n",
            " [  0   0   0   0   0   0   0   0   0   0   0   0   0   0   0   0   0   0\n",
            "    0   0   0   0   0   0   0   0   0   0]\n",
            " [  0   0   0   0   0   0   0   0   0   0   0   0   0   0   0   0   0   0\n",
            "    0   0   0   0   0   0   0   0   0   0]\n",
            " [  0   0   0   0   0   0   0   0   0   0   0   0   0   0   0   0   0   0\n",
            "    0   0   0   0   0   0   0   0   0   0]\n",
            " [  0   0   0   0   0   0   0   0   0   0   0   0   3  18  18  18 126 136\n",
            "  175  26 166 255 247 127   0   0   0   0]\n",
            " [  0   0   0   0   0   0   0   0  30  36  94 154 170 253 253 253 253 253\n",
            "  225 172 253 242 195  64   0   0   0   0]\n",
            " [  0   0   0   0   0   0   0  49 238 253 253 253 253 253 253 253 253 251\n",
            "   93  82  82  56  39   0   0   0   0   0]\n",
            " [  0   0   0   0   0   0   0  18 219 253 253 253 253 253 198 182 247 241\n",
            "    0   0   0   0   0   0   0   0   0   0]\n",
            " [  0   0   0   0   0   0   0   0  80 156 107 253 253 205  11   0  43 154\n",
            "    0   0   0   0   0   0   0   0   0   0]\n",
            " [  0   0   0   0   0   0   0   0   0  14   1 154 253  90   0   0   0   0\n",
            "    0   0   0   0   0   0   0   0   0   0]\n",
            " [  0   0   0   0   0   0   0   0   0   0   0 139 253 190   2   0   0   0\n",
            "    0   0   0   0   0   0   0   0   0   0]\n",
            " [  0   0   0   0   0   0   0   0   0   0   0  11 190 253  70   0   0   0\n",
            "    0   0   0   0   0   0   0   0   0   0]\n",
            " [  0   0   0   0   0   0   0   0   0   0   0   0  35 241 225 160 108   1\n",
            "    0   0   0   0   0   0   0   0   0   0]\n",
            " [  0   0   0   0   0   0   0   0   0   0   0   0   0  81 240 253 253 119\n",
            "   25   0   0   0   0   0   0   0   0   0]\n",
            " [  0   0   0   0   0   0   0   0   0   0   0   0   0   0  45 186 253 253\n",
            "  150  27   0   0   0   0   0   0   0   0]\n",
            " [  0   0   0   0   0   0   0   0   0   0   0   0   0   0   0  16  93 252\n",
            "  253 187   0   0   0   0   0   0   0   0]\n",
            " [  0   0   0   0   0   0   0   0   0   0   0   0   0   0   0   0   0 249\n",
            "  253 249  64   0   0   0   0   0   0   0]\n",
            " [  0   0   0   0   0   0   0   0   0   0   0   0   0   0  46 130 183 253\n",
            "  253 207   2   0   0   0   0   0   0   0]\n",
            " [  0   0   0   0   0   0   0   0   0   0   0   0  39 148 229 253 253 253\n",
            "  250 182   0   0   0   0   0   0   0   0]\n",
            " [  0   0   0   0   0   0   0   0   0   0  24 114 221 253 253 253 253 201\n",
            "   78   0   0   0   0   0   0   0   0   0]\n",
            " [  0   0   0   0   0   0   0   0  23  66 213 253 253 253 253 198  81   2\n",
            "    0   0   0   0   0   0   0   0   0   0]\n",
            " [  0   0   0   0   0   0  18 171 219 253 253 253 253 195  80   9   0   0\n",
            "    0   0   0   0   0   0   0   0   0   0]\n",
            " [  0   0   0   0  55 172 226 253 253 253 253 244 133  11   0   0   0   0\n",
            "    0   0   0   0   0   0   0   0   0   0]\n",
            " [  0   0   0   0 136 253 253 253 212 135 132  16   0   0   0   0   0   0\n",
            "    0   0   0   0   0   0   0   0   0   0]\n",
            " [  0   0   0   0   0   0   0   0   0   0   0   0   0   0   0   0   0   0\n",
            "    0   0   0   0   0   0   0   0   0   0]\n",
            " [  0   0   0   0   0   0   0   0   0   0   0   0   0   0   0   0   0   0\n",
            "    0   0   0   0   0   0   0   0   0   0]\n",
            " [  0   0   0   0   0   0   0   0   0   0   0   0   0   0   0   0   0   0\n",
            "    0   0   0   0   0   0   0   0   0   0]]\n"
          ],
          "name": "stdout"
        }
      ]
    },
    {
      "cell_type": "code",
      "metadata": {
        "id": "zqqCMCP7G3Pa",
        "colab_type": "code",
        "colab": {
          "base_uri": "https://localhost:8080/",
          "height": 716
        },
        "outputId": "f8376d9a-971e-4ca1-f705-dc6d33631eb3"
      },
      "source": [
        "plt.figure(figsize=(12, 12))\n",
        "np.random.seed(0)\n",
        "idx = np.random.randint(0, 60000, 9)\n",
        "\n",
        "for i in range(len(idx)):\n",
        "    plt.subplot(3, 3, i+1)\n",
        "    plt.title(y_train[idx[i]])\n",
        "    grid_data = np.reshape(X_train[idx[i]], (28,28))\n",
        "    plt.imshow(grid_data, cmap='gray')\n"
      ],
      "execution_count": null,
      "outputs": [
        {
          "output_type": "display_data",
          "data": {
            "image/png": "[encoded data removed]",
            "text/plain": [
              "<Figure size 864x864 with 9 Axes>"
            ]
          },
          "metadata": {
            "tags": [],
            "needs_background": "light"
          }
        }
      ]
    },
    {
      "cell_type": "markdown",
      "metadata": {
        "id": "a3fzyltQg8aC",
        "colab_type": "text"
      },
      "source": [
        "# Data Preprocessing"
      ]
    },
    {
      "cell_type": "code",
      "metadata": {
        "id": "kx_Ddr6lHdPY",
        "colab_type": "code",
        "colab": {}
      },
      "source": [
        "# if we observe the above matrix each cell is having a value between 0-255\n",
        "# before we move to apply machine learning algorithms lets try to normalize the data\n",
        "# X => (X - Xmin)/(Xmax-Xmin) = X/255\n",
        "\n",
        "X_train = X_train/255\n",
        "X_test = X_test/255"
      ],
      "execution_count": null,
      "outputs": []
    },
    {
      "cell_type": "code",
      "metadata": {
        "id": "Q3FY9FCrIjtX",
        "colab_type": "code",
        "colab": {
          "base_uri": "https://localhost:8080/",
          "height": 716
        },
        "outputId": "9c408387-514d-4f98-a92f-811bba352364"
      },
      "source": [
        "plt.figure(figsize=(12, 12))\n",
        "np.random.seed(0)\n",
        "idx = np.random.randint(0, 60000, 9)\n",
        "\n",
        "for i in range(len(idx)):\n",
        "    plt.subplot(3, 3, i+1)\n",
        "    plt.title(y_train[idx[i]])\n",
        "    grid_data = np.reshape(X_train[idx[i]], (28,28))\n",
        "    plt.imshow(grid_data, cmap='gray')\n"
      ],
      "execution_count": null,
      "outputs": [
        {
          "output_type": "display_data",
          "data": {
            "image/png": "[encoded data removed]",
            "text/plain": [
              "<Figure size 864x864 with 9 Axes>"
            ]
          },
          "metadata": {
            "tags": [],
            "needs_background": "light"
          }
        }
      ]
    },
    {
      "cell_type": "code",
      "metadata": {
        "id": "V2ON54TNYNLK",
        "colab_type": "code",
        "colab": {}
      },
      "source": [
        "X_train_o = X_train\n",
        "X_test_o = X_test"
      ],
      "execution_count": null,
      "outputs": []
    },
    {
      "cell_type": "code",
      "metadata": {
        "id": "LFpk2xVXVTtb",
        "colab_type": "code",
        "colab": {
          "base_uri": "https://localhost:8080/",
          "height": 54
        },
        "outputId": "92257165-16e2-4191-fd15-6b92e1f8d8f2"
      },
      "source": [
        "X_train = X_train.reshape(60000, 784)\n",
        "X_test = X_test.reshape(10000, 784)\n",
        "X_train = X_train.astype('float32')\n",
        "X_test = X_test.astype('float32')\n",
        "\n",
        "# print the final input shape ready for training\n",
        "print(\"Train matrix shape\", X_train.shape)\n",
        "print(\"Test matrix shape\", X_test.shape)"
      ],
      "execution_count": null,
      "outputs": [
        {
          "output_type": "stream",
          "text": [
            "Train matrix shape (60000, 784)\n",
            "Test matrix shape (10000, 784)\n"
          ],
          "name": "stdout"
        }
      ]
    },
    {
      "cell_type": "code",
      "metadata": {
        "id": "XkfGsNyIImrU",
        "colab_type": "code",
        "colab": {
          "base_uri": "https://localhost:8080/",
          "height": 54
        },
        "outputId": "59391277-2419-427e-e96c-604882465196"
      },
      "source": [
        "# here we are having a class number for each image\n",
        "print(\"Class label of first image :\", y_train[0])\n",
        "\n",
        "# lets convert this into a 10 dimensional vector\n",
        "# ex: consider an image is 5 convert it into 5 => [0, 0, 0, 0, 0, 1, 0, 0, 0, 0]\n",
        "# this conversion needed for MLPs \n",
        "\n",
        "Y_train = np_utils.to_categorical(y_train, 10) \n",
        "Y_test = np_utils.to_categorical(y_test, 10)\n",
        "\n",
        "print(\"After converting the output into a vector : \",Y_train[0])"
      ],
      "execution_count": null,
      "outputs": [
        {
          "output_type": "stream",
          "text": [
            "Class label of first image : 5\n",
            "After converting the output into a vector :  [0. 0. 0. 0. 0. 1. 0. 0. 0. 0.]\n"
          ],
          "name": "stdout"
        }
      ]
    },
    {
      "cell_type": "markdown",
      "metadata": {
        "id": "WAhsOhJLKLQz",
        "colab_type": "text"
      },
      "source": [
        "# Softmax classifier"
      ]
    },
    {
      "cell_type": "code",
      "metadata": {
        "id": "eqz3Wja7KjXe",
        "colab_type": "code",
        "colab": {}
      },
      "source": [
        "# Define the Model\n",
        "model = None\n",
        "model = Sequential()\n",
        "\n",
        "model.add(Dense(10, input_dim=784, activation='softmax'))"
      ],
      "execution_count": null,
      "outputs": []
    },
    {
      "cell_type": "code",
      "metadata": {
        "id": "mzIAfUogU1xq",
        "colab_type": "code",
        "colab": {
          "base_uri": "https://localhost:8080/",
          "height": 204
        },
        "outputId": "983a5852-80d3-455d-c2e0-6bed356198d9"
      },
      "source": [
        "model.summary()"
      ],
      "execution_count": null,
      "outputs": [
        {
          "output_type": "stream",
          "text": [
            "Model: \"sequential\"\n",
            "_________________________________________________________________\n",
            "Layer (type)                 Output Shape              Param #   \n",
            "=================================================================\n",
            "dense (Dense)                (None, 10)                7850      \n",
            "=================================================================\n",
            "Total params: 7,850\n",
            "Trainable params: 7,850\n",
            "Non-trainable params: 0\n",
            "_________________________________________________________________\n"
          ],
          "name": "stdout"
        }
      ]
    },
    {
      "cell_type": "code",
      "metadata": {
        "id": "fnWGhZhYK8v-",
        "colab_type": "code",
        "colab": {}
      },
      "source": [
        "# Compile the Model\n",
        "\n",
        "model.compile(optimizer='adam', \n",
        "              loss='categorical_crossentropy', \n",
        "              metrics=['accuracy'])"
      ],
      "execution_count": null,
      "outputs": []
    },
    {
      "cell_type": "code",
      "metadata": {
        "id": "4g-CYVRVLDUp",
        "colab_type": "code",
        "colab": {
          "base_uri": "https://localhost:8080/",
          "height": 410
        },
        "outputId": "e14a80f2-49e6-4f72-9352-44a9eb608bb9"
      },
      "source": [
        "# Fit the Model\n",
        "\n",
        "model.fit(X_train, Y_train, batch_size=128, epochs=10)"
      ],
      "execution_count": null,
      "outputs": [
        {
          "output_type": "stream",
          "text": [
            "Epoch 1/10\n",
            "469/469 [==============================] - 1s 2ms/step - loss: 0.6790 - accuracy: 0.8310\n",
            "Epoch 2/10\n",
            "469/469 [==============================] - 1s 3ms/step - loss: 0.3626 - accuracy: 0.9019\n",
            "Epoch 3/10\n",
            "469/469 [==============================] - 1s 3ms/step - loss: 0.3194 - accuracy: 0.9122\n",
            "Epoch 4/10\n",
            "469/469 [==============================] - 1s 2ms/step - loss: 0.2995 - accuracy: 0.9170\n",
            "Epoch 5/10\n",
            "469/469 [==============================] - 1s 3ms/step - loss: 0.2878 - accuracy: 0.9200\n",
            "Epoch 6/10\n",
            "469/469 [==============================] - 1s 2ms/step - loss: 0.2800 - accuracy: 0.9222\n",
            "Epoch 7/10\n",
            "469/469 [==============================] - 1s 3ms/step - loss: 0.2739 - accuracy: 0.9232\n",
            "Epoch 8/10\n",
            "469/469 [==============================] - 1s 2ms/step - loss: 0.2690 - accuracy: 0.9254\n",
            "Epoch 9/10\n",
            "469/469 [==============================] - 1s 2ms/step - loss: 0.2655 - accuracy: 0.9261\n",
            "Epoch 10/10\n",
            "469/469 [==============================] - 1s 2ms/step - loss: 0.2621 - accuracy: 0.9275\n"
          ],
          "name": "stdout"
        },
        {
          "output_type": "execute_result",
          "data": {
            "text/plain": [
              "<tensorflow.python.keras.callbacks.History at 0x7f34201fd5c0>"
            ]
          },
          "metadata": {
            "tags": []
          },
          "execution_count": 18
        }
      ]
    },
    {
      "cell_type": "code",
      "metadata": {
        "id": "53FKfOX1LGVX",
        "colab_type": "code",
        "colab": {
          "base_uri": "https://localhost:8080/",
          "height": 36
        },
        "outputId": "33cbe20a-05f0-4132-aa4a-00bce48c5e3d"
      },
      "source": [
        "prediction_score = model.evaluate(X_test, Y_test, verbose=0)\n",
        "\n",
        "print('Test Loss and Test Accuracy', prediction_score)"
      ],
      "execution_count": null,
      "outputs": [
        {
          "output_type": "stream",
          "text": [
            "Test Loss and Test Accuracy [0.2677675783634186, 0.9265999794006348]\n"
          ],
          "name": "stdout"
        }
      ]
    },
    {
      "cell_type": "markdown",
      "metadata": {
        "id": "Orpjq104avfu",
        "colab_type": "text"
      },
      "source": [
        "# Sigmoid Activation"
      ]
    },
    {
      "cell_type": "code",
      "metadata": {
        "id": "j76HL5HUZa-u",
        "colab_type": "code",
        "colab": {}
      },
      "source": [
        "# Define the Model\n",
        "\n",
        "model_sigmoid = None\n",
        "model_sigmoid = Sequential()\n",
        "\n",
        "model_sigmoid.add(Dense(512, input_dim=784, activation='sigmoid', kernel_initializer='glorot_normal'))\n",
        "model_sigmoid.add(Dropout(0.3))\n",
        "\n",
        "model_sigmoid.add(Dense(128, activation='sigmoid', kernel_initializer='glorot_normal'))\n",
        "model_sigmoid.add(Dropout(0.3))\n",
        "\n",
        "model_sigmoid.add(Dense(10, activation='softmax'))"
      ],
      "execution_count": null,
      "outputs": []
    },
    {
      "cell_type": "code",
      "metadata": {
        "id": "-A7icX40bdNn",
        "colab_type": "code",
        "colab": {
          "base_uri": "https://localhost:8080/",
          "height": 354
        },
        "outputId": "54380eaa-ea4c-4224-cd82-d5d80d8092d7"
      },
      "source": [
        "model_sigmoid.summary()"
      ],
      "execution_count": null,
      "outputs": [
        {
          "output_type": "stream",
          "text": [
            "Model: \"sequential_1\"\n",
            "_________________________________________________________________\n",
            "Layer (type)                 Output Shape              Param #   \n",
            "=================================================================\n",
            "dense_1 (Dense)              (None, 512)               401920    \n",
            "_________________________________________________________________\n",
            "dropout (Dropout)            (None, 512)               0         \n",
            "_________________________________________________________________\n",
            "dense_2 (Dense)              (None, 128)               65664     \n",
            "_________________________________________________________________\n",
            "dropout_1 (Dropout)          (None, 128)               0         \n",
            "_________________________________________________________________\n",
            "dense_3 (Dense)              (None, 10)                1290      \n",
            "=================================================================\n",
            "Total params: 468,874\n",
            "Trainable params: 468,874\n",
            "Non-trainable params: 0\n",
            "_________________________________________________________________\n"
          ],
          "name": "stdout"
        }
      ]
    },
    {
      "cell_type": "code",
      "metadata": {
        "id": "fZ0i74GJbg3l",
        "colab_type": "code",
        "colab": {}
      },
      "source": [
        "# Compile the Model\n",
        "\n",
        "model_sigmoid.compile(optimizer='adam', \n",
        "              loss='categorical_crossentropy', \n",
        "              metrics=['accuracy'])"
      ],
      "execution_count": null,
      "outputs": []
    },
    {
      "cell_type": "code",
      "metadata": {
        "id": "aRuJHRuPb1F6",
        "colab_type": "code",
        "colab": {
          "base_uri": "https://localhost:8080/",
          "height": 410
        },
        "outputId": "cac0ea4a-8865-41cf-cb16-a1eb82973152"
      },
      "source": [
        "# Fit the Model\n",
        "\n",
        "model_sigmoid.fit(X_train, Y_train, batch_size=128, epochs=10)"
      ],
      "execution_count": null,
      "outputs": [
        {
          "output_type": "stream",
          "text": [
            "Epoch 1/10\n",
            "469/469 [==============================] - 1s 3ms/step - loss: 0.6504 - accuracy: 0.8073\n",
            "Epoch 2/10\n",
            "469/469 [==============================] - 1s 3ms/step - loss: 0.2874 - accuracy: 0.9148\n",
            "Epoch 3/10\n",
            "469/469 [==============================] - 1s 3ms/step - loss: 0.2205 - accuracy: 0.9348\n",
            "Epoch 4/10\n",
            "469/469 [==============================] - 1s 3ms/step - loss: 0.1795 - accuracy: 0.9470\n",
            "Epoch 5/10\n",
            "469/469 [==============================] - 1s 3ms/step - loss: 0.1488 - accuracy: 0.9560\n",
            "Epoch 6/10\n",
            "469/469 [==============================] - 1s 3ms/step - loss: 0.1275 - accuracy: 0.9624\n",
            "Epoch 7/10\n",
            "469/469 [==============================] - 1s 3ms/step - loss: 0.1094 - accuracy: 0.9675\n",
            "Epoch 8/10\n",
            "469/469 [==============================] - 2s 3ms/step - loss: 0.0970 - accuracy: 0.9711\n",
            "Epoch 9/10\n",
            "469/469 [==============================] - 2s 3ms/step - loss: 0.0875 - accuracy: 0.9734\n",
            "Epoch 10/10\n",
            "469/469 [==============================] - 2s 3ms/step - loss: 0.0782 - accuracy: 0.9761\n"
          ],
          "name": "stdout"
        },
        {
          "output_type": "execute_result",
          "data": {
            "text/plain": [
              "<tensorflow.python.keras.callbacks.History at 0x7f343158f780>"
            ]
          },
          "metadata": {
            "tags": []
          },
          "execution_count": 23
        }
      ]
    },
    {
      "cell_type": "code",
      "metadata": {
        "id": "PDeHlZqKb3bi",
        "colab_type": "code",
        "colab": {
          "base_uri": "https://localhost:8080/",
          "height": 36
        },
        "outputId": "78fd759e-0be0-418b-863f-c5b0484c8d1c"
      },
      "source": [
        "prediction_score = model_sigmoid.evaluate(X_test, Y_test, verbose=0)\n",
        "\n",
        "print('Test Loss and Test Accuracy', prediction_score)"
      ],
      "execution_count": null,
      "outputs": [
        {
          "output_type": "stream",
          "text": [
            "Test Loss and Test Accuracy [0.073416568338871, 0.9757000207901001]\n"
          ],
          "name": "stdout"
        }
      ]
    },
    {
      "cell_type": "markdown",
      "metadata": {
        "id": "VgGDtkuUdFnJ",
        "colab_type": "text"
      },
      "source": [
        "# ReLU Activation"
      ]
    },
    {
      "cell_type": "code",
      "metadata": {
        "id": "0Ef0StmEcmAF",
        "colab_type": "code",
        "colab": {
          "base_uri": "https://localhost:8080/",
          "height": 410
        },
        "outputId": "8527078b-4157-4da3-990a-c834b65cabf9"
      },
      "source": [
        "# Define the Model\n",
        "\n",
        "model_relu = None\n",
        "model_relu = Sequential()\n",
        "\n",
        "# FC - 512\n",
        "model_relu.add(Dense(512, input_dim=784, activation='relu', kernel_initializer='he_normal'))\n",
        "model_relu.add(BatchNormalization())\n",
        "model_relu.add(Dropout(0.3))\n",
        "\n",
        "# FC - 128\n",
        "model_relu.add(Dense(128, activation='relu', kernel_initializer='he_normal'))\n",
        "model_relu.add(BatchNormalization())\n",
        "model_relu.add(Dropout(0.3))\n",
        "\n",
        "# FC - 10\n",
        "model_relu.add(Dense(10, activation='softmax'))\n",
        "\n",
        "# Compile the Model\n",
        "\n",
        "model_relu.compile(optimizer='adam', loss='categorical_crossentropy', metrics=['accuracy'])\n",
        "\n",
        "# Fit the Model\n",
        "\n",
        "model_relu.fit(X_train, Y_train, batch_size=128, epochs=10)"
      ],
      "execution_count": null,
      "outputs": [
        {
          "output_type": "stream",
          "text": [
            "Epoch 1/10\n",
            "469/469 [==============================] - 2s 5ms/step - loss: 0.2889 - accuracy: 0.9126\n",
            "Epoch 2/10\n",
            "469/469 [==============================] - 2s 5ms/step - loss: 0.1336 - accuracy: 0.9600\n",
            "Epoch 3/10\n",
            "469/469 [==============================] - 2s 4ms/step - loss: 0.1050 - accuracy: 0.9679\n",
            "Epoch 4/10\n",
            "469/469 [==============================] - 2s 4ms/step - loss: 0.0845 - accuracy: 0.9742\n",
            "Epoch 5/10\n",
            "469/469 [==============================] - 2s 4ms/step - loss: 0.0737 - accuracy: 0.9764\n",
            "Epoch 6/10\n",
            "469/469 [==============================] - 2s 4ms/step - loss: 0.0659 - accuracy: 0.9783\n",
            "Epoch 7/10\n",
            "469/469 [==============================] - 2s 4ms/step - loss: 0.0575 - accuracy: 0.9815\n",
            "Epoch 8/10\n",
            "469/469 [==============================] - 2s 4ms/step - loss: 0.0527 - accuracy: 0.9827\n",
            "Epoch 9/10\n",
            "469/469 [==============================] - 2s 4ms/step - loss: 0.0487 - accuracy: 0.9846\n",
            "Epoch 10/10\n",
            "469/469 [==============================] - 2s 4ms/step - loss: 0.0444 - accuracy: 0.9855\n"
          ],
          "name": "stdout"
        },
        {
          "output_type": "execute_result",
          "data": {
            "text/plain": [
              "<tensorflow.python.keras.callbacks.History at 0x7f3431d0dbe0>"
            ]
          },
          "metadata": {
            "tags": []
          },
          "execution_count": 25
        }
      ]
    },
    {
      "cell_type": "code",
      "metadata": {
        "id": "iOBORMeidtvg",
        "colab_type": "code",
        "colab": {
          "base_uri": "https://localhost:8080/",
          "height": 36
        },
        "outputId": "d8e47a2d-4a98-4c8e-c327-d53f4f5f04fc"
      },
      "source": [
        "prediction_score = model_relu.evaluate(X_test, Y_test, verbose=0)\n",
        "\n",
        "print('Test Loss and Test Accuracy', prediction_score)"
      ],
      "execution_count": null,
      "outputs": [
        {
          "output_type": "stream",
          "text": [
            "Test Loss and Test Accuracy [0.06081930547952652, 0.9810000061988831]\n"
          ],
          "name": "stdout"
        }
      ]
    },
    {
      "cell_type": "markdown",
      "metadata": {
        "id": "KVA5UBgRX328",
        "colab_type": "text"
      },
      "source": [
        "# Flatten"
      ]
    },
    {
      "cell_type": "code",
      "metadata": {
        "id": "Iw9rDQbUX5oS",
        "colab_type": "code",
        "colab": {
          "base_uri": "https://localhost:8080/",
          "height": 36
        },
        "outputId": "f41ea6c1-e54a-4c89-f221-30b6f92c8faf"
      },
      "source": [
        "print(X_train_o.shape, X_test_o.shape)"
      ],
      "execution_count": null,
      "outputs": [
        {
          "output_type": "stream",
          "text": [
            "(60000, 28, 28) (10000, 28, 28)\n"
          ],
          "name": "stdout"
        }
      ]
    },
    {
      "cell_type": "code",
      "metadata": {
        "id": "C8phIORLX7P8",
        "colab_type": "code",
        "colab": {
          "base_uri": "https://localhost:8080/",
          "height": 410
        },
        "outputId": "b0b70b1b-d4ff-4275-e3b3-889ef1c05e8d"
      },
      "source": [
        "# Define the Model\n",
        "\n",
        "model_relu_flat = None\n",
        "model_relu_flat = Sequential()\n",
        "\n",
        "# Flatten\n",
        "model_relu_flat.add(Flatten(input_shape=(28, 28)))\n",
        "\n",
        "# FC - 512\n",
        "model_relu_flat.add(Dense(512, activation='relu', kernel_initializer='he_normal'))\n",
        "model_relu_flat.add(BatchNormalization())\n",
        "model_relu_flat.add(Dropout(0.3))\n",
        "\n",
        "# FC - 128\n",
        "model_relu_flat.add(Dense(128, activation='relu', kernel_initializer='he_normal'))\n",
        "model_relu_flat.add(BatchNormalization())\n",
        "model_relu_flat.add(Dropout(0.3))\n",
        "\n",
        "# FC - 10\n",
        "# Softmax\n",
        "model_relu_flat.add(Dense(10, activation='softmax'))\n",
        "\n",
        "# Compile the Model\n",
        "\n",
        "model_relu_flat.compile(optimizer='adam', loss='categorical_crossentropy', metrics=['accuracy'])\n",
        "\n",
        "# Fit the Model\n",
        "\n",
        "model_relu_flat.fit(X_train_o, Y_train, batch_size=128, epochs=10)"
      ],
      "execution_count": null,
      "outputs": [
        {
          "output_type": "stream",
          "text": [
            "Epoch 1/10\n",
            "469/469 [==============================] - 2s 4ms/step - loss: 0.2862 - accuracy: 0.9129\n",
            "Epoch 2/10\n",
            "469/469 [==============================] - 2s 4ms/step - loss: 0.1347 - accuracy: 0.9585\n",
            "Epoch 3/10\n",
            "469/469 [==============================] - 2s 4ms/step - loss: 0.1024 - accuracy: 0.9684\n",
            "Epoch 4/10\n",
            "469/469 [==============================] - 2s 4ms/step - loss: 0.0839 - accuracy: 0.9740\n",
            "Epoch 5/10\n",
            "469/469 [==============================] - 2s 4ms/step - loss: 0.0746 - accuracy: 0.9773\n",
            "Epoch 6/10\n",
            "469/469 [==============================] - 2s 4ms/step - loss: 0.0648 - accuracy: 0.9788\n",
            "Epoch 7/10\n",
            "469/469 [==============================] - 2s 4ms/step - loss: 0.0588 - accuracy: 0.9810\n",
            "Epoch 8/10\n",
            "469/469 [==============================] - 2s 4ms/step - loss: 0.0518 - accuracy: 0.9831\n",
            "Epoch 9/10\n",
            "469/469 [==============================] - 2s 4ms/step - loss: 0.0468 - accuracy: 0.9848\n",
            "Epoch 10/10\n",
            "469/469 [==============================] - 2s 4ms/step - loss: 0.0427 - accuracy: 0.9859\n"
          ],
          "name": "stdout"
        },
        {
          "output_type": "execute_result",
          "data": {
            "text/plain": [
              "<tensorflow.python.keras.callbacks.History at 0x7f33d4033c88>"
            ]
          },
          "metadata": {
            "tags": []
          },
          "execution_count": 30
        }
      ]
    },
    {
      "cell_type": "code",
      "metadata": {
        "id": "t5BGYxPja-BC",
        "colab_type": "code",
        "colab": {
          "base_uri": "https://localhost:8080/",
          "height": 36
        },
        "outputId": "c0704d82-b62f-45e0-8574-c35b904b91fa"
      },
      "source": [
        "prediction_score = model_relu_flat.evaluate(X_test_o, Y_test, verbose=0)\n",
        "\n",
        "print('Test Loss and Test Accuracy', prediction_score)"
      ],
      "execution_count": null,
      "outputs": [
        {
          "output_type": "stream",
          "text": [
            "Test Loss and Test Accuracy [0.060686271637678146, 0.9815999865531921]\n"
          ],
          "name": "stdout"
        }
      ]
    }
  ]
}