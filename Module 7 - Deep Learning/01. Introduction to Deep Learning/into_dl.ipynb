{
 "cells": [
  {
   "cell_type": "markdown",
   "id": "6e3b9c99",
   "metadata": {},
   "source": [
    "# Introduction to Deep Learning\n",
    "\n",
    "Human Intelligence has always been fascinating for scientist. Understanding how brain works can answer a lot of important questions. Because of a lot of research in the area of neuro science, there is a vague understanding on how the brain works. We know that there is something called as **BIOLOGICAL NEURON** which acts as abasic building block. \n",
    "\n",
    "![BIOLOGICAL_NEURON](img/5.jpg)\n",
    "\n",
    "---"
   ]
  },
  {
   "cell_type": "markdown",
   "id": "c459b9e7",
   "metadata": {},
   "source": [
    "## History\n",
    "\n",
    "![DEEP_LEARNING](img/turing_award.png)\n",
    "\n",
    "---\n",
    "- 1957 - Perceptron based model by Rosenblatt\n",
    "- 1960's to 1980's - Attempts at creating the network of artificial neurons\n",
    "- 1986 - Back Propogation using chain rule of differentiation by Geoffery Hinton\n",
    "- 1990's - Winter for DL - Not enough compute power \n",
    "- 1995 - 2006 - SVM, GBD, RF models became powerful\n",
    "- 2006 - How to train Deep Neural Network by Geoffery Hinton\n",
    "- 2012 - Come back of DL in ImageNet Competition (Detect objects in images). A team used deep neural network and won the competition by very huge margin.\n",
    "- 2014 - Dropouts by Nitish Srivastava (To prevent Overfitting problem)\n",
    "\n",
    "![CASE_STUDY](img/7.png)\n",
    "\n",
    "---\n",
    "\n",
    "## Notation\n",
    "- Input Layer\n",
    "- Hidden Layer\n",
    "- Output Layer\n",
    "\n",
    "![DEEP_NETWORK](img/8.png)"
   ]
  },
  {
   "cell_type": "markdown",
   "id": "1e75c097",
   "metadata": {},
   "source": [
    "## How biological neuron works?\n",
    "- Neuron activates or fires when there is enough input\n",
    "- Activation function\n",
    "\n",
    "$$ O = f(\\sum_{i=1}^{d} w_i*x_i) $$\n",
    "\n",
    "\n",
    "![NEURON_PERCEPTRON](img/6.png)\n",
    "\n",
    "---\n",
    "\n",
    "## Specifications of Neural Network\n",
    "\n",
    "1. Topology (i.e. Structure) - Nodes(i.e. Neurons) and Edges(i.e. Interconnections)\n",
    "2. Input Layer (Depends on the number of features), Hidden Layers and Output Layer (For regression 1 neuron and for classification number of neurons is equal to number of classes)\n",
    "3. Weights and Bias\n",
    "4. Activation Functions\n",
    "\n",
    "---\n",
    "\n",
    "## Activation function\n",
    "- Sigmoid - Vanishing Gradient Problem (Convergence is slow)\n",
    "- Tanh - Vanishing Gradient Problem (Convergence is slow)\n",
    "- ReLU (Rectified Linear Unit)\n",
    "\n",
    "\n",
    "![ACTIVATION_FUNCTION](img/9.jpg)\n",
    "\n",
    "---"
   ]
  },
  {
   "cell_type": "markdown",
   "id": "3f28f2f7",
   "metadata": {},
   "source": [
    "## Assumptions of Neural Network\n",
    "\n",
    "1. Neurons are arranged in layers.\n",
    "2. Multiple layers of neurons exists and these layers are arranged sequentially.\n",
    "3. Neurons which belong to same layer won't interact.\n",
    "4. Neurons are densely connected with the adjacent layer neurons.\n",
    "5. Every edge will have a weight associated with it.\n",
    "6. All neurons will have the same activation function.\n",
    "\n",
    "**NOTE - All the neurons are arranged in layers and the layers are arranged in the sequence with the first layer being the input layer and last layer being the output layer and everything in between are the hidden layers. There are interconnections between the pairs of consecutive layers.**"
   ]
  },
  {
   "cell_type": "markdown",
   "id": "875ae4f9",
   "metadata": {},
   "source": [
    "## Notations\n",
    "\n",
    "---\n",
    "\n",
    "**Add an image to demonstrate.**\n",
    "\n",
    "---\n",
    "\n",
    "**Activation Function**\n",
    "$$ \n",
    "f_{ij} \\rightarrow O_{ij} \\\\\n",
    "i: Layer Number \\\\\n",
    "j: Neuron Number\n",
    "$$\n",
    "\n",
    "**Weights**\n",
    "$$\n",
    "W_{ij}^{k} \\\\\n",
    "i: From \\ j: To \\\\\n",
    "k: To Layer Number\n",
    "$$\n",
    "\n",
    "**Weight Matrix:**\n",
    "$ W^1 $\n",
    "\\begin{pmatrix}\n",
    "w_{11} & w_{12} & w_{13}\\\\\n",
    "w_{21} & w_{22} & w_{23}\\\\\n",
    "w_{31} & w_{32} & w_{33}\\\\\n",
    "w_{41} & w_{42} & w_{43}\\\\\n",
    "\\end{pmatrix}\n",
    "\n"
   ]
  },
  {
   "cell_type": "markdown",
   "id": "d691aeda",
   "metadata": {},
   "source": [
    "## Training a Neural Network\n",
    "\n",
    "1. Randomly initialize $ W_{ij}^{k} $.\n",
    "2. **Forward Propogation** - Feed forward ith datapoint.\n",
    "3. Computer loss for ith data point $ L(y_i', y_i) $. \n",
    "4. **Backward Propogation** - Compute the derivatives using chain rule of derivation and memoization. \n",
    "5. Update the weights from end of the network to start.\n",
    "$$\n",
    "(W_{ij}^{k})_{new} = (W_{ij}^{k})_{old} - r*\\frac{\\partial L}{\\partial W}\n",
    "$$\n",
    "6. Repeat step 2 to 5 until convergence.\n",
    "\n",
    "---\n",
    "\n",
    "**Epoch** - One epoch of training means you have inputed all the training datapointsonce through the neural network. In real time, we run training for multiple epochs.\n",
    "\n",
    "**Mini-Batch** - Instead of 1 point at a time, pass a minibatch of size 32, 64, 128, 256, etc through the network."
   ]
  }
 ],
 "metadata": {
  "kernelspec": {
   "display_name": "Python 3 (ipykernel)",
   "language": "python",
   "name": "python3"
  },
  "language_info": {
   "codemirror_mode": {
    "name": "ipython",
    "version": 3
   },
   "file_extension": ".py",
   "mimetype": "text/x-python",
   "name": "python",
   "nbconvert_exporter": "python",
   "pygments_lexer": "ipython3",
   "version": "3.9.12"
  }
 },
 "nbformat": 4,
 "nbformat_minor": 5
}
