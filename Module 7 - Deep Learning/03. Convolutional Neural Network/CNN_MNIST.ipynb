{
  "nbformat": 4,
  "nbformat_minor": 0,
  "metadata": {
    "accelerator": "GPU",
    "colab": {
      "provenance": []
    },
    "kernelspec": {
      "display_name": "Python 3",
      "name": "python3"
    },
    "gpuClass": "standard"
  },
  "cells": [
    {
      "cell_type": "markdown",
      "metadata": {
        "id": "2ag5-vOMfCxi"
      },
      "source": [
        "# Importing the required libraries"
      ]
    },
    {
      "cell_type": "code",
      "metadata": {
        "id": "GOdD67p9eiEV"
      },
      "source": [
        "# Helper Libraries\n",
        "\n",
        "import numpy as np\n",
        "import pandas as pd\n",
        "import matplotlib.pyplot as plt\n",
        "import seaborn as sns"
      ],
      "execution_count": 1,
      "outputs": []
    },
    {
      "cell_type": "code",
      "metadata": {
        "colab": {
          "base_uri": "https://localhost:8080/"
        },
        "id": "OW6QtnCyfCKI",
        "outputId": "45edc646-9dbb-4835-c2f3-a828d90d5dd6"
      },
      "source": [
        "# TensorFlow and tf.keras\n",
        "\n",
        "import tensorflow as tf\n",
        "from tensorflow import keras\n",
        "\n",
        "print(tf.__version__)\n",
        "\n",
        "print(keras.__version__)"
      ],
      "execution_count": 2,
      "outputs": [
        {
          "output_type": "stream",
          "name": "stdout",
          "text": [
            "2.11.0\n",
            "2.11.0\n"
          ]
        }
      ]
    },
    {
      "cell_type": "code",
      "metadata": {
        "id": "2AroiaEafP_Q"
      },
      "source": [
        "from keras.utils import np_utils\n",
        "from keras.models import Sequential \n",
        "from keras.layers import Dense, Dropout, BatchNormalization\n",
        "from keras.layers import Conv2D, MaxPooling2D, Flatten"
      ],
      "execution_count": 3,
      "outputs": []
    },
    {
      "cell_type": "code",
      "metadata": {
        "id": "gV3wX3msfSTM"
      },
      "source": [
        "from keras.datasets import mnist"
      ],
      "execution_count": 4,
      "outputs": []
    },
    {
      "cell_type": "markdown",
      "metadata": {
        "id": "O1bj_XFpfcm6"
      },
      "source": [
        "# Load the Data"
      ]
    },
    {
      "cell_type": "code",
      "metadata": {
        "id": "LC9UkQXefUj4",
        "colab": {
          "base_uri": "https://localhost:8080/"
        },
        "outputId": "b17f38d7-cd7a-45fd-ad62-099df7ab31bb"
      },
      "source": [
        "(X_train, y_train), (X_test, y_test) = mnist.load_data()"
      ],
      "execution_count": 5,
      "outputs": [
        {
          "output_type": "stream",
          "name": "stdout",
          "text": [
            "Downloading data from https://storage.googleapis.com/tensorflow/tf-keras-datasets/mnist.npz\n",
            "11490434/11490434 [==============================] - 0s 0us/step\n"
          ]
        }
      ]
    },
    {
      "cell_type": "code",
      "metadata": {
        "colab": {
          "base_uri": "https://localhost:8080/"
        },
        "id": "yylIphOCfhdt",
        "outputId": "501ce4be-e339-4000-b6aa-111cc7a1da24"
      },
      "source": [
        "X_train.shape"
      ],
      "execution_count": 6,
      "outputs": [
        {
          "output_type": "execute_result",
          "data": {
            "text/plain": [
              "(60000, 28, 28)"
            ]
          },
          "metadata": {},
          "execution_count": 6
        }
      ]
    },
    {
      "cell_type": "code",
      "metadata": {
        "colab": {
          "base_uri": "https://localhost:8080/",
          "height": 716
        },
        "id": "2etQJqZDOMjt",
        "outputId": "d438dda0-8c8b-4cfb-ea28-b5e9fc0e7b45"
      },
      "source": [
        "plt.figure(figsize=(12, 12))\n",
        "np.random.seed(0)\n",
        "idx = np.random.randint(0, 60000, 9)\n",
        "\n",
        "for i in range(len(idx)):\n",
        "    plt.subplot(3, 3, i+1)\n",
        "    plt.title(y_train[idx[i]])\n",
        "    grid_data = np.reshape(X_train[idx[i]], (28,28))\n",
        "    plt.imshow(grid_data, cmap='gray')"
      ],
      "execution_count": 7,
      "outputs": [
        {
          "output_type": "display_data",
          "data": {
            "text/plain": [
              "<Figure size 864x864 with 9 Axes>"
            ],
            "image/png": "[encoded data removed]"
          },
          "metadata": {
            "needs_background": "light"
          }
        }
      ]
    },
    {
      "cell_type": "code",
      "source": [
        "X_train.shape"
      ],
      "metadata": {
        "colab": {
          "base_uri": "https://localhost:8080/"
        },
        "id": "5-o3beDsuNMP",
        "outputId": "3f5d92eb-52f9-4996-bffd-f79c03e59606"
      },
      "execution_count": 8,
      "outputs": [
        {
          "output_type": "execute_result",
          "data": {
            "text/plain": [
              "(60000, 28, 28)"
            ]
          },
          "metadata": {},
          "execution_count": 8
        }
      ]
    },
    {
      "cell_type": "markdown",
      "metadata": {
        "id": "eMJs7-s2fr8H"
      },
      "source": [
        "# Data Preprocessing"
      ]
    },
    {
      "cell_type": "code",
      "metadata": {
        "id": "WEUwHOLRfkgM"
      },
      "source": [
        "# Type Conversion of Columns\n",
        "X_train = X_train.astype('float32')\n",
        "X_test = X_test.astype('float32')\n",
        "\n",
        "# Normalization\n",
        "X_train = X_train/255\n",
        "X_test = X_test/255\n",
        "\n",
        "# Adding the channel\n",
        "X_train = X_train.reshape(60000, 28, 28, 1)\n",
        "X_test = X_test.reshape(10000, 28, 28, 1)"
      ],
      "execution_count": 9,
      "outputs": []
    },
    {
      "cell_type": "code",
      "metadata": {
        "colab": {
          "base_uri": "https://localhost:8080/"
        },
        "id": "v6C2JJCMfo_H",
        "outputId": "f8e81505-5db3-4376-8917-268e5f8ee728"
      },
      "source": [
        "# here we are having a class number for each image\n",
        "print(\"Class label of first image :\", y_train[0])\n",
        "\n",
        "# lets convert this into a 10 dimensional vector\n",
        "# ex: consider an image is 5 convert it into 5 => [0, 0, 0, 0, 0, 1, 0, 0, 0, 0]\n",
        "# this conversion needed for MLPs \n",
        "\n",
        "Y_train = np_utils.to_categorical(y_train, 10) \n",
        "Y_test = np_utils.to_categorical(y_test, 10)\n",
        "\n",
        "print(\"After converting the output into a vector : \",Y_train[0])"
      ],
      "execution_count": 10,
      "outputs": [
        {
          "output_type": "stream",
          "name": "stdout",
          "text": [
            "Class label of first image : 5\n",
            "After converting the output into a vector :  [0. 0. 0. 0. 0. 1. 0. 0. 0. 0.]\n"
          ]
        }
      ]
    },
    {
      "cell_type": "markdown",
      "metadata": {
        "id": "2BKs_8lFf1-5"
      },
      "source": [
        "# Building the Model"
      ]
    },
    {
      "cell_type": "code",
      "metadata": {
        "colab": {
          "base_uri": "https://localhost:8080/"
        },
        "id": "nz8JFHkvf1aP",
        "outputId": "5bc5ef22-a8a2-4d2b-f578-b3686c742325"
      },
      "source": [
        "# STEP-1 Define the Model\n",
        "\n",
        "model = None\n",
        "model = Sequential()\n",
        "\n",
        "# conv3-32\n",
        "model.add(Conv2D(32, kernel_size=(3, 3), padding='same', input_shape=(28, 28, 1), activation='relu', kernel_initializer='he_normal'))\n",
        "\n",
        "# conv3-64\n",
        "model.add(Conv2D(64, (3, 3), activation='relu', kernel_initializer='he_normal'))\n",
        "\n",
        "# Maxpooling\n",
        "model.add(MaxPooling2D(pool_size=(2, 2)))\n",
        "model.add(Dropout(0.25))\n",
        "\n",
        "# Flatten\n",
        "model.add(Flatten())\n",
        "\n",
        "# FC-128\n",
        "model.add(Dense(128, activation='relu', kernel_initializer='he_normal'))\n",
        "model.add(Dropout(0.5))\n",
        "\n",
        "# FC-10\n",
        "model.add(Dense(10, activation='softmax'))\n",
        "\n",
        "\n",
        "# STEP-2 Compile the Model\n",
        "model.compile(optimizer='adam', loss='categorical_crossentropy', metrics=['accuracy'])\n",
        "\n",
        "\n",
        "# STEP-3 Fit the Model\n",
        "model.fit(X_train, Y_train, batch_size=128, epochs=10)\n"
      ],
      "execution_count": 11,
      "outputs": [
        {
          "output_type": "stream",
          "name": "stdout",
          "text": [
            "Epoch 1/10\n",
            "469/469 [==============================] - 16s 10ms/step - loss: 0.2340 - accuracy: 0.9290\n",
            "Epoch 2/10\n",
            "469/469 [==============================] - 5s 10ms/step - loss: 0.0841 - accuracy: 0.9756\n",
            "Epoch 3/10\n",
            "469/469 [==============================] - 5s 10ms/step - loss: 0.0623 - accuracy: 0.9807\n",
            "Epoch 4/10\n",
            "469/469 [==============================] - 5s 10ms/step - loss: 0.0528 - accuracy: 0.9837\n",
            "Epoch 5/10\n",
            "469/469 [==============================] - 5s 10ms/step - loss: 0.0426 - accuracy: 0.9871\n",
            "Epoch 6/10\n",
            "469/469 [==============================] - 4s 10ms/step - loss: 0.0386 - accuracy: 0.9879\n",
            "Epoch 7/10\n",
            "469/469 [==============================] - 6s 12ms/step - loss: 0.0340 - accuracy: 0.9891\n",
            "Epoch 8/10\n",
            "469/469 [==============================] - 5s 10ms/step - loss: 0.0280 - accuracy: 0.9911\n",
            "Epoch 9/10\n",
            "469/469 [==============================] - 5s 10ms/step - loss: 0.0286 - accuracy: 0.9903\n",
            "Epoch 10/10\n",
            "469/469 [==============================] - 5s 10ms/step - loss: 0.0232 - accuracy: 0.9920\n"
          ]
        },
        {
          "output_type": "execute_result",
          "data": {
            "text/plain": [
              "<keras.callbacks.History at 0x7f13b7a9dac0>"
            ]
          },
          "metadata": {},
          "execution_count": 11
        }
      ]
    },
    {
      "cell_type": "code",
      "metadata": {
        "colab": {
          "base_uri": "https://localhost:8080/"
        },
        "id": "4G1lQBKifxTB",
        "outputId": "73b67454-fb6b-4bb5-80af-61c22eef77f6"
      },
      "source": [
        "prediction_score = model.evaluate(X_test, Y_test, verbose=0)\n",
        "\n",
        "print('Test Loss and Test Accuracy', prediction_score)"
      ],
      "execution_count": 12,
      "outputs": [
        {
          "output_type": "stream",
          "name": "stdout",
          "text": [
            "Test Loss and Test Accuracy [0.032096538692712784, 0.9911999702453613]\n"
          ]
        }
      ]
    },
    {
      "cell_type": "code",
      "metadata": {
        "id": "IjEgppYiXnaY"
      },
      "source": [
        "from keras.preprocessing import image\n",
        "from keras.utils import array_to_img, img_to_array, load_img"
      ],
      "execution_count": 22,
      "outputs": []
    },
    {
      "cell_type": "code",
      "metadata": {
        "colab": {
          "base_uri": "https://localhost:8080/",
          "height": 282
        },
        "id": "Rtdsx5HWXxAj",
        "outputId": "5a9a992c-ad48-4ad9-ad0e-a0f544ff4525"
      },
      "source": [
        "plt.imshow(array_to_img(X_test[46]), cmap=\"gray\")"
      ],
      "execution_count": 16,
      "outputs": [
        {
          "output_type": "execute_result",
          "data": {
            "text/plain": [
              "<matplotlib.image.AxesImage at 0x7f13b77517f0>"
            ]
          },
          "metadata": {},
          "execution_count": 16
        },
        {
          "output_type": "display_data",
          "data": {
            "text/plain": [
              "<Figure size 432x288 with 1 Axes>"
            ],
            "image/png": "[encoded data removed]"
          },
          "metadata": {
            "needs_background": "light"
          }
        }
      ]
    },
    {
      "cell_type": "code",
      "metadata": {
        "colab": {
          "base_uri": "https://localhost:8080/"
        },
        "id": "8pHoyL4mXxDc",
        "outputId": "70beeff1-d674-4bb9-d512-39f778248458"
      },
      "source": [
        "y_test[46]"
      ],
      "execution_count": 17,
      "outputs": [
        {
          "output_type": "execute_result",
          "data": {
            "text/plain": [
              "1"
            ]
          },
          "metadata": {},
          "execution_count": 17
        }
      ]
    },
    {
      "cell_type": "code",
      "metadata": {
        "id": "IoQ6-V_l2G6L"
      },
      "source": [
        "#####################################################################################"
      ],
      "execution_count": 18,
      "outputs": []
    },
    {
      "cell_type": "code",
      "source": [
        "from google.colab import drive\n",
        "drive.mount('/content/drive')"
      ],
      "metadata": {
        "colab": {
          "base_uri": "https://localhost:8080/"
        },
        "id": "U4-Je251-_68",
        "outputId": "81a9f9c5-9f07-468e-9f41-ea2717155244"
      },
      "execution_count": 20,
      "outputs": [
        {
          "output_type": "stream",
          "name": "stdout",
          "text": [
            "Drive already mounted at /content/drive; to attempt to forcibly remount, call drive.mount(\"/content/drive\", force_remount=True).\n"
          ]
        }
      ]
    },
    {
      "cell_type": "code",
      "metadata": {
        "id": "tPUmPTkbWw01"
      },
      "source": [
        "def identify_digit(digit):\n",
        "  dir_path = '/content/drive/MyDrive/Colab Notebooks/data/mnist_imgs/'\n",
        "  img = load_img(path=dir_path+f\"{digit}.PNG\", grayscale=True, target_size=(28, 28))\n",
        "  img = img_to_array(img)\n",
        "  # plt.imshow(array_to_img(img), cmap=\"gray\")\n",
        "  img = img.astype('float')/255\n",
        "  test_img = img.reshape((1, 28, 28, 1))\n",
        "\n",
        "  # Prediction code for tensorflow version >= 2.6 (latest 2.6.0)\n",
        "  image_class = model.predict(test_img) \n",
        "  prediction = np.argmax(image_class, axis=1)\n",
        "\n",
        "  # Prediction code for tensorflow version < 2.6\n",
        "  # img_class = model.predict_classes(test_img)\n",
        "  # prediction = img_class[0]\n",
        "\n",
        "  return prediction"
      ],
      "execution_count": 27,
      "outputs": []
    },
    {
      "cell_type": "code",
      "metadata": {
        "colab": {
          "base_uri": "https://localhost:8080/"
        },
        "id": "3gILuNCfn8Cu",
        "outputId": "6f52fd77-4737-4f21-98e1-363b59c9944b"
      },
      "source": [
        "identify_digit(8)"
      ],
      "execution_count": 28,
      "outputs": [
        {
          "output_type": "stream",
          "name": "stdout",
          "text": [
            "1/1 [==============================] - 0s 20ms/step\n"
          ]
        },
        {
          "output_type": "execute_result",
          "data": {
            "text/plain": [
              "array([8])"
            ]
          },
          "metadata": {},
          "execution_count": 28
        }
      ]
    },
    {
      "cell_type": "code",
      "source": [],
      "metadata": {
        "id": "GbYwFZ2i_raT"
      },
      "execution_count": null,
      "outputs": []
    }
  ]
}