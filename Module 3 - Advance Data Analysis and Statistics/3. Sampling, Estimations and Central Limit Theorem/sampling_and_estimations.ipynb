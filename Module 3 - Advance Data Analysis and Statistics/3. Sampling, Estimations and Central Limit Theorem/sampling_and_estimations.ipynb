{
 "cells": [
  {
   "cell_type": "markdown",
   "metadata": {},
   "source": [
    "# Introduction to Inferential Statistics\n",
    "\n",
    "1. Inferential Statistics \n",
    "2. Sampling Techniques  \n",
    "    a. Convenience Sampling  \n",
    "    b. Systematic Sampling  \n",
    "    c. Simple Random Sampling  \n",
    "    d. Stratified Sampling  \n",
    "    e. Cluster Sampling  \n",
    "4. Population Parameter vs Sample Statistic\n",
    "5. How to perform Estimations/Approximations/Inference?\n",
    "6. Sampling in Pandas DataFrame\n",
    "7. Point Estimate using 1 Sample\n",
    "    - How large a sample should be?\n",
    "8. Central Limit Theorem\n",
    "    - Point Estimate using m Sample\n",
    "    - Confidance Interval Estimates using 1 Sample (if Population Std is known)\n",
    "    - Confidance Interval Estimates using 1 Sample (if Population Std is unknown)"
   ]
  },
  {
   "cell_type": "markdown",
   "metadata": {},
   "source": [
    "## Inferential Statistics\n",
    "\n",
    "<img style=\"float: right;\" width=\"600\" height=\"400\" src=\"images/01_inferential_stats.PNG\">\n",
    "Idea is to estimate the Population's PARAMETERS using Sample's Statistics.\n",
    "\n",
    "Inferential statistics involves making inferences or predictions about a population based on a sample of data. It's used when it's not feasible or practical to study an entire population, so we use sample data to draw conclusions about the larger population.\n",
    "\n",
    "Key concepts in inferential statistics include confidence intervals, hypothesis testing, and regression analysis. It helps us make educated guesses or predictions about a population parameter based on sample data.\n",
    "\n",
    "The goal is to leverage data in real time to make informed decisions, optimize processes, and enhance overall business performance."
   ]
  },
  {
   "cell_type": "markdown",
   "metadata": {},
   "source": [
    "## Sampling Techniques  \n",
    "Sampling techniques are methods used to select a subset of individuals or items from a larger population for the purpose of making inferences about the entire population. The choice of sampling technique depends on the research objectives, resources available, and the characteristics of the population being studied. Each technique has its own strengths and limitations in terms of representativeness, precision, and practicality. Here are various sampling techniques:\n",
    "\n",
    "1. **Convenience Sampling:**\n",
    "   - Individuals are selected based on their availability and accessibility. This method is convenient but may not be representative of the population. Example: Conduct interviews with people in a shopping mall to gather opinions on a new product.\n",
    "\n",
    "2. **Systematic Sampling:**\n",
    "   - Individuals or items are selected at regular intervals from an ordered list. For example, every 5th item is selected.\n",
    "\n",
    "3. **Simple Random Sampling (SRS):**\n",
    "   - In SRS, every individual or item in the population has an equal chance of being selected. This is done **without replacement**. Example: Assign a unique number to each student in a school, and then use a random number generator to select 50 students from the list.\n",
    "\n",
    "4. **Stratified Sampling:**\n",
    "   - The population is divided into distinct strata (subgroups) based on certain characteristics. Then, random samples are drawn from each stratum proportionally. Divide a city's population into age groups (e.g., 0-18, 19-35, 36-60, 60+), and then randomly select a proportional number of individuals from each group.\n",
    "\n",
    "5. **Cluster Sampling:**\n",
    "   - The population is divided into clusters, and a random sample of clusters is selected. Then, all individuals within the selected clusters are included in the sample. Example: Divide a country into regions, randomly select a few regions, and then survey all households within those chosen regions."
   ]
  },
  {
   "cell_type": "markdown",
   "metadata": {},
   "source": [
    "## Population Parameter and Sample Statistics\n",
    "\n",
    "**Population Parameter:**  \n",
    "A population parameter is a numerical characteristic of an entire population. It describes some aspect of the population's distribution or behavior. Examples of population parameters include the population mean, population standard deviation, population proportion, etc.\n",
    "For example, if you're interested in the average height of all adult males in a country, the actual average height of the entire population is the population parameter.\n",
    "\n",
    "**Sample Statistics:**  \n",
    "Sample statistics are numerical measures calculated from a sample (subset) of the population. They are used to estimate or infer information about the corresponding population parameter. Common sample statistics include the sample mean, sample standard deviation, sample proportion, etc.\n",
    "Using the previous example, if you select a group of 100 adult males from that country and calculate their average height, that calculated value is a sample statistic. This sample statistic is an estimate of the population parameter (average height of all adult males).\n",
    "\n",
    "1. **Population Mean (μ) and Sample Mean (x̄):**\n",
    "   - Population Mean (μ): $ \\mu = \\frac{\\sum x}{N} $\n",
    "   - Sample Mean (x̄): $ x̄ = \\frac{\\sum x}{n} $\n",
    "\n",
    "2. **Population Variance (σ²) and Sample Variance (s²):**\n",
    "   - Population Variance (σ²): $ \\sigma² = \\frac{\\sum (x - \\mu)²}{N} $\n",
    "   - Sample Variance (s²): $ s² = \\frac{\\sum (x - x̄)²}{n-1} $ (Note: Bessel's correction is applied for sample variance)\n",
    "\n",
    "3. **Population Standard Deviation (σ) and Sample Standard Deviation (s):**\n",
    "   - Population Standard Deviation (σ): $ \\sigma = \\sqrt{\\sigma²} $\n",
    "   - Sample Standard Deviation (s): $ s = \\sqrt{s²} $\n",
    "\n",
    "**Bessel's Correction**  \n",
    "Bessel's correction is a mathematical adjustment made to sample statistics to provide unbiased estimates of population parameters. It's particularly important when calculating the sample variance and sample standard deviation.\n",
    "\n",
    "The main utility of Bessel's correction lies in correcting the bias that can occur when estimating population parameters from a sample. Without this correction, sample statistics can tend to underestimate the true population parameters.\n",
    "\n",
    "In summary, Bessel's correction is a fundamental adjustment in statistics that helps to provide more accurate estimates of population parameters based on sample data. It ensures that sample statistics, particularly the sample variance, are unbiased estimators of their corresponding population parameters."
   ]
  },
  {
   "cell_type": "markdown",
   "metadata": {},
   "source": [
    "## How to perform Estimations/Approximations/Inference?\n",
    "\n",
    "**Step 1 -** Take a Sample. Uniformly at random try to take a large enough sample from population such that the sample is a correct representation of the entire population.  \n",
    "**Step 2 -** Calculate the Sample Statistics  \n",
    "**Step 3 -** Estimate the Population Parameter using the Sample Statistics. There are various estimation techniques like Point Estimate, Confidence Interval Estimate, Maximum Likelyhood Estimation, GMM's, etc...\n",
    "\n",
    "**Note that:**\n",
    "1. Sample should be sufficiently large.\n",
    "    - **Why?** So that it start representing the population  \n",
    "2. Sample should be a correct representaion of the population.\n",
    "    - **Why?** So that you can make unbiased estimates \n",
    "3. Sample should be unbiased (choose better sampling technique)\n",
    "\n",
    "**Bias (i.e. Error)**\n",
    "1. Sampling Bias - Can be resolved by choosing a better sampling process\n",
    "2. Outlier Bias - Can be resolved by taking a sufficiently large enough sample or using confidence interval estimate"
   ]
  },
  {
   "cell_type": "code",
   "execution_count": 1,
   "metadata": {},
   "outputs": [],
   "source": [
    "import pandas as pd\n",
    "import numpy as np\n",
    "\n",
    "import matplotlib.pyplot as plt\n",
    "import seaborn as sns\n",
    "\n",
    "from scipy import stats"
   ]
  },
  {
   "cell_type": "code",
   "execution_count": 2,
   "metadata": {},
   "outputs": [
    {
     "data": {
      "text/html": [
       "<div>\n",
       "<style scoped>\n",
       "    .dataframe tbody tr th:only-of-type {\n",
       "        vertical-align: middle;\n",
       "    }\n",
       "\n",
       "    .dataframe tbody tr th {\n",
       "        vertical-align: top;\n",
       "    }\n",
       "\n",
       "    .dataframe thead th {\n",
       "        text-align: right;\n",
       "    }\n",
       "</style>\n",
       "<table border=\"1\" class=\"dataframe\">\n",
       "  <thead>\n",
       "    <tr style=\"text-align: right;\">\n",
       "      <th></th>\n",
       "      <th>age</th>\n",
       "      <th>workclass</th>\n",
       "      <th>fnlwgt</th>\n",
       "      <th>education</th>\n",
       "      <th>educational-num</th>\n",
       "      <th>marital-status</th>\n",
       "      <th>occupation</th>\n",
       "      <th>relationship</th>\n",
       "      <th>race</th>\n",
       "      <th>gender</th>\n",
       "      <th>capital-gain</th>\n",
       "      <th>capital-loss</th>\n",
       "      <th>hours-per-week</th>\n",
       "      <th>native-country</th>\n",
       "      <th>income</th>\n",
       "    </tr>\n",
       "  </thead>\n",
       "  <tbody>\n",
       "    <tr>\n",
       "      <th>0</th>\n",
       "      <td>25</td>\n",
       "      <td>Private</td>\n",
       "      <td>226802</td>\n",
       "      <td>11th</td>\n",
       "      <td>7</td>\n",
       "      <td>Never-married</td>\n",
       "      <td>Machine-op-inspct</td>\n",
       "      <td>Own-child</td>\n",
       "      <td>Black</td>\n",
       "      <td>Male</td>\n",
       "      <td>0</td>\n",
       "      <td>0</td>\n",
       "      <td>40</td>\n",
       "      <td>United-States</td>\n",
       "      <td>&lt;=50K</td>\n",
       "    </tr>\n",
       "    <tr>\n",
       "      <th>1</th>\n",
       "      <td>38</td>\n",
       "      <td>Private</td>\n",
       "      <td>89814</td>\n",
       "      <td>HS-grad</td>\n",
       "      <td>9</td>\n",
       "      <td>Married-civ-spouse</td>\n",
       "      <td>Farming-fishing</td>\n",
       "      <td>Husband</td>\n",
       "      <td>White</td>\n",
       "      <td>Male</td>\n",
       "      <td>0</td>\n",
       "      <td>0</td>\n",
       "      <td>50</td>\n",
       "      <td>United-States</td>\n",
       "      <td>&lt;=50K</td>\n",
       "    </tr>\n",
       "    <tr>\n",
       "      <th>2</th>\n",
       "      <td>28</td>\n",
       "      <td>Local-gov</td>\n",
       "      <td>336951</td>\n",
       "      <td>Assoc-acdm</td>\n",
       "      <td>12</td>\n",
       "      <td>Married-civ-spouse</td>\n",
       "      <td>Protective-serv</td>\n",
       "      <td>Husband</td>\n",
       "      <td>White</td>\n",
       "      <td>Male</td>\n",
       "      <td>0</td>\n",
       "      <td>0</td>\n",
       "      <td>40</td>\n",
       "      <td>United-States</td>\n",
       "      <td>&gt;50K</td>\n",
       "    </tr>\n",
       "    <tr>\n",
       "      <th>3</th>\n",
       "      <td>44</td>\n",
       "      <td>Private</td>\n",
       "      <td>160323</td>\n",
       "      <td>Some-college</td>\n",
       "      <td>10</td>\n",
       "      <td>Married-civ-spouse</td>\n",
       "      <td>Machine-op-inspct</td>\n",
       "      <td>Husband</td>\n",
       "      <td>Black</td>\n",
       "      <td>Male</td>\n",
       "      <td>7688</td>\n",
       "      <td>0</td>\n",
       "      <td>40</td>\n",
       "      <td>United-States</td>\n",
       "      <td>&gt;50K</td>\n",
       "    </tr>\n",
       "    <tr>\n",
       "      <th>4</th>\n",
       "      <td>18</td>\n",
       "      <td>?</td>\n",
       "      <td>103497</td>\n",
       "      <td>Some-college</td>\n",
       "      <td>10</td>\n",
       "      <td>Never-married</td>\n",
       "      <td>?</td>\n",
       "      <td>Own-child</td>\n",
       "      <td>White</td>\n",
       "      <td>Female</td>\n",
       "      <td>0</td>\n",
       "      <td>0</td>\n",
       "      <td>30</td>\n",
       "      <td>United-States</td>\n",
       "      <td>&lt;=50K</td>\n",
       "    </tr>\n",
       "  </tbody>\n",
       "</table>\n",
       "</div>"
      ],
      "text/plain": [
       "   age  workclass  fnlwgt     education  educational-num      marital-status  \\\n",
       "0   25    Private  226802          11th                7       Never-married   \n",
       "1   38    Private   89814       HS-grad                9  Married-civ-spouse   \n",
       "2   28  Local-gov  336951    Assoc-acdm               12  Married-civ-spouse   \n",
       "3   44    Private  160323  Some-college               10  Married-civ-spouse   \n",
       "4   18          ?  103497  Some-college               10       Never-married   \n",
       "\n",
       "          occupation relationship   race  gender  capital-gain  capital-loss  \\\n",
       "0  Machine-op-inspct    Own-child  Black    Male             0             0   \n",
       "1    Farming-fishing      Husband  White    Male             0             0   \n",
       "2    Protective-serv      Husband  White    Male             0             0   \n",
       "3  Machine-op-inspct      Husband  Black    Male          7688             0   \n",
       "4                  ?    Own-child  White  Female             0             0   \n",
       "\n",
       "   hours-per-week native-country income  \n",
       "0              40  United-States  <=50K  \n",
       "1              50  United-States  <=50K  \n",
       "2              40  United-States   >50K  \n",
       "3              40  United-States   >50K  \n",
       "4              30  United-States  <=50K  "
      ]
     },
     "execution_count": 2,
     "metadata": {},
     "output_type": "execute_result"
    }
   ],
   "source": [
    "population_df = pd.read_csv('data/adult.csv')\n",
    "\n",
    "population_df.head()"
   ]
  },
  {
   "cell_type": "code",
   "execution_count": 3,
   "metadata": {},
   "outputs": [
    {
     "data": {
      "text/plain": [
       "(48842, 15)"
      ]
     },
     "execution_count": 3,
     "metadata": {},
     "output_type": "execute_result"
    }
   ],
   "source": [
    "population_df.shape"
   ]
  },
  {
   "cell_type": "code",
   "execution_count": 4,
   "metadata": {},
   "outputs": [
    {
     "data": {
      "text/html": [
       "<div>\n",
       "<style scoped>\n",
       "    .dataframe tbody tr th:only-of-type {\n",
       "        vertical-align: middle;\n",
       "    }\n",
       "\n",
       "    .dataframe tbody tr th {\n",
       "        vertical-align: top;\n",
       "    }\n",
       "\n",
       "    .dataframe thead th {\n",
       "        text-align: right;\n",
       "    }\n",
       "</style>\n",
       "<table border=\"1\" class=\"dataframe\">\n",
       "  <thead>\n",
       "    <tr style=\"text-align: right;\">\n",
       "      <th></th>\n",
       "      <th>age</th>\n",
       "      <th>fnlwgt</th>\n",
       "      <th>educational-num</th>\n",
       "      <th>capital-gain</th>\n",
       "      <th>capital-loss</th>\n",
       "      <th>hours-per-week</th>\n",
       "    </tr>\n",
       "  </thead>\n",
       "  <tbody>\n",
       "    <tr>\n",
       "      <th>count</th>\n",
       "      <td>48842.000000</td>\n",
       "      <td>4.884200e+04</td>\n",
       "      <td>48842.000000</td>\n",
       "      <td>48842.000000</td>\n",
       "      <td>48842.000000</td>\n",
       "      <td>48842.000000</td>\n",
       "    </tr>\n",
       "    <tr>\n",
       "      <th>mean</th>\n",
       "      <td>38.643585</td>\n",
       "      <td>1.896641e+05</td>\n",
       "      <td>10.078089</td>\n",
       "      <td>1079.067626</td>\n",
       "      <td>87.502314</td>\n",
       "      <td>40.422382</td>\n",
       "    </tr>\n",
       "    <tr>\n",
       "      <th>std</th>\n",
       "      <td>13.710510</td>\n",
       "      <td>1.056040e+05</td>\n",
       "      <td>2.570973</td>\n",
       "      <td>7452.019058</td>\n",
       "      <td>403.004552</td>\n",
       "      <td>12.391444</td>\n",
       "    </tr>\n",
       "    <tr>\n",
       "      <th>min</th>\n",
       "      <td>17.000000</td>\n",
       "      <td>1.228500e+04</td>\n",
       "      <td>1.000000</td>\n",
       "      <td>0.000000</td>\n",
       "      <td>0.000000</td>\n",
       "      <td>1.000000</td>\n",
       "    </tr>\n",
       "    <tr>\n",
       "      <th>25%</th>\n",
       "      <td>28.000000</td>\n",
       "      <td>1.175505e+05</td>\n",
       "      <td>9.000000</td>\n",
       "      <td>0.000000</td>\n",
       "      <td>0.000000</td>\n",
       "      <td>40.000000</td>\n",
       "    </tr>\n",
       "    <tr>\n",
       "      <th>50%</th>\n",
       "      <td>37.000000</td>\n",
       "      <td>1.781445e+05</td>\n",
       "      <td>10.000000</td>\n",
       "      <td>0.000000</td>\n",
       "      <td>0.000000</td>\n",
       "      <td>40.000000</td>\n",
       "    </tr>\n",
       "    <tr>\n",
       "      <th>75%</th>\n",
       "      <td>48.000000</td>\n",
       "      <td>2.376420e+05</td>\n",
       "      <td>12.000000</td>\n",
       "      <td>0.000000</td>\n",
       "      <td>0.000000</td>\n",
       "      <td>45.000000</td>\n",
       "    </tr>\n",
       "    <tr>\n",
       "      <th>max</th>\n",
       "      <td>90.000000</td>\n",
       "      <td>1.490400e+06</td>\n",
       "      <td>16.000000</td>\n",
       "      <td>99999.000000</td>\n",
       "      <td>4356.000000</td>\n",
       "      <td>99.000000</td>\n",
       "    </tr>\n",
       "  </tbody>\n",
       "</table>\n",
       "</div>"
      ],
      "text/plain": [
       "                age        fnlwgt  educational-num  capital-gain  \\\n",
       "count  48842.000000  4.884200e+04     48842.000000  48842.000000   \n",
       "mean      38.643585  1.896641e+05        10.078089   1079.067626   \n",
       "std       13.710510  1.056040e+05         2.570973   7452.019058   \n",
       "min       17.000000  1.228500e+04         1.000000      0.000000   \n",
       "25%       28.000000  1.175505e+05         9.000000      0.000000   \n",
       "50%       37.000000  1.781445e+05        10.000000      0.000000   \n",
       "75%       48.000000  2.376420e+05        12.000000      0.000000   \n",
       "max       90.000000  1.490400e+06        16.000000  99999.000000   \n",
       "\n",
       "       capital-loss  hours-per-week  \n",
       "count  48842.000000    48842.000000  \n",
       "mean      87.502314       40.422382  \n",
       "std      403.004552       12.391444  \n",
       "min        0.000000        1.000000  \n",
       "25%        0.000000       40.000000  \n",
       "50%        0.000000       40.000000  \n",
       "75%        0.000000       45.000000  \n",
       "max     4356.000000       99.000000  "
      ]
     },
     "execution_count": 4,
     "metadata": {},
     "output_type": "execute_result"
    }
   ],
   "source": [
    "population_df.describe()"
   ]
  },
  {
   "cell_type": "code",
   "execution_count": 5,
   "metadata": {},
   "outputs": [
    {
     "name": "stdout",
     "output_type": "stream",
     "text": [
      "<class 'pandas.core.frame.DataFrame'>\n",
      "RangeIndex: 48842 entries, 0 to 48841\n",
      "Data columns (total 15 columns):\n",
      " #   Column           Non-Null Count  Dtype \n",
      "---  ------           --------------  ----- \n",
      " 0   age              48842 non-null  int64 \n",
      " 1   workclass        48842 non-null  object\n",
      " 2   fnlwgt           48842 non-null  int64 \n",
      " 3   education        48842 non-null  object\n",
      " 4   educational-num  48842 non-null  int64 \n",
      " 5   marital-status   48842 non-null  object\n",
      " 6   occupation       48842 non-null  object\n",
      " 7   relationship     48842 non-null  object\n",
      " 8   race             48842 non-null  object\n",
      " 9   gender           48842 non-null  object\n",
      " 10  capital-gain     48842 non-null  int64 \n",
      " 11  capital-loss     48842 non-null  int64 \n",
      " 12  hours-per-week   48842 non-null  int64 \n",
      " 13  native-country   48842 non-null  object\n",
      " 14  income           48842 non-null  object\n",
      "dtypes: int64(6), object(9)\n",
      "memory usage: 5.6+ MB\n"
     ]
    }
   ],
   "source": [
    "population_df.info()"
   ]
  },
  {
   "cell_type": "code",
   "execution_count": 6,
   "metadata": {},
   "outputs": [
    {
     "data": {
      "text/plain": [
       "<Axes: xlabel='age', ylabel='Count'>"
      ]
     },
     "execution_count": 6,
     "metadata": {},
     "output_type": "execute_result"
    },
    {
     "data": {
      "image/png": "[encoded data removed]",
      "text/plain": [
       "<Figure size 640x480 with 1 Axes>"
      ]
     },
     "metadata": {},
     "output_type": "display_data"
    }
   ],
   "source": [
    "sns.histplot(population_df['age'], kde=True)"
   ]
  },
  {
   "cell_type": "code",
   "execution_count": 7,
   "metadata": {},
   "outputs": [
    {
     "name": "stdout",
     "output_type": "stream",
     "text": [
      "Number of rows:  48842\n",
      "Population Mean:  38.64358543876172\n"
     ]
    }
   ],
   "source": [
    "print('Number of rows: ', population_df.shape[0])\n",
    "print('Population Mean: ', population_df['age'].mean())"
   ]
  },
  {
   "cell_type": "markdown",
   "metadata": {},
   "source": [
    "## Sampling in Pandas DataFrame"
   ]
  },
  {
   "cell_type": "code",
   "execution_count": 8,
   "metadata": {},
   "outputs": [
    {
     "data": {
      "text/html": [
       "<div>\n",
       "<style scoped>\n",
       "    .dataframe tbody tr th:only-of-type {\n",
       "        vertical-align: middle;\n",
       "    }\n",
       "\n",
       "    .dataframe tbody tr th {\n",
       "        vertical-align: top;\n",
       "    }\n",
       "\n",
       "    .dataframe thead th {\n",
       "        text-align: right;\n",
       "    }\n",
       "</style>\n",
       "<table border=\"1\" class=\"dataframe\">\n",
       "  <thead>\n",
       "    <tr style=\"text-align: right;\">\n",
       "      <th></th>\n",
       "      <th>age</th>\n",
       "      <th>workclass</th>\n",
       "      <th>fnlwgt</th>\n",
       "      <th>education</th>\n",
       "      <th>educational-num</th>\n",
       "      <th>marital-status</th>\n",
       "      <th>occupation</th>\n",
       "      <th>relationship</th>\n",
       "      <th>race</th>\n",
       "      <th>gender</th>\n",
       "      <th>capital-gain</th>\n",
       "      <th>capital-loss</th>\n",
       "      <th>hours-per-week</th>\n",
       "      <th>native-country</th>\n",
       "      <th>income</th>\n",
       "    </tr>\n",
       "  </thead>\n",
       "  <tbody>\n",
       "    <tr>\n",
       "      <th>7762</th>\n",
       "      <td>56</td>\n",
       "      <td>Private</td>\n",
       "      <td>33115</td>\n",
       "      <td>HS-grad</td>\n",
       "      <td>9</td>\n",
       "      <td>Divorced</td>\n",
       "      <td>Other-service</td>\n",
       "      <td>Unmarried</td>\n",
       "      <td>White</td>\n",
       "      <td>Female</td>\n",
       "      <td>0</td>\n",
       "      <td>0</td>\n",
       "      <td>40</td>\n",
       "      <td>United-States</td>\n",
       "      <td>&lt;=50K</td>\n",
       "    </tr>\n",
       "    <tr>\n",
       "      <th>23881</th>\n",
       "      <td>25</td>\n",
       "      <td>Private</td>\n",
       "      <td>112847</td>\n",
       "      <td>HS-grad</td>\n",
       "      <td>9</td>\n",
       "      <td>Married-civ-spouse</td>\n",
       "      <td>Transport-moving</td>\n",
       "      <td>Own-child</td>\n",
       "      <td>Other</td>\n",
       "      <td>Male</td>\n",
       "      <td>0</td>\n",
       "      <td>0</td>\n",
       "      <td>40</td>\n",
       "      <td>United-States</td>\n",
       "      <td>&lt;=50K</td>\n",
       "    </tr>\n",
       "    <tr>\n",
       "      <th>30507</th>\n",
       "      <td>43</td>\n",
       "      <td>Private</td>\n",
       "      <td>170525</td>\n",
       "      <td>Bachelors</td>\n",
       "      <td>13</td>\n",
       "      <td>Divorced</td>\n",
       "      <td>Prof-specialty</td>\n",
       "      <td>Not-in-family</td>\n",
       "      <td>White</td>\n",
       "      <td>Female</td>\n",
       "      <td>14344</td>\n",
       "      <td>0</td>\n",
       "      <td>40</td>\n",
       "      <td>United-States</td>\n",
       "      <td>&gt;50K</td>\n",
       "    </tr>\n",
       "    <tr>\n",
       "      <th>28911</th>\n",
       "      <td>32</td>\n",
       "      <td>Private</td>\n",
       "      <td>186788</td>\n",
       "      <td>HS-grad</td>\n",
       "      <td>9</td>\n",
       "      <td>Married-civ-spouse</td>\n",
       "      <td>Transport-moving</td>\n",
       "      <td>Husband</td>\n",
       "      <td>White</td>\n",
       "      <td>Male</td>\n",
       "      <td>0</td>\n",
       "      <td>0</td>\n",
       "      <td>40</td>\n",
       "      <td>United-States</td>\n",
       "      <td>&lt;=50K</td>\n",
       "    </tr>\n",
       "    <tr>\n",
       "      <th>19484</th>\n",
       "      <td>39</td>\n",
       "      <td>Private</td>\n",
       "      <td>277886</td>\n",
       "      <td>Bachelors</td>\n",
       "      <td>13</td>\n",
       "      <td>Married-civ-spouse</td>\n",
       "      <td>Sales</td>\n",
       "      <td>Wife</td>\n",
       "      <td>White</td>\n",
       "      <td>Female</td>\n",
       "      <td>0</td>\n",
       "      <td>0</td>\n",
       "      <td>30</td>\n",
       "      <td>United-States</td>\n",
       "      <td>&lt;=50K</td>\n",
       "    </tr>\n",
       "    <tr>\n",
       "      <th>...</th>\n",
       "      <td>...</td>\n",
       "      <td>...</td>\n",
       "      <td>...</td>\n",
       "      <td>...</td>\n",
       "      <td>...</td>\n",
       "      <td>...</td>\n",
       "      <td>...</td>\n",
       "      <td>...</td>\n",
       "      <td>...</td>\n",
       "      <td>...</td>\n",
       "      <td>...</td>\n",
       "      <td>...</td>\n",
       "      <td>...</td>\n",
       "      <td>...</td>\n",
       "      <td>...</td>\n",
       "    </tr>\n",
       "    <tr>\n",
       "      <th>43114</th>\n",
       "      <td>62</td>\n",
       "      <td>Local-gov</td>\n",
       "      <td>208266</td>\n",
       "      <td>Assoc-voc</td>\n",
       "      <td>11</td>\n",
       "      <td>Divorced</td>\n",
       "      <td>Adm-clerical</td>\n",
       "      <td>Not-in-family</td>\n",
       "      <td>Black</td>\n",
       "      <td>Female</td>\n",
       "      <td>0</td>\n",
       "      <td>0</td>\n",
       "      <td>40</td>\n",
       "      <td>United-States</td>\n",
       "      <td>&lt;=50K</td>\n",
       "    </tr>\n",
       "    <tr>\n",
       "      <th>5042</th>\n",
       "      <td>45</td>\n",
       "      <td>Private</td>\n",
       "      <td>256866</td>\n",
       "      <td>HS-grad</td>\n",
       "      <td>9</td>\n",
       "      <td>Married-civ-spouse</td>\n",
       "      <td>Prof-specialty</td>\n",
       "      <td>Husband</td>\n",
       "      <td>White</td>\n",
       "      <td>Male</td>\n",
       "      <td>0</td>\n",
       "      <td>0</td>\n",
       "      <td>45</td>\n",
       "      <td>United-States</td>\n",
       "      <td>&gt;50K</td>\n",
       "    </tr>\n",
       "    <tr>\n",
       "      <th>7027</th>\n",
       "      <td>25</td>\n",
       "      <td>Local-gov</td>\n",
       "      <td>170070</td>\n",
       "      <td>Bachelors</td>\n",
       "      <td>13</td>\n",
       "      <td>Never-married</td>\n",
       "      <td>Prof-specialty</td>\n",
       "      <td>Not-in-family</td>\n",
       "      <td>White</td>\n",
       "      <td>Female</td>\n",
       "      <td>0</td>\n",
       "      <td>0</td>\n",
       "      <td>50</td>\n",
       "      <td>United-States</td>\n",
       "      <td>&gt;50K</td>\n",
       "    </tr>\n",
       "    <tr>\n",
       "      <th>36588</th>\n",
       "      <td>47</td>\n",
       "      <td>Self-emp-not-inc</td>\n",
       "      <td>26145</td>\n",
       "      <td>Assoc-voc</td>\n",
       "      <td>11</td>\n",
       "      <td>Married-civ-spouse</td>\n",
       "      <td>Sales</td>\n",
       "      <td>Husband</td>\n",
       "      <td>White</td>\n",
       "      <td>Male</td>\n",
       "      <td>0</td>\n",
       "      <td>0</td>\n",
       "      <td>40</td>\n",
       "      <td>United-States</td>\n",
       "      <td>&gt;50K</td>\n",
       "    </tr>\n",
       "    <tr>\n",
       "      <th>29572</th>\n",
       "      <td>59</td>\n",
       "      <td>Private</td>\n",
       "      <td>182062</td>\n",
       "      <td>Bachelors</td>\n",
       "      <td>13</td>\n",
       "      <td>Married-civ-spouse</td>\n",
       "      <td>Prof-specialty</td>\n",
       "      <td>Husband</td>\n",
       "      <td>White</td>\n",
       "      <td>Male</td>\n",
       "      <td>5013</td>\n",
       "      <td>0</td>\n",
       "      <td>40</td>\n",
       "      <td>United-States</td>\n",
       "      <td>&lt;=50K</td>\n",
       "    </tr>\n",
       "  </tbody>\n",
       "</table>\n",
       "<p>4884 rows × 15 columns</p>\n",
       "</div>"
      ],
      "text/plain": [
       "       age         workclass  fnlwgt  education  educational-num  \\\n",
       "7762    56           Private   33115    HS-grad                9   \n",
       "23881   25           Private  112847    HS-grad                9   \n",
       "30507   43           Private  170525  Bachelors               13   \n",
       "28911   32           Private  186788    HS-grad                9   \n",
       "19484   39           Private  277886  Bachelors               13   \n",
       "...    ...               ...     ...        ...              ...   \n",
       "43114   62         Local-gov  208266  Assoc-voc               11   \n",
       "5042    45           Private  256866    HS-grad                9   \n",
       "7027    25         Local-gov  170070  Bachelors               13   \n",
       "36588   47  Self-emp-not-inc   26145  Assoc-voc               11   \n",
       "29572   59           Private  182062  Bachelors               13   \n",
       "\n",
       "           marital-status        occupation   relationship   race  gender  \\\n",
       "7762             Divorced     Other-service      Unmarried  White  Female   \n",
       "23881  Married-civ-spouse  Transport-moving      Own-child  Other    Male   \n",
       "30507            Divorced    Prof-specialty  Not-in-family  White  Female   \n",
       "28911  Married-civ-spouse  Transport-moving        Husband  White    Male   \n",
       "19484  Married-civ-spouse             Sales           Wife  White  Female   \n",
       "...                   ...               ...            ...    ...     ...   \n",
       "43114            Divorced      Adm-clerical  Not-in-family  Black  Female   \n",
       "5042   Married-civ-spouse    Prof-specialty        Husband  White    Male   \n",
       "7027        Never-married    Prof-specialty  Not-in-family  White  Female   \n",
       "36588  Married-civ-spouse             Sales        Husband  White    Male   \n",
       "29572  Married-civ-spouse    Prof-specialty        Husband  White    Male   \n",
       "\n",
       "       capital-gain  capital-loss  hours-per-week native-country income  \n",
       "7762              0             0              40  United-States  <=50K  \n",
       "23881             0             0              40  United-States  <=50K  \n",
       "30507         14344             0              40  United-States   >50K  \n",
       "28911             0             0              40  United-States  <=50K  \n",
       "19484             0             0              30  United-States  <=50K  \n",
       "...             ...           ...             ...            ...    ...  \n",
       "43114             0             0              40  United-States  <=50K  \n",
       "5042              0             0              45  United-States   >50K  \n",
       "7027              0             0              50  United-States   >50K  \n",
       "36588             0             0              40  United-States   >50K  \n",
       "29572          5013             0              40  United-States  <=50K  \n",
       "\n",
       "[4884 rows x 15 columns]"
      ]
     },
     "execution_count": 8,
     "metadata": {},
     "output_type": "execute_result"
    }
   ],
   "source": [
    "# Way 1 - Use frac to mention the fraction of data that you want to randomly sample\n",
    "\n",
    "population_df.sample(frac=0.1, random_state=42)"
   ]
  },
  {
   "cell_type": "code",
   "execution_count": 9,
   "metadata": {},
   "outputs": [
    {
     "data": {
      "text/html": [
       "<div>\n",
       "<style scoped>\n",
       "    .dataframe tbody tr th:only-of-type {\n",
       "        vertical-align: middle;\n",
       "    }\n",
       "\n",
       "    .dataframe tbody tr th {\n",
       "        vertical-align: top;\n",
       "    }\n",
       "\n",
       "    .dataframe thead th {\n",
       "        text-align: right;\n",
       "    }\n",
       "</style>\n",
       "<table border=\"1\" class=\"dataframe\">\n",
       "  <thead>\n",
       "    <tr style=\"text-align: right;\">\n",
       "      <th></th>\n",
       "      <th>age</th>\n",
       "      <th>workclass</th>\n",
       "      <th>fnlwgt</th>\n",
       "      <th>education</th>\n",
       "      <th>educational-num</th>\n",
       "      <th>marital-status</th>\n",
       "      <th>occupation</th>\n",
       "      <th>relationship</th>\n",
       "      <th>race</th>\n",
       "      <th>gender</th>\n",
       "      <th>capital-gain</th>\n",
       "      <th>capital-loss</th>\n",
       "      <th>hours-per-week</th>\n",
       "      <th>native-country</th>\n",
       "      <th>income</th>\n",
       "    </tr>\n",
       "  </thead>\n",
       "  <tbody>\n",
       "    <tr>\n",
       "      <th>7762</th>\n",
       "      <td>56</td>\n",
       "      <td>Private</td>\n",
       "      <td>33115</td>\n",
       "      <td>HS-grad</td>\n",
       "      <td>9</td>\n",
       "      <td>Divorced</td>\n",
       "      <td>Other-service</td>\n",
       "      <td>Unmarried</td>\n",
       "      <td>White</td>\n",
       "      <td>Female</td>\n",
       "      <td>0</td>\n",
       "      <td>0</td>\n",
       "      <td>40</td>\n",
       "      <td>United-States</td>\n",
       "      <td>&lt;=50K</td>\n",
       "    </tr>\n",
       "    <tr>\n",
       "      <th>23881</th>\n",
       "      <td>25</td>\n",
       "      <td>Private</td>\n",
       "      <td>112847</td>\n",
       "      <td>HS-grad</td>\n",
       "      <td>9</td>\n",
       "      <td>Married-civ-spouse</td>\n",
       "      <td>Transport-moving</td>\n",
       "      <td>Own-child</td>\n",
       "      <td>Other</td>\n",
       "      <td>Male</td>\n",
       "      <td>0</td>\n",
       "      <td>0</td>\n",
       "      <td>40</td>\n",
       "      <td>United-States</td>\n",
       "      <td>&lt;=50K</td>\n",
       "    </tr>\n",
       "    <tr>\n",
       "      <th>30507</th>\n",
       "      <td>43</td>\n",
       "      <td>Private</td>\n",
       "      <td>170525</td>\n",
       "      <td>Bachelors</td>\n",
       "      <td>13</td>\n",
       "      <td>Divorced</td>\n",
       "      <td>Prof-specialty</td>\n",
       "      <td>Not-in-family</td>\n",
       "      <td>White</td>\n",
       "      <td>Female</td>\n",
       "      <td>14344</td>\n",
       "      <td>0</td>\n",
       "      <td>40</td>\n",
       "      <td>United-States</td>\n",
       "      <td>&gt;50K</td>\n",
       "    </tr>\n",
       "    <tr>\n",
       "      <th>28911</th>\n",
       "      <td>32</td>\n",
       "      <td>Private</td>\n",
       "      <td>186788</td>\n",
       "      <td>HS-grad</td>\n",
       "      <td>9</td>\n",
       "      <td>Married-civ-spouse</td>\n",
       "      <td>Transport-moving</td>\n",
       "      <td>Husband</td>\n",
       "      <td>White</td>\n",
       "      <td>Male</td>\n",
       "      <td>0</td>\n",
       "      <td>0</td>\n",
       "      <td>40</td>\n",
       "      <td>United-States</td>\n",
       "      <td>&lt;=50K</td>\n",
       "    </tr>\n",
       "    <tr>\n",
       "      <th>19484</th>\n",
       "      <td>39</td>\n",
       "      <td>Private</td>\n",
       "      <td>277886</td>\n",
       "      <td>Bachelors</td>\n",
       "      <td>13</td>\n",
       "      <td>Married-civ-spouse</td>\n",
       "      <td>Sales</td>\n",
       "      <td>Wife</td>\n",
       "      <td>White</td>\n",
       "      <td>Female</td>\n",
       "      <td>0</td>\n",
       "      <td>0</td>\n",
       "      <td>30</td>\n",
       "      <td>United-States</td>\n",
       "      <td>&lt;=50K</td>\n",
       "    </tr>\n",
       "    <tr>\n",
       "      <th>...</th>\n",
       "      <td>...</td>\n",
       "      <td>...</td>\n",
       "      <td>...</td>\n",
       "      <td>...</td>\n",
       "      <td>...</td>\n",
       "      <td>...</td>\n",
       "      <td>...</td>\n",
       "      <td>...</td>\n",
       "      <td>...</td>\n",
       "      <td>...</td>\n",
       "      <td>...</td>\n",
       "      <td>...</td>\n",
       "      <td>...</td>\n",
       "      <td>...</td>\n",
       "      <td>...</td>\n",
       "    </tr>\n",
       "    <tr>\n",
       "      <th>2210</th>\n",
       "      <td>30</td>\n",
       "      <td>Private</td>\n",
       "      <td>267281</td>\n",
       "      <td>Bachelors</td>\n",
       "      <td>13</td>\n",
       "      <td>Never-married</td>\n",
       "      <td>Prof-specialty</td>\n",
       "      <td>Not-in-family</td>\n",
       "      <td>White</td>\n",
       "      <td>Male</td>\n",
       "      <td>0</td>\n",
       "      <td>0</td>\n",
       "      <td>50</td>\n",
       "      <td>United-States</td>\n",
       "      <td>&lt;=50K</td>\n",
       "    </tr>\n",
       "    <tr>\n",
       "      <th>32845</th>\n",
       "      <td>30</td>\n",
       "      <td>Private</td>\n",
       "      <td>272669</td>\n",
       "      <td>Some-college</td>\n",
       "      <td>10</td>\n",
       "      <td>Never-married</td>\n",
       "      <td>Tech-support</td>\n",
       "      <td>Not-in-family</td>\n",
       "      <td>Asian-Pac-Islander</td>\n",
       "      <td>Male</td>\n",
       "      <td>0</td>\n",
       "      <td>0</td>\n",
       "      <td>40</td>\n",
       "      <td>United-States</td>\n",
       "      <td>&lt;=50K</td>\n",
       "    </tr>\n",
       "    <tr>\n",
       "      <th>36853</th>\n",
       "      <td>35</td>\n",
       "      <td>Private</td>\n",
       "      <td>202027</td>\n",
       "      <td>Bachelors</td>\n",
       "      <td>13</td>\n",
       "      <td>Married-civ-spouse</td>\n",
       "      <td>Handlers-cleaners</td>\n",
       "      <td>Husband</td>\n",
       "      <td>White</td>\n",
       "      <td>Male</td>\n",
       "      <td>7298</td>\n",
       "      <td>0</td>\n",
       "      <td>35</td>\n",
       "      <td>United-States</td>\n",
       "      <td>&gt;50K</td>\n",
       "    </tr>\n",
       "    <tr>\n",
       "      <th>28697</th>\n",
       "      <td>57</td>\n",
       "      <td>Private</td>\n",
       "      <td>279636</td>\n",
       "      <td>Assoc-voc</td>\n",
       "      <td>11</td>\n",
       "      <td>Never-married</td>\n",
       "      <td>Craft-repair</td>\n",
       "      <td>Not-in-family</td>\n",
       "      <td>White</td>\n",
       "      <td>Male</td>\n",
       "      <td>0</td>\n",
       "      <td>0</td>\n",
       "      <td>40</td>\n",
       "      <td>United-States</td>\n",
       "      <td>&gt;50K</td>\n",
       "    </tr>\n",
       "    <tr>\n",
       "      <th>3792</th>\n",
       "      <td>49</td>\n",
       "      <td>Private</td>\n",
       "      <td>186256</td>\n",
       "      <td>Some-college</td>\n",
       "      <td>10</td>\n",
       "      <td>Married-civ-spouse</td>\n",
       "      <td>Adm-clerical</td>\n",
       "      <td>Husband</td>\n",
       "      <td>White</td>\n",
       "      <td>Male</td>\n",
       "      <td>0</td>\n",
       "      <td>0</td>\n",
       "      <td>40</td>\n",
       "      <td>United-States</td>\n",
       "      <td>&lt;=50K</td>\n",
       "    </tr>\n",
       "  </tbody>\n",
       "</table>\n",
       "<p>100 rows × 15 columns</p>\n",
       "</div>"
      ],
      "text/plain": [
       "       age workclass  fnlwgt     education  educational-num  \\\n",
       "7762    56   Private   33115       HS-grad                9   \n",
       "23881   25   Private  112847       HS-grad                9   \n",
       "30507   43   Private  170525     Bachelors               13   \n",
       "28911   32   Private  186788       HS-grad                9   \n",
       "19484   39   Private  277886     Bachelors               13   \n",
       "...    ...       ...     ...           ...              ...   \n",
       "2210    30   Private  267281     Bachelors               13   \n",
       "32845   30   Private  272669  Some-college               10   \n",
       "36853   35   Private  202027     Bachelors               13   \n",
       "28697   57   Private  279636     Assoc-voc               11   \n",
       "3792    49   Private  186256  Some-college               10   \n",
       "\n",
       "           marital-status         occupation   relationship  \\\n",
       "7762             Divorced      Other-service      Unmarried   \n",
       "23881  Married-civ-spouse   Transport-moving      Own-child   \n",
       "30507            Divorced     Prof-specialty  Not-in-family   \n",
       "28911  Married-civ-spouse   Transport-moving        Husband   \n",
       "19484  Married-civ-spouse              Sales           Wife   \n",
       "...                   ...                ...            ...   \n",
       "2210        Never-married     Prof-specialty  Not-in-family   \n",
       "32845       Never-married       Tech-support  Not-in-family   \n",
       "36853  Married-civ-spouse  Handlers-cleaners        Husband   \n",
       "28697       Never-married       Craft-repair  Not-in-family   \n",
       "3792   Married-civ-spouse       Adm-clerical        Husband   \n",
       "\n",
       "                     race  gender  capital-gain  capital-loss  hours-per-week  \\\n",
       "7762                White  Female             0             0              40   \n",
       "23881               Other    Male             0             0              40   \n",
       "30507               White  Female         14344             0              40   \n",
       "28911               White    Male             0             0              40   \n",
       "19484               White  Female             0             0              30   \n",
       "...                   ...     ...           ...           ...             ...   \n",
       "2210                White    Male             0             0              50   \n",
       "32845  Asian-Pac-Islander    Male             0             0              40   \n",
       "36853               White    Male          7298             0              35   \n",
       "28697               White    Male             0             0              40   \n",
       "3792                White    Male             0             0              40   \n",
       "\n",
       "      native-country income  \n",
       "7762   United-States  <=50K  \n",
       "23881  United-States  <=50K  \n",
       "30507  United-States   >50K  \n",
       "28911  United-States  <=50K  \n",
       "19484  United-States  <=50K  \n",
       "...              ...    ...  \n",
       "2210   United-States  <=50K  \n",
       "32845  United-States  <=50K  \n",
       "36853  United-States   >50K  \n",
       "28697  United-States   >50K  \n",
       "3792   United-States  <=50K  \n",
       "\n",
       "[100 rows x 15 columns]"
      ]
     },
     "execution_count": 9,
     "metadata": {},
     "output_type": "execute_result"
    }
   ],
   "source": [
    "# Way 2 - Use n to mention the number of datapoints that you want to randomly sample\n",
    "\n",
    "population_df.sample(n=100, random_state=42)"
   ]
  },
  {
   "cell_type": "markdown",
   "metadata": {},
   "source": [
    "## Point Estimate using 1 Sample\n",
    "Point estimation involves using a single value (a point) from the sample data to estimate the population parameter. For example, using the sample mean to estimate the population mean. \n",
    "\n",
    "**Step 1 -** Take a large enough uniform random sample of size n.  \n",
    "**Step 2 -** Calculate the Sample Statistics: $ \\bar{x} = \\frac{\\sum{data_i}}{n} $.  \n",
    "**Step 3 -** Estimate the Population Parameter using the Sample Statistics: $ \\mu_{POP} \\approx \\bar{x}$"
   ]
  },
  {
   "cell_type": "code",
   "execution_count": 10,
   "metadata": {},
   "outputs": [
    {
     "data": {
      "text/plain": [
       "(9768, 15)"
      ]
     },
     "execution_count": 10,
     "metadata": {},
     "output_type": "execute_result"
    }
   ],
   "source": [
    "# Step 1 - Uniformly at random take a large enough sample from population\n",
    "\n",
    "sample_df = population_df.sample(frac=0.2, random_state=42)\n",
    "\n",
    "sample_df.shape"
   ]
  },
  {
   "cell_type": "code",
   "execution_count": 11,
   "metadata": {},
   "outputs": [
    {
     "data": {
      "text/plain": [
       "38.7273751023751"
      ]
     },
     "execution_count": 11,
     "metadata": {},
     "output_type": "execute_result"
    }
   ],
   "source": [
    "# Step 2 - Calculate the Sample Statistics\n",
    "\n",
    "sample_df['age'].mean()"
   ]
  },
  {
   "cell_type": "code",
   "execution_count": 12,
   "metadata": {},
   "outputs": [
    {
     "name": "stdout",
     "output_type": "stream",
     "text": [
      "Population Mean (i.e. Parameter): 38.64358543876172\n",
      "Sample Mean (i.e. Statistics): 38.7273751023751\n",
      "\n",
      "R E S U L T\n",
      "Population mean is estimated to be approximately equal to 38.7273751023751.\n"
     ]
    }
   ],
   "source": [
    "# # Step 3 - Estimate the Population Parameter using the Sample Statistics\n",
    "\n",
    "# # As we have a complete population data - \n",
    "# # Let's check what is the actual population parameter.\n",
    "\n",
    "print(\"Population Mean (i.e. Parameter):\", population_df['age'].mean())\n",
    "print(\"Sample Mean (i.e. Statistics):\", sample_df['age'].mean())\n",
    "\n",
    "print()\n",
    "print(\"R E S U L T\")\n",
    "print(f\"Population mean is estimated to be approximately equal to {sample_df['age'].mean()}.\")"
   ]
  },
  {
   "cell_type": "markdown",
   "metadata": {},
   "source": [
    "### How large a sample should be?"
   ]
  },
  {
   "cell_type": "code",
   "execution_count": 15,
   "metadata": {},
   "outputs": [
    {
     "data": {
      "text/html": [
       "<div>\n",
       "<style scoped>\n",
       "    .dataframe tbody tr th:only-of-type {\n",
       "        vertical-align: middle;\n",
       "    }\n",
       "\n",
       "    .dataframe tbody tr th {\n",
       "        vertical-align: top;\n",
       "    }\n",
       "\n",
       "    .dataframe thead th {\n",
       "        text-align: right;\n",
       "    }\n",
       "</style>\n",
       "<table border=\"1\" class=\"dataframe\">\n",
       "  <thead>\n",
       "    <tr style=\"text-align: right;\">\n",
       "      <th></th>\n",
       "      <th>n</th>\n",
       "      <th>mean</th>\n",
       "    </tr>\n",
       "  </thead>\n",
       "  <tbody>\n",
       "    <tr>\n",
       "      <th>0</th>\n",
       "      <td>1</td>\n",
       "      <td>26.000000</td>\n",
       "    </tr>\n",
       "    <tr>\n",
       "      <th>1</th>\n",
       "      <td>2</td>\n",
       "      <td>35.000000</td>\n",
       "    </tr>\n",
       "    <tr>\n",
       "      <th>2</th>\n",
       "      <td>3</td>\n",
       "      <td>37.333333</td>\n",
       "    </tr>\n",
       "    <tr>\n",
       "      <th>3</th>\n",
       "      <td>4</td>\n",
       "      <td>24.750000</td>\n",
       "    </tr>\n",
       "    <tr>\n",
       "      <th>4</th>\n",
       "      <td>5</td>\n",
       "      <td>54.800000</td>\n",
       "    </tr>\n",
       "  </tbody>\n",
       "</table>\n",
       "</div>"
      ],
      "text/plain": [
       "   n       mean\n",
       "0  1  26.000000\n",
       "1  2  35.000000\n",
       "2  3  37.333333\n",
       "3  4  24.750000\n",
       "4  5  54.800000"
      ]
     },
     "execution_count": 15,
     "metadata": {},
     "output_type": "execute_result"
    }
   ],
   "source": [
    "sample_means = []\n",
    "\n",
    "for sample_size in np.arange(1, 1000):\n",
    "    sample_df = population_df.sample(n=sample_size)\n",
    "    sample_means.append((sample_size, sample_df['age'].mean()))\n",
    "\n",
    "sample_means_df = pd.DataFrame(sample_means, columns=['n', 'mean'])\n",
    "\n",
    "sample_means_df.head()"
   ]
  },
  {
   "cell_type": "code",
   "execution_count": 16,
   "metadata": {},
   "outputs": [
    {
     "data": {
      "image/png": "[encoded data removed]",
      "text/plain": [
       "<Figure size 2000x400 with 1 Axes>"
      ]
     },
     "metadata": {},
     "output_type": "display_data"
    }
   ],
   "source": [
    "fig, ax = plt.subplots(figsize=(20, 4))\n",
    "\n",
    "ax.set_title(\"How large a sample should be?\")  # Add a title to the axes\n",
    "ax.set_xlabel('Sample Size')  # Add an x-label to the axes\n",
    "ax.set_ylabel('Sample Mean')  # Add a y-label to the axes\n",
    "\n",
    "sns.lineplot(data=sample_means_df, x=\"n\", y=\"mean\", ax=ax, label=\"Sample Mean\")\n",
    "ax.axhline(population_df['age'].mean(), ls='--', color='red', label=\"Population Mean\")\n",
    "\n",
    "ax.legend()\n",
    "\n",
    "plt.show()"
   ]
  },
  {
   "cell_type": "code",
   "execution_count": 17,
   "metadata": {},
   "outputs": [],
   "source": [
    "# Step 1: Take a sample (Large enough)\n",
    "sample_df = population_df.sample(n=200, random_state=0)"
   ]
  },
  {
   "cell_type": "code",
   "execution_count": 18,
   "metadata": {},
   "outputs": [
    {
     "data": {
      "text/plain": [
       "38.94"
      ]
     },
     "execution_count": 18,
     "metadata": {},
     "output_type": "execute_result"
    }
   ],
   "source": [
    "# Step 2: Calculate sample statistic\n",
    "sample_df['age'].mean()"
   ]
  },
  {
   "cell_type": "code",
   "execution_count": 19,
   "metadata": {},
   "outputs": [
    {
     "name": "stdout",
     "output_type": "stream",
     "text": [
      "Population Mean (i.e. Parameter): 38.64358543876172\n",
      "Sample Mean (i.e. Statistics): 38.94\n",
      "\n",
      "R E S U L T\n",
      "Population mean is estimated to be approximately equal to 38.94.\n"
     ]
    }
   ],
   "source": [
    "# Step 3: Pop Mean approx equal to Sample statistic\n",
    "\n",
    "# # As we have a complete population data - \n",
    "# # Let's check what is the actual population parameter.\n",
    "\n",
    "print(\"Population Mean (i.e. Parameter):\", population_df['age'].mean())\n",
    "print(\"Sample Mean (i.e. Statistics):\", sample_df['age'].mean())\n",
    "\n",
    "print()\n",
    "print(\"R E S U L T\")\n",
    "print(f\"Population mean is estimated to be approximately equal to {sample_df['age'].mean()}.\")"
   ]
  },
  {
   "cell_type": "markdown",
   "metadata": {},
   "source": [
    "## Central Limit Theorem\n",
    "\n",
    "The Central Limit Theorem (CLT) is a fundamental concept in statistics that describes the behavior of the sampling distribution of the sample mean as the sample size gets larger, **regardless of the shape of the population distribution**.\n",
    "\n",
    "The Central Limit Theorem allows us to make reliable inferences about a population based on sample data, assuming that Sample size is sufficiently large (typically around 30 or more). It doesn't necessarily apply to other sample statistics like medians or variances. \n",
    "\n",
    "The CLT is widely used in various fields, such as quality control in manufacturing, finance, hypothesis testing, and in the interpretation of experimental results.\n",
    "\n",
    "According to Central Limit Theorem, the sampling distribution of the sample mean $\\bar{X}$:\n",
    "1. Will be approximately normally distributed, regardless of the shape of the original population distribution.\n",
    "\\begin{equation}\n",
    "\\ \\bar{X} \\sim N(\\mu_\\bar{X}, \\sigma_\\bar{X})\n",
    "\\end{equation}\n",
    "2. Will have a mean that is equal to the population mean (i.e. Population Parameter).\n",
    "\\begin{equation}\n",
    "\\ \\mu_\\bar{X} \\approx \\mu_{pop}\n",
    "\\end{equation}\n",
    "3. Will have a standard deviation that is equal to the population standard deviation divided by the square root of the sample size\n",
    "\\begin{equation}\n",
    "\\ \\sigma_\\bar{X} \\approx \\frac{\\sigma_{pop}}{\\sqrt{n}}\n",
    "\\end{equation}"
   ]
  },
  {
   "cell_type": "code",
   "execution_count": 20,
   "metadata": {},
   "outputs": [],
   "source": [
    "def sampling_distribution(data, sample_size, number_of_sample):\n",
    "    sample_means = []\n",
    "    for m in range(number_of_sample):\n",
    "        sample = data.sample(n=sample_size)\n",
    "        sample_means.append((sample_size, sample.mean()))\n",
    "    sampling_distribution_df = pd.DataFrame(sample_means, columns=['n', 'mean'])\n",
    "\n",
    "    print(\"*\"*20, \" R E P O R T \", \"*\"*20)\n",
    "    print(\"Mean Check\")\n",
    "    print(\"Sampling Distribution Mean:\", sampling_distribution_df[\"mean\"].mean())\n",
    "    print(\"Population Mean: \", data.mean())\n",
    "\n",
    "    print()\n",
    "    print(\"Standard Deviation Check\")\n",
    "    print(\"Sampling Distribution Std:\", sampling_distribution_df[\"mean\"].std())\n",
    "    print(\"Population Std / (sample_size)**0.5:\", data.std()/np.sqrt(sample_size))\n",
    "\n",
    "    print(\"*\"*55)\n",
    "    \n",
    "    return sampling_distribution_df"
   ]
  },
  {
   "cell_type": "code",
   "execution_count": 21,
   "metadata": {},
   "outputs": [],
   "source": [
    "def sampling_distribution_plot(data):\n",
    "    fig, axes = plt.subplots(1, 2, figsize=(8, 3), constrained_layout=True)\n",
    "    \n",
    "    axes[0].set_title(\"Sampling Distribution\")  # Add a title to the axes\n",
    "    axes[0].set_xlabel('Mean')  # Add an x-label to the axes\n",
    "    axes[0].set_ylabel('Density')  # Add a y-label to the axes\n",
    "\n",
    "    sns.histplot(data, kde=True, ax=axes[0])\n",
    "    \n",
    "    stats.probplot(data, dist=stats.norm, plot=axes[1])\n",
    "    axes[1].grid()\n",
    "    \n",
    "    plt.show()"
   ]
  },
  {
   "cell_type": "code",
   "execution_count": 22,
   "metadata": {},
   "outputs": [
    {
     "name": "stdout",
     "output_type": "stream",
     "text": [
      "********************  R E P O R T  ********************\n",
      "Mean Check\n",
      "Sampling Distribution Mean: 38.3944\n",
      "Population Mean:  38.64358543876172\n",
      "\n",
      "Standard Deviation Check\n",
      "Sampling Distribution Std: 2.1189745566469576\n",
      "Population Std / (sample_size)**0.5: 1.9389589096341133\n",
      "*******************************************************\n"
     ]
    },
    {
     "data": {
      "image/png": "[encoded data removed]",
      "text/plain": [
       "<Figure size 800x300 with 2 Axes>"
      ]
     },
     "metadata": {},
     "output_type": "display_data"
    }
   ],
   "source": [
    "n=50\n",
    "m=100\n",
    "\n",
    "sampling_distribution_df = sampling_distribution(data=population_df['age'], sample_size=n, number_of_sample=m)\n",
    "\n",
    "sampling_distribution_plot(data=sampling_distribution_df[\"mean\"])"
   ]
  },
  {
   "cell_type": "markdown",
   "metadata": {},
   "source": [
    "### Point Estimate using m Sample\n",
    "\n",
    "According to Central Limit Theorem, the sampling distribution of the sample mean will have a mean that is equal to the population mean.\n",
    "\n",
    "**Step 1 -** Take m different large enough uniform random sample of size n.  \n",
    "**Step 2 -** Calculate the sample statistics for each sample: $ \\bar{x_i} = \\frac{\\sum{data}}{n} $  \n",
    "**Step 3 -** According to Central Limit Theorem:  \n",
    "    a. You will get a Sampling Distribution of Sample Mean: $ \\bar{X} = [\\bar{x_1}, \\bar{x_2}, \\bar{x_3}, ... , \\bar{x_m}] $  \n",
    "    b. Calculate the Mean of Sampling Distribution: $ \\mu_\\bar{X} = \\frac{\\sum{\\bar{x_i}}}{m} $   \n",
    "    c. As per CLT, we know that: $ \\mu_\\bar{X} \\approx \\mu_{POP} $     \n",
    "**Step 4 -** Estimate the Population Parameter using the Mean of Sample Statistics: $ \\mu_{POP} \\approx \\mu_\\bar{X}$\n",
    "\n",
    "**But, is it really a good idea to collect these many samples?**  "
   ]
  },
  {
   "cell_type": "code",
   "execution_count": 24,
   "metadata": {},
   "outputs": [
    {
     "name": "stdout",
     "output_type": "stream",
     "text": [
      "********************  R E P O R T  ********************\n",
      "Mean Check\n",
      "Sampling Distribution Mean: 38.65638\n",
      "Population Mean:  38.64358543876172\n",
      "\n",
      "Standard Deviation Check\n",
      "Sampling Distribution Std: 1.8811039970846501\n",
      "Population Std / (sample_size)**0.5: 1.9389589096341133\n",
      "*******************************************************\n"
     ]
    },
    {
     "data": {
      "image/png": "[encoded data removed]",
      "text/plain": [
       "<Figure size 800x300 with 2 Axes>"
      ]
     },
     "metadata": {},
     "output_type": "display_data"
    },
    {
     "name": "stdout",
     "output_type": "stream",
     "text": [
      "\n",
      "R E S U L T\n",
      "Population mean is estimated to be approximately equal to 38.65638.\n"
     ]
    }
   ],
   "source": [
    "n=50\n",
    "m=1000\n",
    "\n",
    "sampling_distribution_df = sampling_distribution(data=population_df['age'], sample_size=n, number_of_sample=m)\n",
    "\n",
    "sampling_distribution_plot(data=sampling_distribution_df[\"mean\"])\n",
    "\n",
    "print()\n",
    "print(\"R E S U L T\")\n",
    "print(f\"Population mean is estimated to be approximately equal to {sampling_distribution_df['mean'].mean()}.\")"
   ]
  },
  {
   "cell_type": "markdown",
   "metadata": {},
   "source": [
    "### Confidence Interval Estimate using 1 Sample (if population std is known)\n",
    "\n",
    "Confidence interval estimation provides a range (interval) of values within which the true population parameter is likely to fall. **It involves calculating a confidence interval around the point estimate.** For example, a 95% confidence interval might be [160 cm, 170 cm], indicating that we are 95% confident that the true population mean height falls within this range.\n",
    "\n",
    "**Step 1 -** Take a large enough uniform random sample of size n.  \n",
    "**Step 2 -** Calculate the sample statistics: $ \\bar{x} = \\frac{\\sum{data}}{n} $  \n",
    "In order for this to work, **REMEMBER** the following:  \n",
    "    a. $ \\bar{x} $ comes from a Sampling Distribution i.e. $ \\bar{X} $   \n",
    "    b. We should know the Population's Standard Deviation i.e. $ \\sigma_{POP} $   \n",
    "    c. This is because, Sampling Distribution's Standard Deviation or Standard Error i.e. $ \\sigma_{\\bar{X}} = \\frac{\\sigma_{POP}}{\\sqrt{n}} $   \n",
    "**Step 3 -** Now set the confidence level and **CALCULATE** the margin of error as following:  \n",
    "    a. Calculate the Standard Error (SE) $ \\sigma_{\\bar{X}} = \\frac{\\sigma_{POP}}{\\sqrt{n}} $   \n",
    "    b. Calculate the critical value (z-score).  \n",
    "    c. Calculate the margin of error (MOE = z_score * SE).  \n",
    "**Step 4 -** Estimate the Population Parameter using sample mean and population standard deviation:  \n",
    "$$ \\mu_{POP} \\approx [\\bar{x} \\pm (z^*_\\frac{\\alpha}{2} * \\frac{\\sigma_{POP}}{\\sqrt{n}})] with \\ y\\% \\ confidence $$"
   ]
  },
  {
   "cell_type": "code",
   "execution_count": 25,
   "metadata": {},
   "outputs": [],
   "source": [
    "# Step 1: Take a sample (Large enough)\n",
    "sample_size = 200\n",
    "\n",
    "sample_df = population_df.sample(n=sample_size, random_state=0)"
   ]
  },
  {
   "cell_type": "code",
   "execution_count": 26,
   "metadata": {},
   "outputs": [
    {
     "name": "stdout",
     "output_type": "stream",
     "text": [
      "Population Std: 13.71036957798689\n",
      "Sample Mean: 38.94\n",
      "Sample Std: 13.512934432791592\n"
     ]
    }
   ],
   "source": [
    "# Step 2: Calculate sample statistics (i.e. mean and standard deviation of the sample)\n",
    "\n",
    "population_std = np.std(population_df['age'])\n",
    "sample_mean = np.mean(sample_df['age'])\n",
    "sample_std = np.std(sample_df['age'], ddof=1)\n",
    "\n",
    "# Use ddof=1 for sample standard deviation\n",
    "# The divisor used in calculations is N - ddof, where N represents the number of elements. \n",
    "# By default ddof is zero.\n",
    "\n",
    "print(\"Population Std:\", population_std)\n",
    "print(\"Sample Mean:\", sample_mean)\n",
    "print(\"Sample Std:\", sample_std)"
   ]
  },
  {
   "cell_type": "code",
   "execution_count": 27,
   "metadata": {},
   "outputs": [],
   "source": [
    "# Step 3: Set confidence level (e.g., 95% confidence level)\n",
    "confidence_level = 0.95"
   ]
  },
  {
   "cell_type": "code",
   "execution_count": 28,
   "metadata": {},
   "outputs": [
    {
     "name": "stdout",
     "output_type": "stream",
     "text": [
      "Standard Error: 0.9694695301168273\n"
     ]
    }
   ],
   "source": [
    "# Step 3a: Calculate standard error (SE)\n",
    "standard_error = population_std / np.sqrt(sample_size)\n",
    "\n",
    "print(\"Standard Error:\", standard_error)"
   ]
  },
  {
   "cell_type": "code",
   "execution_count": 29,
   "metadata": {},
   "outputs": [
    {
     "name": "stdout",
     "output_type": "stream",
     "text": [
      "Z Score: 1.959963984540054\n"
     ]
    }
   ],
   "source": [
    "# Step 3b: Calculate the critical value (z-score)\n",
    "significance_level = 1 - confidence_level\n",
    "\n",
    "z_score = stats.norm.ppf(1 - significance_level/2)\n",
    "\n",
    "print(\"Z Score:\", z_score)"
   ]
  },
  {
   "cell_type": "code",
   "execution_count": 30,
   "metadata": {},
   "outputs": [
    {
     "name": "stdout",
     "output_type": "stream",
     "text": [
      "Margin of Error: 1.9001253631379509\n"
     ]
    }
   ],
   "source": [
    "# Step 3c: Calculate the margin of error (MOE)\n",
    "margin_of_error = z_score * standard_error\n",
    "\n",
    "print(\"Margin of Error:\", margin_of_error)"
   ]
  },
  {
   "cell_type": "code",
   "execution_count": 31,
   "metadata": {},
   "outputs": [
    {
     "name": "stdout",
     "output_type": "stream",
     "text": [
      "Lower Bound: 37.039874636862045\n",
      "Upper Bound: 40.84012536313795\n"
     ]
    }
   ],
   "source": [
    "# Step 4: Calculate the confidence interval\n",
    "lower_bound = sample_mean - margin_of_error\n",
    "upper_bound = sample_mean + margin_of_error\n",
    "\n",
    "print(\"Lower Bound:\", lower_bound)\n",
    "print(\"Upper Bound:\", upper_bound)"
   ]
  },
  {
   "cell_type": "code",
   "execution_count": 32,
   "metadata": {},
   "outputs": [
    {
     "name": "stdout",
     "output_type": "stream",
     "text": [
      "Sample Mean: 38.94\n",
      "Margin of Error: 1.9001253631379509\n",
      "Confidence Interval (95.0%): (37.039874636862045, 40.84012536313795)\n",
      "\n",
      "R E S U L T\n",
      "Population mean is estimated to lie in (37.039874636862045, 40.84012536313795) range with 95.0% confidence.\n"
     ]
    }
   ],
   "source": [
    "# Print the results\n",
    "print(f\"Sample Mean: {sample_mean}\")\n",
    "print(f\"Margin of Error: {margin_of_error}\")\n",
    "print(f\"Confidence Interval ({confidence_level*100}%): ({lower_bound}, {upper_bound})\")\n",
    "\n",
    "print()\n",
    "print(\"R E S U L T\")\n",
    "print(f\"Population mean is estimated to lie in ({lower_bound}, {upper_bound}) range with {confidence_level*100}% confidence.\")"
   ]
  },
  {
   "cell_type": "markdown",
   "metadata": {},
   "source": [
    "**Explanation:**\n",
    "1. Take a sufficiently large enough sample dataset.\n",
    "2. Set the desired confidence level (e.g., 95% confidence level).\n",
    "3. Calculate the sample mean, sample standard deviation, standard error, and the margin of error.\n",
    "4. Using the z-distribution, we find the critical value (z-score) corresponding to the desired confidence level.\n",
    "5. Calculate the lower and upper bounds of the confidence interval.\n",
    "6. Finally, we print out the results."
   ]
  },
  {
   "cell_type": "markdown",
   "metadata": {},
   "source": [
    "### Confidence Interval Estimate using 1 Sample (if Population Std is unknown)\n",
    "\n",
    "**Step 1 -** Take a uniform random sample of size n.  \n",
    "**Step 2 -** Calculate the sample statistics: $ \\bar{x} = \\frac{\\sum{data}}{n} $  \n",
    "In order for this to work, **REMEMBER** the following:  \n",
    "    a. $ \\bar{x} $ comes from a Sampling Distribution i.e. $ \\bar{X} $   \n",
    "    b. In this case Population Standard Deviation is UNKNOWN.     \n",
    "**Step 3 -** Now set the confidence level and **CALCULATE** the margin of error as following:  \n",
    "    a. Calculate the Standard Error (SE) $ \\sigma_{\\bar{X}} = \\frac{S}{\\sqrt{n}} $   \n",
    "    b. Calculate the critical value (t-score).  \n",
    "    c. Calculate the margin of error (MOE = t_score * SE).  \n",
    "**Step 4 -** Estimate the Population Parameter using sample mean and population standard deviation:  \n",
    "$$ \\mu_{POP} \\approx [\\bar{x} \\pm (t^*_{\\frac{\\alpha}{2}, n-1} * \\frac{S}{\\sqrt{n}})] with \\ y\\% \\ confidence $$"
   ]
  },
  {
   "cell_type": "code",
   "execution_count": 33,
   "metadata": {},
   "outputs": [],
   "source": [
    "# Step 1: Take a sample\n",
    "sample_size = 200\n",
    "\n",
    "sample_df = population_df.sample(n=sample_size, random_state=0)"
   ]
  },
  {
   "cell_type": "code",
   "execution_count": 34,
   "metadata": {},
   "outputs": [
    {
     "name": "stdout",
     "output_type": "stream",
     "text": [
      "Sample Mean: 38.94\n",
      "Sample Std: 13.512934432791592\n"
     ]
    }
   ],
   "source": [
    "# Step 2: Calculate sample statistics (i.e. mean and standard deviation of the sample)\n",
    "\n",
    "sample_mean = np.mean(sample_df['age'])\n",
    "sample_std = np.std(sample_df['age'], ddof=1)\n",
    "\n",
    "# Use ddof=1 for sample standard deviation\n",
    "# The divisor used in calculations is N - ddof, where N represents the number of elements. \n",
    "# By default ddof is zero.\n",
    "\n",
    "print(\"Sample Mean:\", sample_mean)\n",
    "print(\"Sample Std:\", sample_std)"
   ]
  },
  {
   "cell_type": "code",
   "execution_count": 35,
   "metadata": {},
   "outputs": [],
   "source": [
    "# Step 3: Set confidence level (e.g., 95% confidence level)\n",
    "confidence_level = 0.95"
   ]
  },
  {
   "cell_type": "code",
   "execution_count": 36,
   "metadata": {},
   "outputs": [
    {
     "name": "stdout",
     "output_type": "stream",
     "text": [
      "Standard Error: 0.9555087571156128\n"
     ]
    }
   ],
   "source": [
    "# Step 3a: Calculate standard error (SE)\n",
    "standard_error = sample_std / np.sqrt(sample_size)\n",
    "\n",
    "print(\"Standard Error:\", standard_error)"
   ]
  },
  {
   "cell_type": "code",
   "execution_count": 37,
   "metadata": {},
   "outputs": [
    {
     "name": "stdout",
     "output_type": "stream",
     "text": [
      "t Score: 1.971956544249395\n"
     ]
    }
   ],
   "source": [
    "# Step 3b: Calculate the critical value (z-score)\n",
    "significance_level = 1 - confidence_level\n",
    "\n",
    "t_score = stats.t.ppf(1 - significance_level/2, df=sample_size-1)\n",
    "\n",
    "print(\"t Score:\", t_score)"
   ]
  },
  {
   "cell_type": "code",
   "execution_count": 38,
   "metadata": {},
   "outputs": [
    {
     "name": "stdout",
     "output_type": "stream",
     "text": [
      "Margin of Error: 1.8842217466817381\n"
     ]
    }
   ],
   "source": [
    "# Step 3c: Calculate the margin of error (MOE)\n",
    "margin_of_error = t_score * standard_error\n",
    "\n",
    "print(\"Margin of Error:\", margin_of_error)"
   ]
  },
  {
   "cell_type": "code",
   "execution_count": 39,
   "metadata": {},
   "outputs": [
    {
     "name": "stdout",
     "output_type": "stream",
     "text": [
      "Lower Bound: 37.05577825331826\n",
      "Upper Bound: 40.82422174668174\n"
     ]
    }
   ],
   "source": [
    "# Step 4: Calculate the confidence interval\n",
    "lower_bound = sample_mean - margin_of_error\n",
    "upper_bound = sample_mean + margin_of_error\n",
    "\n",
    "print(\"Lower Bound:\", lower_bound)\n",
    "print(\"Upper Bound:\", upper_bound)"
   ]
  },
  {
   "cell_type": "code",
   "execution_count": 40,
   "metadata": {},
   "outputs": [
    {
     "name": "stdout",
     "output_type": "stream",
     "text": [
      "Sample Mean: 38.94\n",
      "Margin of Error: 1.8842217466817381\n",
      "Confidence Interval (95.0%): (37.05577825331826, 40.82422174668174)\n",
      "\n",
      "R E S U L T\n",
      "Population mean lies in (37.05577825331826, 40.82422174668174) range with 95.0% confidence.\n"
     ]
    }
   ],
   "source": [
    "# Print the results\n",
    "print(f\"Sample Mean: {sample_mean}\")\n",
    "print(f\"Margin of Error: {margin_of_error}\")\n",
    "print(f\"Confidence Interval ({confidence_level*100}%): ({lower_bound}, {upper_bound})\")\n",
    "\n",
    "print()\n",
    "print(\"R E S U L T\")\n",
    "print(f\"Population mean lies in ({lower_bound}, {upper_bound}) range with {confidence_level*100}% confidence.\")"
   ]
  },
  {
   "cell_type": "markdown",
   "metadata": {},
   "source": [
    "**Explanation:**\n",
    "1. Take a sufficiently large enough sample dataset.\n",
    "2. Set the desired confidence level (e.g., 95% confidence level).\n",
    "3. Calculate the sample mean, sample standard deviation, standard error, and the margin of error.\n",
    "4. Using the t-distribution (since the sample size is small), we find the critical value (t-score) corresponding to the desired confidence level.\n",
    "5. Calculate the lower and upper bounds of the confidence interval.\n",
    "6. Finally, we print out the results."
   ]
  }
 ],
 "metadata": {
  "kernelspec": {
   "display_name": "Python 3 (ipykernel)",
   "language": "python",
   "name": "python3"
  },
  "language_info": {
   "codemirror_mode": {
    "name": "ipython",
    "version": 3
   },
   "file_extension": ".py",
   "mimetype": "text/x-python",
   "name": "python",
   "nbconvert_exporter": "python",
   "pygments_lexer": "ipython3",
   "version": "3.9.13"
  }
 },
 "nbformat": 4,
 "nbformat_minor": 4
}
