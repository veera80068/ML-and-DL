{
 "cells": [
  {
   "cell_type": "markdown",
   "id": "c0d9e8ed-d1c0-4c50-a152-754d6ba79759",
   "metadata": {},
   "source": [
    "### Inferential Statistics:\n",
    "\n",
    "1. What is the purpose of inferential statistics?\n",
    "2. Explain the difference between a parameter and a statistic.\n",
    "3. When would you use a one-sample t-test versus a two-sample t-test?\n",
    "4. What is a confidence interval and how is it interpreted?\n",
    "5. Explain the concept of hypothesis testing and the steps involved.\n",
    "6. When would you use a chi-squared test for independence?\n",
    "7. What is the difference between a Type I error and a Type II error?\n",
    "8. What is a p-value threshold and why is it important?\n",
    "9. How do you choose the appropriate significance level for a hypothesis test?\n",
    "10. Explain the purpose of power analysis in hypothesis testing."
   ]
  },
  {
   "cell_type": "markdown",
   "id": "4f20c696-98da-43f2-a133-035fc440c21a",
   "metadata": {},
   "source": [
    "### Inferential Statistics:\n",
    "\n",
    "11. **What is the purpose of inferential statistics?**\n",
    "\n",
    "    *Answer:* Inferential statistics allow us to make inferences and draw conclusions about a population based on a sample. It helps us generalize findings from the sample to the larger population and make predictions or test hypotheses.\n",
    "\n",
    "12. **Explain the difference between a parameter and a statistic.**\n",
    "\n",
    "    *Answer:* \n",
    "    - A **parameter** is a numerical summary of a population, such as the population mean or standard deviation. It's typically denoted by Greek letters like μ (mean) or σ (standard deviation).\n",
    "    - A **statistic** is a numerical summary of a sample, such as the sample mean or sample standard deviation. It's used to estimate population parameters.\n",
    "\n",
    "13. **When would you use a one-sample t-test versus a two-sample t-test?**\n",
    "\n",
    "    *Answer:* \n",
    "    - A **one-sample t-test** is used to determine if the sample mean is significantly different from a known or hypothesized population mean.\n",
    "    - A **two-sample t-test** is used to compare the means of two independent samples to see if they are significantly different from each other.\n",
    "\n",
    "14. **What is a confidence interval and how is it interpreted?**\n",
    "\n",
    "    *Answer:* A confidence interval is a range of values within which we believe the true population parameter lies with a certain level of confidence (e.g., 95%). For example, if we say we are 95% confident that the true population mean falls between 20 and 30, it means that if we were to take many random samples and construct intervals in the same way, about 95% of those intervals would contain the true population mean.\n",
    "\n",
    "15. **Explain the concept of hypothesis testing and the steps involved.**\n",
    "\n",
    "    *Answer:* \n",
    "    - **Hypothesis Testing** is a systematic way of making decisions about a population parameter based on sample data. It involves:\n",
    "        1. **Formulating a null hypothesis (H0)** that assumes no significant difference or relationship exists.\n",
    "        2. **Formulating an alternative hypothesis (H1 or HA)** that contradicts the null hypothesis and represents what we're trying to show.\n",
    "        3. **Collecting and analyzing data** to determine if there is enough evidence to reject the null hypothesis.\n",
    "        4. **Drawing a conclusion** based on the results, either rejecting the null hypothesis or failing to reject it.\n",
    "\n",
    "16. **When would you use a chi-squared test for independence?**\n",
    "\n",
    "    *Answer:* A chi-squared test for independence is used to determine if there is a significant association between two categorical variables. It's applied when we want to test if there is a relationship between the variables rather than just independence.\n",
    "\n",
    "17. **What is the difference between a Type I error and a Type II error?**\n",
    "\n",
    "    *Answer:* \n",
    "    - **Type I Error (False Positive):** Rejecting the null hypothesis when it is actually true. It represents a false alarm.\n",
    "    - **Type II Error (False Negative):** Failing to reject the null hypothesis when it is actually false. It represents a missed opportunity to detect a real effect.\n",
    "\n",
    "18. **What is a p-value threshold and why is it important?**\n",
    "\n",
    "    *Answer:* \n",
    "    - The p-value threshold is a predetermined level of significance (e.g., 0.05) used to decide if we should reject the null hypothesis in hypothesis testing. If the calculated p-value is less than or equal to the threshold, we reject the null hypothesis.\n",
    "    - It's important because it helps control the rate of Type I errors. By setting a threshold, we define the level of evidence needed to reject the null hypothesis. Lower thresholds (e.g., 0.01) require stronger evidence.\n",
    "\n",
    "19. **How do you choose the appropriate significance level for a hypothesis test?**\n",
    "\n",
    "    *Answer:* The choice of significance level depends on the consequences of making a Type I error. A lower significance level (e.g., 0.01) is more conservative and is appropriate when false positives have serious consequences. A higher significance level (e.g., 0.05) is acceptable when the cost of a Type I error is lower.\n",
    "\n",
    "20. **Explain the purpose of power analysis in hypothesis testing.**\n",
    "\n",
    "    *Answer:* Power analysis helps determine the sample size needed to detect a meaningful effect if it truly exists. It balances the risk of Type I and Type II errors. A higher power indicates a lower risk of Type II errors. It's crucial for designing experiments and studies to ensure they have sufficient statistical power to detect meaningful effects."
   ]
  },
  {
   "cell_type": "code",
   "execution_count": null,
   "id": "3e4ac516-d264-4658-bedb-8c2420ab5308",
   "metadata": {},
   "outputs": [],
   "source": []
  }
 ],
 "metadata": {
  "kernelspec": {
   "display_name": "Python 3 (ipykernel)",
   "language": "python",
   "name": "python3"
  },
  "language_info": {
   "codemirror_mode": {
    "name": "ipython",
    "version": 3
   },
   "file_extension": ".py",
   "mimetype": "text/x-python",
   "name": "python",
   "nbconvert_exporter": "python",
   "pygments_lexer": "ipython3",
   "version": "3.9.13"
  }
 },
 "nbformat": 4,
 "nbformat_minor": 5
}
