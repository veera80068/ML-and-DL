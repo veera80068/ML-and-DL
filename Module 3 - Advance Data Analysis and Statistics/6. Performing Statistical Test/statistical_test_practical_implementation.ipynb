{
 "cells": [
  {
   "cell_type": "markdown",
   "metadata": {},
   "source": [
    "# **Statistical Tests in Python**"
   ]
  },
  {
   "cell_type": "markdown",
   "metadata": {},
   "source": [
    "## **Concepts**"
   ]
  },
  {
   "cell_type": "markdown",
   "metadata": {},
   "source": [
    "### **Concept 1 - What is a Statistical Test?**\n",
    "Statistical tests are used in Hypothesis Testing. You can use them to determine:\n",
    "- the relationships between input and output variables\n",
    "- estimate the differences between two or more groups"
   ]
  },
  {
   "cell_type": "markdown",
   "metadata": {},
   "source": [
    "### **Concept 2 - What is Hypothesis Testing?**\n",
    "Hypothesis testing is a way for scientists and researchers to make decisions about whether their ideas, or hypotheses, are supported by evidence from their experiments or observations.\n",
    "\n",
    "Here's a simple breakdown:\n",
    "1. **Formulate a Hypothesis:** Start with an idea or a guess about something you want to study. This is called a hypothesis.\n",
    "2. **Collect Data:** Conduct experiments or gather information to see if the data supports your hypothesis.\n",
    "3. **Test Your Hypothesis:** Use statistical techniques to analyze the data and determine if it provides strong evidence for or against your hypothesis.\n",
    "4. **Decide a Significance Level:** Decide a significance level.\n",
    "5. **Make a Conclusion:** Based on the analysis, you decide whether the data supports your original idea or if it suggests something different.\n",
    "\n",
    "In even simpler terms, hypothesis testing helps us figure out if our educated guesses about how things work are likely to be true or not, based on the evidence we collect. It's like being a detective and using clues to decide if a suspect is guilty or not guilty!"
   ]
  },
  {
   "cell_type": "markdown",
   "metadata": {},
   "source": [
    "### **Concept 3 - What is a Type I and Type II Error?**\n",
    "\n",
    "Type I and Type II errors are concepts related to hypothesis testing in statistics. Here's an explanation of each type with examples:\n",
    "\n",
    "#### Type I Error (False Positive):\n",
    "- **Definition:** Type I error occurs when we reject a true null hypothesis. In other words, we incorrectly conclude that there is an effect or difference when there isn't one.\n",
    "- **Symbol:** Often denoted by $( \\alpha )$, the significance level.\n",
    "- **Example:**\n",
    "  - **Scenario:** Testing a new drug's effectiveness.\n",
    "  - **Null Hypothesis $(H_0)$:** The drug has no effect.\n",
    "  - **Type I Error $( \\alpha )$:** Concluding the drug is effective when it actually has no effect. or Concluding the person has commited a crime when he is actually innocent.\n",
    "\n",
    "#### Type II Error (False Negative):\n",
    "- **Definition:** Type II error occurs when we fail to reject a false null hypothesis. In this case, there is a true effect or difference, but our test fails to detect it.\n",
    "- **Symbol:** Often denoted by $( \\beta )$.\n",
    "- **Example:**\n",
    "  - **Scenario:** Testing a new drug's effectiveness.\n",
    "  - **Alternative Hypothesis $(H_1)$:** The drug has a significant effect.\n",
    "  - **Type II Error $( \\beta )$:** Failing to detect the drug's effectiveness when it actually has an effect. or Failing to detect the person has commited a crime when he is actually guilty.\n",
    "\n",
    "#### Relationship:\n",
    "\n",
    "- **Inverse Relationship:** There is typically an inverse relationship between Type I and Type II errors. As you decrease the likelihood of one type of error, the likelihood of the other type of error increases.\n",
    "- **Adjusting Significance Level $( \\alpha )$:** By decreasing the significance level $( \\alpha )$, the probability of Type I error decreases, but the probability of Type II error may increase.\n",
    "\n",
    "It's crucial to strike a balance between these two types of errors based on the specific context and consequences of each error. The choice of significance level and statistical power (the ability to detect true effects) influences the likelihood of Type I and Type II errors in hypothesis testing."
   ]
  },
  {
   "cell_type": "markdown",
   "metadata": {},
   "source": [
    "### **Concept 4 - What is p-value?**\n",
    "The p-value, short for \"probability value,\" is a number that helps us understand the strength of evidence against a null hypothesis in hypothesis testing.\n",
    "\n",
    "**OR**\n",
    "\n",
    "p-value quantifies the strength of evidence i.e. how likely the evidence occured by a random chance. The smaller the p-value, less likely the result occured by random change and the stronger the evidence that you should reject the null hypothesis.\n",
    "\n",
    "To say whether the p-value is significant or not, we need a significance threshold called the **significance level**. This threshold is usually set at 0.05. \n",
    "\n",
    "It's important because it helps control the rate of Type I errors. By setting a threshold, we define the level of evidence needed to reject the null hypothesis. Lower thresholds (e.g., 0.01) require stronger evidence.\n",
    "\n",
    "\n",
    "If the p-value is **BELOW** the threshold (meaning smaller than), then you can infer a **statistically significant evidence** i.e. outcome didn't occur randomly.    \n",
    "i.e. For p-value < 0.05, you can Reject the Null Hypothesis\n",
    "\n",
    "Otherwise, then you can infer **no statistically significant evidence** i.e. outcome occured at random.  \n",
    "i.e. For p-value > 0.05, you Fail to Reject the Null Hypothesis\n",
    "\n",
    "Here's a simple explanation:\n",
    "1. **Formulate the Hypothesis**\n",
    "    - `Null Hypothesis (H0):` This is a statement that there is no significant difference or relationship. It's like assuming innocence in a court trial.\n",
    "    - `Alternative Hypothesis (H1):` This is the opposite of the null hypothesis. It suggests that there is a significant difference or relationship.\n",
    "2. **Collect Data:** Perform experiments or gather information.\n",
    "3. **Apply an appropriate Statistical Test**\n",
    "    - `Calculate Test Statistic:` This is a numerical value calculated from your data, depending on the type of test you're conducting (e.g., t-test, F-test, etc.).\n",
    "    - `Calculate p-value:` It's the probability of observing a test statistic as extreme as, or more extreme than, the one calculated from your data, assuming the null hypothesis is true.\n",
    "4. **Decide a Significance Level**\n",
    "5. **Make a Conclusion**\n",
    "    - `if p_value < significance_level` => Reject the null hypothesis $(H_0)$\n",
    "    - `otherwise` => Fail to reject the null hypothesis $(H_0)$\n",
    "\n",
    "Now, let's go through an example:   \n",
    "**Example: Coin Toss**  \n",
    "Suppose you have a coin and you want to test if it's fair (i.e., has an equal chance of landing heads or tails). Here's how hypothesis testing works:  \n",
    "1. Formulate the Hypothesis.  \n",
    "    - `Null Hypothesis (H0):` The coin is fair.\n",
    "    - `Alternative Hypothesis (H1):` The coin is not fair (meaning it's biased).\n",
    "2. Collect a sample.  \n",
    "    - You flip the coin 100 times and get 60 heads and 40 tails.\n",
    "3. You calculate a test statistic   \n",
    "    - In this case, you might use a chi-squared test.\n",
    "    - Let's say the p-value you calculate is 0.03.  \n",
    "4. Decide a significance_level (i.e. alpha = 0.05)  \n",
    "5. Make a conclusion - If you set a significance level (often denoted as alpha, α) at 0.05 (5%), then your p-value of 0.03 is less than α. This means:\n",
    "    - If the coin were fair (null hypothesis is true), you'd expect to see results as extreme as this or more extreme only 3% of the time.\n",
    "    - Since 3% is less than 5%, you have enough evidence to reject the null hypothesis. You conclude that the coin is likely biased.  \n",
    "\n",
    "Remember, a small p-value indicates strong evidence against the null hypothesis, while a large p-value suggests weak evidence against it. However, a p-value alone does not prove or disprove anything; it's just part of the evidence you consider in making a decision."
   ]
  },
  {
   "cell_type": "markdown",
   "metadata": {
    "jp-MarkdownHeadingCollapsed": true
   },
   "source": [
    "### **Concept 5 - Important Hypothesis Tests**\n",
    "\n",
    "There are many hypothesis tests. Here is a list of few most important tests:\n",
    "#### **Univariate**\n",
    "- **Chi-Square Goodness-of-Fit Test:** Tests whether the observed frequencies of categorical data match the expected frequencies according to a specified distribution.\n",
    "- **Shapiro-Wilk Test:** The Shapiro-Wilk test is a statistical test that checks whether a dataset follows a normal distribution.\n",
    "- **Kolmogorov-Smirnov Test:** Tests whether a sample comes from a specific distribution (not limited to normal distribution). It can be used to compare any two continuous distributions.\n",
    "- **One-Sample t-test:** Tests whether the mean of a single sample is significantly different from a known or hypothesized population mean.\n",
    "\n",
    "#### **Bivariate**\n",
    "- **Pearson Test:** Tests whether two samples have a linear relationship.\n",
    "- **Two-Sample t-test:** Compares the means of two related samples (e.g., before and after treatment) to determine if there is a significant difference.\n",
    "- **ANOVA (one_way_anova):** Compares the mean of three or more samples. It helps determine if there is a significant difference between the samples.\n",
    "- **Chi-Square Test of Independence:** Tests whether there is a significant association between two categorical variables in a contingency table."
   ]
  },
  {
   "cell_type": "markdown",
   "metadata": {},
   "source": [
    "## **Importing all the Required Libraries**"
   ]
  },
  {
   "cell_type": "code",
   "execution_count": 1,
   "metadata": {},
   "outputs": [],
   "source": [
    "import pandas as pd\n",
    "import numpy as np\n",
    "\n",
    "import matplotlib.pyplot as plt\n",
    "import seaborn as sns\n",
    "\n",
    "from scipy import stats"
   ]
  },
  {
   "cell_type": "markdown",
   "metadata": {},
   "source": [
    "## **Loading the Data**"
   ]
  },
  {
   "cell_type": "code",
   "execution_count": 2,
   "metadata": {},
   "outputs": [],
   "source": [
    "df = pd.read_csv('data/adult.csv')"
   ]
  },
  {
   "cell_type": "code",
   "execution_count": 3,
   "metadata": {},
   "outputs": [
    {
     "data": {
      "text/html": [
       "<div>\n",
       "<style scoped>\n",
       "    .dataframe tbody tr th:only-of-type {\n",
       "        vertical-align: middle;\n",
       "    }\n",
       "\n",
       "    .dataframe tbody tr th {\n",
       "        vertical-align: top;\n",
       "    }\n",
       "\n",
       "    .dataframe thead th {\n",
       "        text-align: right;\n",
       "    }\n",
       "</style>\n",
       "<table border=\"1\" class=\"dataframe\">\n",
       "  <thead>\n",
       "    <tr style=\"text-align: right;\">\n",
       "      <th></th>\n",
       "      <th>age</th>\n",
       "      <th>workclass</th>\n",
       "      <th>fnlwgt</th>\n",
       "      <th>education</th>\n",
       "      <th>educational-num</th>\n",
       "      <th>marital-status</th>\n",
       "      <th>occupation</th>\n",
       "      <th>relationship</th>\n",
       "      <th>race</th>\n",
       "      <th>gender</th>\n",
       "      <th>capital-gain</th>\n",
       "      <th>capital-loss</th>\n",
       "      <th>hours-per-week</th>\n",
       "      <th>native-country</th>\n",
       "      <th>income</th>\n",
       "    </tr>\n",
       "  </thead>\n",
       "  <tbody>\n",
       "    <tr>\n",
       "      <th>0</th>\n",
       "      <td>25</td>\n",
       "      <td>Private</td>\n",
       "      <td>226802</td>\n",
       "      <td>11th</td>\n",
       "      <td>7</td>\n",
       "      <td>Never-married</td>\n",
       "      <td>Machine-op-inspct</td>\n",
       "      <td>Own-child</td>\n",
       "      <td>Black</td>\n",
       "      <td>Male</td>\n",
       "      <td>0</td>\n",
       "      <td>0</td>\n",
       "      <td>40</td>\n",
       "      <td>United-States</td>\n",
       "      <td>&lt;=50K</td>\n",
       "    </tr>\n",
       "    <tr>\n",
       "      <th>1</th>\n",
       "      <td>38</td>\n",
       "      <td>Private</td>\n",
       "      <td>89814</td>\n",
       "      <td>HS-grad</td>\n",
       "      <td>9</td>\n",
       "      <td>Married-civ-spouse</td>\n",
       "      <td>Farming-fishing</td>\n",
       "      <td>Husband</td>\n",
       "      <td>White</td>\n",
       "      <td>Male</td>\n",
       "      <td>0</td>\n",
       "      <td>0</td>\n",
       "      <td>50</td>\n",
       "      <td>United-States</td>\n",
       "      <td>&lt;=50K</td>\n",
       "    </tr>\n",
       "    <tr>\n",
       "      <th>2</th>\n",
       "      <td>28</td>\n",
       "      <td>Local-gov</td>\n",
       "      <td>336951</td>\n",
       "      <td>Assoc-acdm</td>\n",
       "      <td>12</td>\n",
       "      <td>Married-civ-spouse</td>\n",
       "      <td>Protective-serv</td>\n",
       "      <td>Husband</td>\n",
       "      <td>White</td>\n",
       "      <td>Male</td>\n",
       "      <td>0</td>\n",
       "      <td>0</td>\n",
       "      <td>40</td>\n",
       "      <td>United-States</td>\n",
       "      <td>&gt;50K</td>\n",
       "    </tr>\n",
       "    <tr>\n",
       "      <th>3</th>\n",
       "      <td>44</td>\n",
       "      <td>Private</td>\n",
       "      <td>160323</td>\n",
       "      <td>Some-college</td>\n",
       "      <td>10</td>\n",
       "      <td>Married-civ-spouse</td>\n",
       "      <td>Machine-op-inspct</td>\n",
       "      <td>Husband</td>\n",
       "      <td>Black</td>\n",
       "      <td>Male</td>\n",
       "      <td>7688</td>\n",
       "      <td>0</td>\n",
       "      <td>40</td>\n",
       "      <td>United-States</td>\n",
       "      <td>&gt;50K</td>\n",
       "    </tr>\n",
       "    <tr>\n",
       "      <th>4</th>\n",
       "      <td>18</td>\n",
       "      <td>?</td>\n",
       "      <td>103497</td>\n",
       "      <td>Some-college</td>\n",
       "      <td>10</td>\n",
       "      <td>Never-married</td>\n",
       "      <td>?</td>\n",
       "      <td>Own-child</td>\n",
       "      <td>White</td>\n",
       "      <td>Female</td>\n",
       "      <td>0</td>\n",
       "      <td>0</td>\n",
       "      <td>30</td>\n",
       "      <td>United-States</td>\n",
       "      <td>&lt;=50K</td>\n",
       "    </tr>\n",
       "  </tbody>\n",
       "</table>\n",
       "</div>"
      ],
      "text/plain": [
       "   age  workclass  fnlwgt     education  educational-num      marital-status  \\\n",
       "0   25    Private  226802          11th                7       Never-married   \n",
       "1   38    Private   89814       HS-grad                9  Married-civ-spouse   \n",
       "2   28  Local-gov  336951    Assoc-acdm               12  Married-civ-spouse   \n",
       "3   44    Private  160323  Some-college               10  Married-civ-spouse   \n",
       "4   18          ?  103497  Some-college               10       Never-married   \n",
       "\n",
       "          occupation relationship   race  gender  capital-gain  capital-loss  \\\n",
       "0  Machine-op-inspct    Own-child  Black    Male             0             0   \n",
       "1    Farming-fishing      Husband  White    Male             0             0   \n",
       "2    Protective-serv      Husband  White    Male             0             0   \n",
       "3  Machine-op-inspct      Husband  Black    Male          7688             0   \n",
       "4                  ?    Own-child  White  Female             0             0   \n",
       "\n",
       "   hours-per-week native-country income  \n",
       "0              40  United-States  <=50K  \n",
       "1              50  United-States  <=50K  \n",
       "2              40  United-States   >50K  \n",
       "3              40  United-States   >50K  \n",
       "4              30  United-States  <=50K  "
      ]
     },
     "execution_count": 3,
     "metadata": {},
     "output_type": "execute_result"
    }
   ],
   "source": [
    "df.head()"
   ]
  },
  {
   "cell_type": "code",
   "execution_count": 4,
   "metadata": {},
   "outputs": [
    {
     "data": {
      "text/plain": [
       "(48842, 15)"
      ]
     },
     "execution_count": 4,
     "metadata": {},
     "output_type": "execute_result"
    }
   ],
   "source": [
    "df.shape"
   ]
  },
  {
   "cell_type": "code",
   "execution_count": 5,
   "metadata": {},
   "outputs": [
    {
     "data": {
      "text/plain": [
       "Index(['age', 'workclass', 'fnlwgt', 'education', 'educational-num',\n",
       "       'marital-status', 'occupation', 'relationship', 'race', 'gender',\n",
       "       'capital-gain', 'capital-loss', 'hours-per-week', 'native-country',\n",
       "       'income'],\n",
       "      dtype='object')"
      ]
     },
     "execution_count": 5,
     "metadata": {},
     "output_type": "execute_result"
    }
   ],
   "source": [
    "df.columns"
   ]
  },
  {
   "cell_type": "markdown",
   "metadata": {},
   "source": [
    "## **Renaming the Columns**"
   ]
  },
  {
   "cell_type": "code",
   "execution_count": 6,
   "metadata": {},
   "outputs": [
    {
     "data": {
      "text/plain": [
       "Index(['age', 'workclass', 'fnlwgt', 'education', 'educational_num',\n",
       "       'marital_status', 'occupation', 'relationship', 'race', 'gender',\n",
       "       'capital_gain', 'capital_loss', 'hours_per_week', 'native_country',\n",
       "       'income'],\n",
       "      dtype='object')"
      ]
     },
     "execution_count": 6,
     "metadata": {},
     "output_type": "execute_result"
    }
   ],
   "source": [
    "df.columns = df.columns.str.strip().str.replace('-', '_')\n",
    "\n",
    "df.columns"
   ]
  },
  {
   "cell_type": "code",
   "execution_count": 7,
   "metadata": {},
   "outputs": [
    {
     "name": "stdout",
     "output_type": "stream",
     "text": [
      "<class 'pandas.core.frame.DataFrame'>\n",
      "RangeIndex: 48842 entries, 0 to 48841\n",
      "Data columns (total 15 columns):\n",
      " #   Column           Non-Null Count  Dtype \n",
      "---  ------           --------------  ----- \n",
      " 0   age              48842 non-null  int64 \n",
      " 1   workclass        48842 non-null  object\n",
      " 2   fnlwgt           48842 non-null  int64 \n",
      " 3   education        48842 non-null  object\n",
      " 4   educational_num  48842 non-null  int64 \n",
      " 5   marital_status   48842 non-null  object\n",
      " 6   occupation       48842 non-null  object\n",
      " 7   relationship     48842 non-null  object\n",
      " 8   race             48842 non-null  object\n",
      " 9   gender           48842 non-null  object\n",
      " 10  capital_gain     48842 non-null  int64 \n",
      " 11  capital_loss     48842 non-null  int64 \n",
      " 12  hours_per_week   48842 non-null  int64 \n",
      " 13  native_country   48842 non-null  object\n",
      " 14  income           48842 non-null  object\n",
      "dtypes: int64(6), object(9)\n",
      "memory usage: 5.6+ MB\n"
     ]
    }
   ],
   "source": [
    "df.info()"
   ]
  },
  {
   "cell_type": "markdown",
   "metadata": {},
   "source": [
    "## **Univariate Analysis - Discrete Data**"
   ]
  },
  {
   "cell_type": "code",
   "execution_count": 8,
   "metadata": {},
   "outputs": [],
   "source": [
    "discrete_df = df.select_dtypes(include=['object'])\n",
    "\n",
    "numerical_df = df.select_dtypes(include=['int64', 'float64'])"
   ]
  },
  {
   "cell_type": "code",
   "execution_count": 9,
   "metadata": {},
   "outputs": [],
   "source": [
    "def discrete_univariate_analysis(discrete_data):\n",
    "    for col_name in discrete_data:\n",
    "        print(\"*\"*10, col_name, \"*\"*10)\n",
    "        print(discrete_data[col_name].agg(['count', 'nunique', 'unique']))\n",
    "        print('Value Counts: \\n', discrete_data[col_name].value_counts())\n",
    "        print()"
   ]
  },
  {
   "cell_type": "code",
   "execution_count": 10,
   "metadata": {
    "scrolled": true
   },
   "outputs": [
    {
     "name": "stdout",
     "output_type": "stream",
     "text": [
      "********** workclass **********\n",
      "count                                                  48842\n",
      "nunique                                                    9\n",
      "unique     [Private, Local-gov, ?, Self-emp-not-inc, Fede...\n",
      "Name: workclass, dtype: object\n",
      "Value Counts: \n",
      " workclass\n",
      "Private             33906\n",
      "Self-emp-not-inc     3862\n",
      "Local-gov            3136\n",
      "?                    2799\n",
      "State-gov            1981\n",
      "Self-emp-inc         1695\n",
      "Federal-gov          1432\n",
      "Without-pay            21\n",
      "Never-worked           10\n",
      "Name: count, dtype: int64\n",
      "\n",
      "********** education **********\n",
      "count                                                  48842\n",
      "nunique                                                   16\n",
      "unique     [11th, HS-grad, Assoc-acdm, Some-college, 10th...\n",
      "Name: education, dtype: object\n",
      "Value Counts: \n",
      " education\n",
      "HS-grad         15784\n",
      "Some-college    10878\n",
      "Bachelors        8025\n",
      "Masters          2657\n",
      "Assoc-voc        2061\n",
      "11th             1812\n",
      "Assoc-acdm       1601\n",
      "10th             1389\n",
      "7th-8th           955\n",
      "Prof-school       834\n",
      "9th               756\n",
      "12th              657\n",
      "Doctorate         594\n",
      "5th-6th           509\n",
      "1st-4th           247\n",
      "Preschool          83\n",
      "Name: count, dtype: int64\n",
      "\n",
      "********** marital_status **********\n",
      "count                                                  48842\n",
      "nunique                                                    7\n",
      "unique     [Never-married, Married-civ-spouse, Widowed, D...\n",
      "Name: marital_status, dtype: object\n",
      "Value Counts: \n",
      " marital_status\n",
      "Married-civ-spouse       22379\n",
      "Never-married            16117\n",
      "Divorced                  6633\n",
      "Separated                 1530\n",
      "Widowed                   1518\n",
      "Married-spouse-absent      628\n",
      "Married-AF-spouse           37\n",
      "Name: count, dtype: int64\n",
      "\n",
      "********** occupation **********\n",
      "count                                                  48842\n",
      "nunique                                                   15\n",
      "unique     [Machine-op-inspct, Farming-fishing, Protectiv...\n",
      "Name: occupation, dtype: object\n",
      "Value Counts: \n",
      " occupation\n",
      "Prof-specialty       6172\n",
      "Craft-repair         6112\n",
      "Exec-managerial      6086\n",
      "Adm-clerical         5611\n",
      "Sales                5504\n",
      "Other-service        4923\n",
      "Machine-op-inspct    3022\n",
      "?                    2809\n",
      "Transport-moving     2355\n",
      "Handlers-cleaners    2072\n",
      "Farming-fishing      1490\n",
      "Tech-support         1446\n",
      "Protective-serv       983\n",
      "Priv-house-serv       242\n",
      "Armed-Forces           15\n",
      "Name: count, dtype: int64\n",
      "\n",
      "********** relationship **********\n",
      "count                                                  48842\n",
      "nunique                                                    6\n",
      "unique     [Own-child, Husband, Not-in-family, Unmarried,...\n",
      "Name: relationship, dtype: object\n",
      "Value Counts: \n",
      " relationship\n",
      "Husband           19716\n",
      "Not-in-family     12583\n",
      "Own-child          7581\n",
      "Unmarried          5125\n",
      "Wife               2331\n",
      "Other-relative     1506\n",
      "Name: count, dtype: int64\n",
      "\n",
      "********** race **********\n",
      "count                                                  48842\n",
      "nunique                                                    5\n",
      "unique     [Black, White, Asian-Pac-Islander, Other, Amer...\n",
      "Name: race, dtype: object\n",
      "Value Counts: \n",
      " race\n",
      "White                 41762\n",
      "Black                  4685\n",
      "Asian-Pac-Islander     1519\n",
      "Amer-Indian-Eskimo      470\n",
      "Other                   406\n",
      "Name: count, dtype: int64\n",
      "\n",
      "********** gender **********\n",
      "count               48842\n",
      "nunique                 2\n",
      "unique     [Male, Female]\n",
      "Name: gender, dtype: object\n",
      "Value Counts: \n",
      " gender\n",
      "Male      32650\n",
      "Female    16192\n",
      "Name: count, dtype: int64\n",
      "\n",
      "********** native_country **********\n",
      "count                                                  48842\n",
      "nunique                                                   42\n",
      "unique     [United-States, ?, Peru, Guatemala, Mexico, Do...\n",
      "Name: native_country, dtype: object\n",
      "Value Counts: \n",
      " native_country\n",
      "United-States                 43832\n",
      "Mexico                          951\n",
      "?                               857\n",
      "Philippines                     295\n",
      "Germany                         206\n",
      "Puerto-Rico                     184\n",
      "Canada                          182\n",
      "El-Salvador                     155\n",
      "India                           151\n",
      "Cuba                            138\n",
      "England                         127\n",
      "China                           122\n",
      "South                           115\n",
      "Jamaica                         106\n",
      "Italy                           105\n",
      "Dominican-Republic              103\n",
      "Japan                            92\n",
      "Guatemala                        88\n",
      "Poland                           87\n",
      "Vietnam                          86\n",
      "Columbia                         85\n",
      "Haiti                            75\n",
      "Portugal                         67\n",
      "Taiwan                           65\n",
      "Iran                             59\n",
      "Greece                           49\n",
      "Nicaragua                        49\n",
      "Peru                             46\n",
      "Ecuador                          45\n",
      "France                           38\n",
      "Ireland                          37\n",
      "Hong                             30\n",
      "Thailand                         30\n",
      "Cambodia                         28\n",
      "Trinadad&Tobago                  27\n",
      "Laos                             23\n",
      "Yugoslavia                       23\n",
      "Outlying-US(Guam-USVI-etc)       23\n",
      "Scotland                         21\n",
      "Honduras                         20\n",
      "Hungary                          19\n",
      "Holand-Netherlands                1\n",
      "Name: count, dtype: int64\n",
      "\n",
      "********** income **********\n",
      "count              48842\n",
      "nunique                2\n",
      "unique     [<=50K, >50K]\n",
      "Name: income, dtype: object\n",
      "Value Counts: \n",
      " income\n",
      "<=50K    37155\n",
      ">50K     11687\n",
      "Name: count, dtype: int64\n",
      "\n"
     ]
    }
   ],
   "source": [
    "discrete_univariate_analysis(discrete_df)"
   ]
  },
  {
   "cell_type": "code",
   "execution_count": 11,
   "metadata": {},
   "outputs": [
    {
     "data": {
      "text/plain": [
       "Index(['age', 'workclass', 'fnlwgt', 'education', 'educational_num',\n",
       "       'marital_status', 'occupation', 'relationship', 'race', 'gender',\n",
       "       'capital_gain', 'capital_loss', 'hours_per_week', 'native_country',\n",
       "       'income'],\n",
       "      dtype='object')"
      ]
     },
     "execution_count": 11,
     "metadata": {},
     "output_type": "execute_result"
    }
   ],
   "source": [
    "df.columns"
   ]
  },
  {
   "cell_type": "code",
   "execution_count": 12,
   "metadata": {},
   "outputs": [
    {
     "data": {
      "text/plain": [
       "<Axes: xlabel='gender', ylabel='count'>"
      ]
     },
     "execution_count": 12,
     "metadata": {},
     "output_type": "execute_result"
    },
    {
     "data": {
      "image/png": "[encoded data removed]",
      "text/plain": [
       "<Figure size 640x480 with 1 Axes>"
      ]
     },
     "metadata": {},
     "output_type": "display_data"
    }
   ],
   "source": [
    "sns.countplot(data=df, x='gender')"
   ]
  },
  {
   "cell_type": "markdown",
   "metadata": {},
   "source": [
    "### Chi-Square Test for Goodness-of-fit\n",
    "\n",
    "Tests whether the observed frequencies of categorical data match the expected frequencies according to a specified distribution.\n",
    "\n",
    "**Assumptions**\n",
    "- Observations in each sample are independent and identically distributed (iid).\n",
    "- Observations should be discrete.\n",
    "\n",
    "**Interpretation**\n",
    "- H0: The observed and expected frequencies are matching.\n",
    "- H1: The observed and expected frequencies are not matching."
   ]
  },
  {
   "cell_type": "code",
   "execution_count": 13,
   "metadata": {},
   "outputs": [],
   "source": [
    "def chi_square_good_fit(observed_frequencies, expected_frequencies, significance_level):\n",
    "    stat, p_value = stats.chisquare(observed_frequencies, expected_frequencies)\n",
    "    \n",
    "    print('stat=%.3f, p_value=%.3f' % (stat, p_value))\n",
    "    \n",
    "    if p_value < significance_level:\n",
    "        print('Reject null hypothesis (H0): The observed frequencies do not match the expected frequencies.')\n",
    "    else:\n",
    "        print('Fail to Reject null hypothesis (H0): The observed frequencies match the expected frequencies.')"
   ]
  },
  {
   "cell_type": "code",
   "execution_count": 14,
   "metadata": {},
   "outputs": [
    {
     "name": "stdout",
     "output_type": "stream",
     "text": [
      "stat=4.800, p_value=0.028\n",
      "Reject null hypothesis (H0): The observed frequencies do not match the expected frequencies.\n"
     ]
    }
   ],
   "source": [
    "sample = df['gender'].sample(n=500)\n",
    "\n",
    "observed_freq = sample.value_counts().tolist()\n",
    "expected_freq = [300, 200]\n",
    "\n",
    "chi_square_good_fit(observed_freq, expected_freq, significance_level=0.05)"
   ]
  },
  {
   "cell_type": "markdown",
   "metadata": {},
   "source": [
    "## **Univariate Analysis - Numerical Data**"
   ]
  },
  {
   "cell_type": "code",
   "execution_count": 15,
   "metadata": {},
   "outputs": [],
   "source": [
    "def numerical_univariate_analysis(numerical_data):\n",
    "    for col_name in numerical_data:\n",
    "        print(\"*\"*10, col_name, \"*\"*10)\n",
    "        print(numerical_data[col_name].agg(['min', 'max', 'mean', 'median', 'std']))\n",
    "        print()"
   ]
  },
  {
   "cell_type": "code",
   "execution_count": 16,
   "metadata": {},
   "outputs": [
    {
     "name": "stdout",
     "output_type": "stream",
     "text": [
      "********** age **********\n",
      "min       17.000000\n",
      "max       90.000000\n",
      "mean      38.643585\n",
      "median    37.000000\n",
      "std       13.710510\n",
      "Name: age, dtype: float64\n",
      "\n",
      "********** fnlwgt **********\n",
      "min       1.228500e+04\n",
      "max       1.490400e+06\n",
      "mean      1.896641e+05\n",
      "median    1.781445e+05\n",
      "std       1.056040e+05\n",
      "Name: fnlwgt, dtype: float64\n",
      "\n",
      "********** educational_num **********\n",
      "min        1.000000\n",
      "max       16.000000\n",
      "mean      10.078089\n",
      "median    10.000000\n",
      "std        2.570973\n",
      "Name: educational_num, dtype: float64\n",
      "\n",
      "********** capital_gain **********\n",
      "min           0.000000\n",
      "max       99999.000000\n",
      "mean       1079.067626\n",
      "median        0.000000\n",
      "std        7452.019058\n",
      "Name: capital_gain, dtype: float64\n",
      "\n",
      "********** capital_loss **********\n",
      "min          0.000000\n",
      "max       4356.000000\n",
      "mean        87.502314\n",
      "median       0.000000\n",
      "std        403.004552\n",
      "Name: capital_loss, dtype: float64\n",
      "\n",
      "********** hours_per_week **********\n",
      "min        1.000000\n",
      "max       99.000000\n",
      "mean      40.422382\n",
      "median    40.000000\n",
      "std       12.391444\n",
      "Name: hours_per_week, dtype: float64\n",
      "\n"
     ]
    }
   ],
   "source": [
    "numerical_univariate_analysis(numerical_df)"
   ]
  },
  {
   "cell_type": "code",
   "execution_count": 17,
   "metadata": {},
   "outputs": [
    {
     "data": {
      "image/png": "[encoded data removed]",
      "text/plain": [
       "<Figure size 1000x300 with 4 Axes>"
      ]
     },
     "metadata": {},
     "output_type": "display_data"
    }
   ],
   "source": [
    "fig, axs = plt.subplots(1, 4, figsize=(10, 3), constrained_layout=True)\n",
    "fig.suptitle(\"Numerical Feature Visualization with Seaborn\")\n",
    "\n",
    "axs[0].set_title(\"Histogram\")\n",
    "sns.histplot(data=df, x='age', ax=axs[0])\n",
    "\n",
    "axs[1].set_title(\"KDE\")\n",
    "sns.kdeplot(data=df, x='age', ax=axs[1])\n",
    "\n",
    "axs[2].set_title(\"Box Plot\")\n",
    "sns.boxplot(data=df, x='age', ax=axs[2])\n",
    "\n",
    "stats.probplot(df['age'], dist=stats.norm, plot=axs[3])\n",
    "axs[3].grid()\n",
    "\n",
    "plt.show()"
   ]
  },
  {
   "cell_type": "markdown",
   "metadata": {},
   "source": [
    "### Look's like `age` is not normally distributed. But can we use some Statistical Test for same?\n",
    "\n",
    "### Shapiro Wilk Test\n",
    "The Shapiro-Wilk test is a statistical test that checks whether a dataset follows a normal distribution. It tests the null hypothesis that the data is normally distributed.\n",
    "\n",
    "**Assumptions**\n",
    "- Observations in each sample are independent and identically distributed (iid).\n",
    "\n",
    "**Interpretation**\n",
    "- H0: the sample has a Gaussian distribution.\n",
    "- H1: the sample does not have a Gaussian distribution.\n",
    "\n",
    "**Cons**\n",
    "- Cannot deal with more than 5000 data points"
   ]
  },
  {
   "cell_type": "code",
   "execution_count": 18,
   "metadata": {},
   "outputs": [],
   "source": [
    "def shapiro_wilk(data, significance_level):\n",
    "    stat, p_value = stats.shapiro(data)\n",
    "    \n",
    "    print('stat=%.3f, p_value=%.3f' % (stat, p_value))\n",
    "    \n",
    "    if p_value < significance_level:\n",
    "        print('Reject null hypothesis (H0): Probably not Gaussian')\n",
    "    else:\n",
    "        print('Fail to Reject null hypothesis (H0): Probably Gaussian')"
   ]
  },
  {
   "cell_type": "code",
   "execution_count": 19,
   "metadata": {},
   "outputs": [
    {
     "name": "stdout",
     "output_type": "stream",
     "text": [
      "stat=0.967, p_value=0.000\n",
      "Reject null hypothesis (H0): Probably not Gaussian\n"
     ]
    },
    {
     "name": "stderr",
     "output_type": "stream",
     "text": [
      "C:\\Users\\DELL\\AppData\\Local\\Programs\\Python\\Python39\\lib\\site-packages\\scipy\\stats\\_morestats.py:1882: UserWarning: p-value may not be accurate for N > 5000.\n",
      "  warnings.warn(\"p-value may not be accurate for N > 5000.\")\n"
     ]
    }
   ],
   "source": [
    "shapiro_wilk(df['age'], 0.05)"
   ]
  },
  {
   "cell_type": "code",
   "execution_count": 20,
   "metadata": {},
   "outputs": [
    {
     "name": "stdout",
     "output_type": "stream",
     "text": [
      "stat=0.965, p_value=0.000\n",
      "Reject null hypothesis (H0): Probably not Gaussian\n"
     ]
    }
   ],
   "source": [
    "data = df['age'].sample(n=4500)\n",
    "\n",
    "shapiro_wilk(data, 0.05)"
   ]
  },
  {
   "cell_type": "markdown",
   "metadata": {},
   "source": [
    "### Kolmogorov-Smirnov Test\n",
    "\n",
    "The Kolmogorov-Smirnov (KS) test is used to check if a sample follows a specific distribution, including normal distribution. \n",
    "\n",
    "**Assumptions**\n",
    "- Observations in each sample are independent and identically distributed (iid).\n",
    "\n",
    "**Interpretation**\n",
    "- H0: the sample has a distribution.\n",
    "- H1: the sample does not have that distribution."
   ]
  },
  {
   "cell_type": "code",
   "execution_count": 21,
   "metadata": {},
   "outputs": [],
   "source": [
    "def kolmogorov_smirnov(data, significance_level):\n",
    "    # You can replace 'norm' with stats.norm\n",
    "    stat, p = stats.kstest(data, 'norm')\n",
    "    \n",
    "    print('stat=%.3f, p=%.3f' % (stat, p))\n",
    "    \n",
    "    if p < significance_level:\n",
    "        print('Reject null hypothesis (H0): Probably not Gaussian')\n",
    "    else:\n",
    "        print('Fail to Reject null hypothesis (H0): Probably Gaussian')"
   ]
  },
  {
   "cell_type": "code",
   "execution_count": 22,
   "metadata": {},
   "outputs": [
    {
     "name": "stdout",
     "output_type": "stream",
     "text": [
      "stat=1.000, p=0.000\n",
      "Reject null hypothesis (H0): Probably not Gaussian\n"
     ]
    }
   ],
   "source": [
    "kolmogorov_smirnov(df['age'], 0.05)"
   ]
  },
  {
   "cell_type": "markdown",
   "metadata": {},
   "source": [
    "### One-Sample t-test\n",
    "\n",
    "Tests whether the mean of a single sample is significantly different from a known or hypothesized population mean.\n",
    "\n",
    "**Assumptions**\n",
    "- Observations in each sample are independent and identically distributed (iid).\n",
    "- Observations are continuous measurements.\n",
    "- Data is normally distributed.\n",
    "\n",
    "**Interpretation**\n",
    "- H0: $\\mu_{pop}=m_o$.\n",
    "- H1: $\\mu_{pop}\\ne m_o$."
   ]
  },
  {
   "cell_type": "code",
   "execution_count": 23,
   "metadata": {},
   "outputs": [],
   "source": [
    "def one_sample_t_test(sample, assumed_pop_mean, significance_level):\n",
    "    stat, p_value = stats.ttest_1samp(sample, assumed_pop_mean)\n",
    "    \n",
    "    print('stat=%.3f, p_value=%.3f' % (stat, p_value))\n",
    "    \n",
    "    if p_value < significance_level:\n",
    "        print('Reject null hypothesis (H0): The sample mean is significantly different from the assumed population mean.')\n",
    "    else:\n",
    "        print('Fail to Reject null hypothesis (H0): The sample mean is not significantly different from the assumed population mean.')"
   ]
  },
  {
   "cell_type": "code",
   "execution_count": 24,
   "metadata": {},
   "outputs": [
    {
     "name": "stdout",
     "output_type": "stream",
     "text": [
      "stat=-18.878, p_value=0.000\n",
      "Reject null hypothesis (H0): The sample mean is significantly different from the assumed population mean.\n"
     ]
    }
   ],
   "source": [
    "sample = df['age'].sample(n=500)\n",
    "\n",
    "assumed_pop_mean = 50\n",
    "\n",
    "one_sample_t_test(sample, assumed_pop_mean, significance_level=0.05)"
   ]
  },
  {
   "cell_type": "markdown",
   "metadata": {},
   "source": [
    "## **Bivariate Analysis - Numerical vs Numerical**"
   ]
  },
  {
   "cell_type": "code",
   "execution_count": 25,
   "metadata": {},
   "outputs": [
    {
     "data": {
      "text/plain": [
       "Index(['age', 'workclass', 'fnlwgt', 'education', 'educational_num',\n",
       "       'marital_status', 'occupation', 'relationship', 'race', 'gender',\n",
       "       'capital_gain', 'capital_loss', 'hours_per_week', 'native_country',\n",
       "       'income'],\n",
       "      dtype='object')"
      ]
     },
     "execution_count": 25,
     "metadata": {},
     "output_type": "execute_result"
    }
   ],
   "source": [
    "df.columns"
   ]
  },
  {
   "cell_type": "code",
   "execution_count": 26,
   "metadata": {},
   "outputs": [
    {
     "data": {
      "text/plain": [
       "<Axes: xlabel='age', ylabel='capital_loss'>"
      ]
     },
     "execution_count": 26,
     "metadata": {},
     "output_type": "execute_result"
    },
    {
     "data": {
      "image/png": "[encoded data removed]",
      "text/plain": [
       "<Figure size 640x480 with 1 Axes>"
      ]
     },
     "metadata": {},
     "output_type": "display_data"
    }
   ],
   "source": [
    "sns.scatterplot(data=df, x='age', y='capital_loss')"
   ]
  },
  {
   "cell_type": "markdown",
   "metadata": {},
   "source": [
    "### Pearson’s Correlation Coefficient\n",
    "\n",
    "Tests whether two samples have a linear relationship.\n",
    "\n",
    "**Assumptions**\n",
    "- Observations in each sample are independent and identically distributed (iid).\n",
    "- Observations in each sample are normally distributed.\n",
    "- Observations in each sample have the same variance.\n",
    "\n",
    "**Interpretation**\n",
    "- H0: the two samples are independent.\n",
    "- H1: there is a dependency between the samples."
   ]
  },
  {
   "cell_type": "code",
   "execution_count": 27,
   "metadata": {},
   "outputs": [],
   "source": [
    "def pearson_test(data1, data2, significance_level):\n",
    "    stat, p_value = stats.pearsonr(data1, data2)\n",
    "    \n",
    "    print('stat=%.3f, p=%.3f' % (stat, p_value))\n",
    "    \n",
    "    if p_value < significance_level:\n",
    "        print('Reject null hypothesis (H0): Probably linear relationship exists')\n",
    "    else:\n",
    "        print('Fail to Reject null hypothesis (H0): Probably linear relationship doesnot exists')"
   ]
  },
  {
   "cell_type": "code",
   "execution_count": 28,
   "metadata": {},
   "outputs": [
    {
     "name": "stdout",
     "output_type": "stream",
     "text": [
      "stat=0.057, p=0.000\n",
      "Reject null hypothesis (H0): Probably linear relationship exists\n"
     ]
    }
   ],
   "source": [
    "pearson_test(df['age'], df['capital_loss'], significance_level=0.05)"
   ]
  },
  {
   "cell_type": "markdown",
   "metadata": {},
   "source": [
    "## **Bivariate Analysis - Categorical vs Categorical**"
   ]
  },
  {
   "cell_type": "code",
   "execution_count": 31,
   "metadata": {},
   "outputs": [
    {
     "data": {
      "text/plain": [
       "Text(0.5, 1.0, 'Income vs Work Class')"
      ]
     },
     "execution_count": 31,
     "metadata": {},
     "output_type": "execute_result"
    },
    {
     "data": {
      "image/png": "[encoded data removed]",
      "text/plain": [
       "<Figure size 640x480 with 1 Axes>"
      ]
     },
     "metadata": {},
     "output_type": "display_data"
    }
   ],
   "source": [
    "sns.countplot(data=df, y='occupation', hue='income')\n",
    "\n",
    "plt.title('Income vs Work Class')"
   ]
  },
  {
   "cell_type": "markdown",
   "metadata": {},
   "source": [
    "### Chi-Squared Test for Independence\n",
    "\n",
    "Tests whether two categorical variables are related or independent.\n",
    "\n",
    "**Assumptions**\n",
    "- Observations used in the calculation of the contingency table are independent.\n",
    "- 25 or more examples in each cell of the contingency table.\n",
    "\n",
    "**Interpretation**\n",
    "- H0: the two samples are independent.\n",
    "- H1: there is a dependency between the samples.\n"
   ]
  },
  {
   "cell_type": "code",
   "execution_count": 32,
   "metadata": {},
   "outputs": [],
   "source": [
    "def chi_square(freq_table, significance_level):\n",
    "    stat, p_val, dof, expected = stats.chi2_contingency(freq_table)\n",
    "    \n",
    "    print('stat=%.3f, p=%.3f' % (stat, p_val))\n",
    "    \n",
    "    if p_val < significance_level:\n",
    "        print('Reject null hypothesis (H0): Probably dependent')\n",
    "    else:\n",
    "        print('Fail to Reject null hypothesis (H0): Probably independent')"
   ]
  },
  {
   "cell_type": "code",
   "execution_count": 33,
   "metadata": {},
   "outputs": [
    {
     "data": {
      "text/html": [
       "<div>\n",
       "<style scoped>\n",
       "    .dataframe tbody tr th:only-of-type {\n",
       "        vertical-align: middle;\n",
       "    }\n",
       "\n",
       "    .dataframe tbody tr th {\n",
       "        vertical-align: top;\n",
       "    }\n",
       "\n",
       "    .dataframe thead th {\n",
       "        text-align: right;\n",
       "    }\n",
       "</style>\n",
       "<table border=\"1\" class=\"dataframe\">\n",
       "  <thead>\n",
       "    <tr style=\"text-align: right;\">\n",
       "      <th>income</th>\n",
       "      <th>&lt;=50K</th>\n",
       "      <th>&gt;50K</th>\n",
       "    </tr>\n",
       "    <tr>\n",
       "      <th>occupation</th>\n",
       "      <th></th>\n",
       "      <th></th>\n",
       "    </tr>\n",
       "  </thead>\n",
       "  <tbody>\n",
       "    <tr>\n",
       "      <th>?</th>\n",
       "      <td>2544</td>\n",
       "      <td>265</td>\n",
       "    </tr>\n",
       "    <tr>\n",
       "      <th>Adm-clerical</th>\n",
       "      <td>4843</td>\n",
       "      <td>768</td>\n",
       "    </tr>\n",
       "    <tr>\n",
       "      <th>Armed-Forces</th>\n",
       "      <td>10</td>\n",
       "      <td>5</td>\n",
       "    </tr>\n",
       "    <tr>\n",
       "      <th>Craft-repair</th>\n",
       "      <td>4729</td>\n",
       "      <td>1383</td>\n",
       "    </tr>\n",
       "    <tr>\n",
       "      <th>Exec-managerial</th>\n",
       "      <td>3178</td>\n",
       "      <td>2908</td>\n",
       "    </tr>\n",
       "    <tr>\n",
       "      <th>Farming-fishing</th>\n",
       "      <td>1317</td>\n",
       "      <td>173</td>\n",
       "    </tr>\n",
       "    <tr>\n",
       "      <th>Handlers-cleaners</th>\n",
       "      <td>1934</td>\n",
       "      <td>138</td>\n",
       "    </tr>\n",
       "    <tr>\n",
       "      <th>Machine-op-inspct</th>\n",
       "      <td>2650</td>\n",
       "      <td>372</td>\n",
       "    </tr>\n",
       "    <tr>\n",
       "      <th>Other-service</th>\n",
       "      <td>4719</td>\n",
       "      <td>204</td>\n",
       "    </tr>\n",
       "    <tr>\n",
       "      <th>Priv-house-serv</th>\n",
       "      <td>239</td>\n",
       "      <td>3</td>\n",
       "    </tr>\n",
       "    <tr>\n",
       "      <th>Prof-specialty</th>\n",
       "      <td>3388</td>\n",
       "      <td>2784</td>\n",
       "    </tr>\n",
       "    <tr>\n",
       "      <th>Protective-serv</th>\n",
       "      <td>675</td>\n",
       "      <td>308</td>\n",
       "    </tr>\n",
       "    <tr>\n",
       "      <th>Sales</th>\n",
       "      <td>4029</td>\n",
       "      <td>1475</td>\n",
       "    </tr>\n",
       "    <tr>\n",
       "      <th>Tech-support</th>\n",
       "      <td>1026</td>\n",
       "      <td>420</td>\n",
       "    </tr>\n",
       "    <tr>\n",
       "      <th>Transport-moving</th>\n",
       "      <td>1874</td>\n",
       "      <td>481</td>\n",
       "    </tr>\n",
       "  </tbody>\n",
       "</table>\n",
       "</div>"
      ],
      "text/plain": [
       "income             <=50K  >50K\n",
       "occupation                    \n",
       "?                   2544   265\n",
       "Adm-clerical        4843   768\n",
       "Armed-Forces          10     5\n",
       "Craft-repair        4729  1383\n",
       "Exec-managerial     3178  2908\n",
       "Farming-fishing     1317   173\n",
       "Handlers-cleaners   1934   138\n",
       "Machine-op-inspct   2650   372\n",
       "Other-service       4719   204\n",
       "Priv-house-serv      239     3\n",
       "Prof-specialty      3388  2784\n",
       "Protective-serv      675   308\n",
       "Sales               4029  1475\n",
       "Tech-support        1026   420\n",
       "Transport-moving    1874   481"
      ]
     },
     "execution_count": 33,
     "metadata": {},
     "output_type": "execute_result"
    }
   ],
   "source": [
    "freq_table = pd.crosstab(df['occupation'], df['income'])\n",
    "\n",
    "freq_table"
   ]
  },
  {
   "cell_type": "code",
   "execution_count": 34,
   "metadata": {},
   "outputs": [
    {
     "name": "stdout",
     "output_type": "stream",
     "text": [
      "stat=5983.164, p=0.000\n",
      "Reject null hypothesis (H0): Probably dependent\n"
     ]
    }
   ],
   "source": [
    "chi_square(freq_table, significance_level=0.05)"
   ]
  },
  {
   "cell_type": "markdown",
   "metadata": {},
   "source": [
    "## **Bivariate Analysis - Numerical vs Categorical**"
   ]
  },
  {
   "cell_type": "code",
   "execution_count": 35,
   "metadata": {},
   "outputs": [
    {
     "data": {
      "text/plain": [
       "<Axes: xlabel='gender', ylabel='age'>"
      ]
     },
     "execution_count": 35,
     "metadata": {},
     "output_type": "execute_result"
    },
    {
     "data": {
      "image/png": "[encoded data removed]",
      "text/plain": [
       "<Figure size 640x480 with 1 Axes>"
      ]
     },
     "metadata": {},
     "output_type": "display_data"
    }
   ],
   "source": [
    "sns.boxplot(data=df, x='gender', y='age')"
   ]
  },
  {
   "cell_type": "markdown",
   "metadata": {},
   "source": [
    "### Two Sample t-test\n",
    "\n",
    "A two-sample t-test is applied when you want to compare the means of two independent groups to determine if they are significantly different from each other. It's used to test whether the observed differences in means between the groups are likely to occur due to random chance or if they are statistically significant.\n",
    "\n",
    "Tests whether the means of two independent samples are significantly different.\n",
    "\n",
    "**Assumptions**\n",
    "- Observations in each sample are independent and identically distributed (iid).\n",
    "- Observations in each sample are normally distributed.\n",
    "- Observations in each sample have the same variance.\n",
    "\n",
    "**Interpretation**\n",
    "- H0: the means of the samples are equal.\n",
    "- H1: the means of the samples are unequal.\n",
    "\n",
    "Remember, when applying a two-sample t-test, it's important to ensure that the assumptions of normality and equal variance are met. If these assumptions are violated, alternative tests like the Mann-Whitney U test or Welch's t-test (for unequal variances) may be more appropriate."
   ]
  },
  {
   "cell_type": "code",
   "execution_count": 36,
   "metadata": {},
   "outputs": [],
   "source": [
    "def two_sample_ttest(data1, data2, significance_level):\n",
    "    stat, p_val = stats.ttest_ind(data1, data2)\n",
    "    \n",
    "    print('stat=%.3f, p_val=%.3f' % (stat, p_val))\n",
    "    \n",
    "    if p_val < significance_level:\n",
    "        print('Reject null hypothesis (H0): There is a significant difference between the groups.')\n",
    "    else:\n",
    "        print('Fail to Reject null hypothesis (H0): There is no significant difference between the groups.')"
   ]
  },
  {
   "cell_type": "code",
   "execution_count": 37,
   "metadata": {},
   "outputs": [
    {
     "data": {
      "text/plain": [
       "gender\n",
       "Male      32650\n",
       "Female    16192\n",
       "Name: count, dtype: int64"
      ]
     },
     "execution_count": 37,
     "metadata": {},
     "output_type": "execute_result"
    }
   ],
   "source": [
    "df['gender'].value_counts()"
   ]
  },
  {
   "cell_type": "code",
   "execution_count": 38,
   "metadata": {},
   "outputs": [
    {
     "name": "stdout",
     "output_type": "stream",
     "text": [
      "stat=1.206, p_val=0.229\n",
      "Fail to Reject null hypothesis (H0): Probably the same means.\n"
     ]
    }
   ],
   "source": [
    "male_age = df[df.gender=='Male']['age'].sample(n=100)\n",
    "female_age = df[df.gender=='Female']['age'].sample(n=100)\n",
    "\n",
    "two_sample_ttest(male_age, female_age, significance_level=0.05)"
   ]
  },
  {
   "cell_type": "markdown",
   "metadata": {},
   "source": [
    "### Marital Status vs Age"
   ]
  },
  {
   "cell_type": "code",
   "execution_count": 39,
   "metadata": {},
   "outputs": [
    {
     "data": {
      "text/plain": [
       "marital_status\n",
       "Married-civ-spouse       22379\n",
       "Never-married            16117\n",
       "Divorced                  6633\n",
       "Separated                 1530\n",
       "Widowed                   1518\n",
       "Married-spouse-absent      628\n",
       "Married-AF-spouse           37\n",
       "Name: count, dtype: int64"
      ]
     },
     "execution_count": 39,
     "metadata": {},
     "output_type": "execute_result"
    }
   ],
   "source": [
    "df['marital_status'].value_counts()"
   ]
  },
  {
   "cell_type": "code",
   "execution_count": 40,
   "metadata": {},
   "outputs": [
    {
     "data": {
      "text/plain": [
       "<Axes: xlabel='age', ylabel='marital_status'>"
      ]
     },
     "execution_count": 40,
     "metadata": {},
     "output_type": "execute_result"
    },
    {
     "data": {
      "image/png": "[encoded data removed]",
      "text/plain": [
       "<Figure size 640x480 with 1 Axes>"
      ]
     },
     "metadata": {},
     "output_type": "display_data"
    }
   ],
   "source": [
    "sns.boxplot(y=df['marital_status'], x=df['age'])"
   ]
  },
  {
   "cell_type": "markdown",
   "metadata": {},
   "source": [
    "### Analysis of Variance Test (ANOVA)\n",
    "\n",
    "ANOVA, or Analysis of Variance, is a statistical technique used to compare means between two or more groups. It's used to determine whether there are significant differences among the group means. ANOVA is particularly useful when you have more than two groups and you want to test if there are any differences in means across all the groups.\n",
    "\n",
    "Both the two-sample t-test and ANOVA (Analysis of Variance) are hypothesis tests used to compare means of different groups. Use a two-sample t-test when you have exactly two groups and want to compare their means. Use ANOVA when you have more than two groups and want to determine if there is a significant difference in means among any of the groups. \n",
    "\n",
    "**Types of ANOVA**\n",
    "1. **One-Way ANOVA:** Compares means across three or more groups when you have one independent variable.\n",
    "2. **Two-Way ANOVA:** Examines the effects of two independent variables on a dependent variable. It allows you to assess both main effects and interaction effects.\n",
    "\n",
    "\n",
    "Tests whether the means of more than two independent samples are significantly different.\n",
    "\n",
    "**Assumptions**\n",
    "- Observations in each sample are independent and identically distributed (iid).\n",
    "- Observations in each sample are normally distributed.\n",
    "- Observations in each sample have the same variance.\n",
    "\n",
    "**Interpretation**\n",
    "- H0: the means of the samples are equal.\n",
    "- H1: one or more of the means of the samples are unequal.\n",
    "\n",
    "#### Remember, ANOVA provides information about group differences, but it doesn't tell you which specific groups are different.\n",
    "\n",
    "**Ensure that your data meets the assumptions of ANOVA (e.g., normality, homogeneity of variances) for accurate interpretation.**"
   ]
  },
  {
   "cell_type": "code",
   "execution_count": 41,
   "metadata": {},
   "outputs": [],
   "source": [
    "def one_way_anova(all_groups, significance_level):\n",
    "    stat, p_val = stats.f_oneway(*all_groups)\n",
    "    \n",
    "    print('stat=%.3f, p_val=%.3f' % (stat, p_val))\n",
    "    \n",
    "    if p_val < significance_level:\n",
    "        print('Reject null hypothesis (H0): There is a significant difference between the groups.')\n",
    "    else:\n",
    "        print('Fail to Reject null hypothesis (H0): There is no significant difference between the groups.')"
   ]
  },
  {
   "cell_type": "code",
   "execution_count": 42,
   "metadata": {},
   "outputs": [
    {
     "name": "stdout",
     "output_type": "stream",
     "text": [
      "stat=756.434, p_val=0.000\n",
      "Reject null hypothesis (H0): There is a significant difference between the groups.\n"
     ]
    }
   ],
   "source": [
    "divorced_age = df[df['marital_status']=='Divorced']['age'].sample(n=300)\n",
    "never_married_age = df[df['marital_status']=='Never-married']['age'].sample(n=300)\n",
    "widowed_age = df[df['marital_status']=='Widowed']['age'].sample(n=300)\n",
    "\n",
    "all_groups = [divorced_age, never_married_age, widowed_age]\n",
    "one_way_anova(all_groups, significance_level=0.05)"
   ]
  },
  {
   "cell_type": "markdown",
   "metadata": {},
   "source": [
    "## **This is not the end!**\n",
    "\n",
    "**Kahaani abhi baaki hai mere dost!**"
   ]
  },
  {
   "cell_type": "markdown",
   "metadata": {
    "jp-MarkdownHeadingCollapsed": true
   },
   "source": [
    "### **Non-parametric statistics**\n",
    "Non-parametric statistics do not make assumptions about the underlying distribution of the data. They are used when the data may not meet the assumptions of parametric tests.\n",
    "\n",
    "**Examples of Non-parametric Tests:**\n",
    "- Spearman's Rank Correlation `(Alternative for Pearson Test)`\n",
    "- Mann-Whitney U Test (Wilcoxon Rank-Sum Test) `(Alternative for 2-sample t-test)`\n",
    "- Kruskal-Wallis Test `(Alternative for One-Way ANOVA Test)`\n",
    "\n",
    "\n",
    "The Mann-Whitney U Test (also known as the Wilcoxon Rank-Sum Test) and the Kruskal-Wallis Test are both non-parametric statistical tests used to assess whether there are differences between independent groups. These tests are applicable when the assumptions of parametric tests (like t-tests or ANOVA) are not met, such as when the data is not normally distributed.\n",
    "\n",
    "### Spearman’s Rank Correlation\n",
    "Tests whether two samples have a monotonic relationship.\n",
    "\n",
    "**Assumptions**\n",
    "- Observations in each sample are independent and identically distributed (iid).\n",
    "- Observations in each sample can be ranked.\n",
    "\n",
    "**Interpretation**\n",
    "- H0: the two samples are independent.\n",
    "- H1: there is a dependency between the samples.\n",
    "\n",
    "\n",
    "### Mann-Whitney U Test:\n",
    "- **Purpose:** It is used to determine whether there is a difference in distribution between two independent groups. It is suitable for ordinal and continuous data.\n",
    "- **Null Hypothesis:** There is no difference between the distributions of the two groups.\n",
    "\n",
    "### Kruskal-Wallis Test:\n",
    "- **Purpose:** It is an extension of the Mann-Whitney U Test and is used when there are more than two independent groups. It assesses whether there are any statistically significant differences between the medians of the groups.\n",
    "- **Null Hypothesis:** There is no difference in distribution among the groups.\n",
    "\n",
    "In both cases, a low p-value (typically below a chosen significance level, e.g., 0.05) indicates that there is enough evidence to reject the null hypothesis and conclude that there are differences between the groups.\n",
    "\n",
    "These tests are robust to deviations from normality and are often used when analyzing data with unknown or non-normal distributions. Remember to check the assumptions and requirements of each test before applying them to your data."
   ]
  },
  {
   "cell_type": "code",
   "execution_count": 29,
   "metadata": {},
   "outputs": [],
   "source": [
    "def spearman(data1, data2, significance_level):\n",
    "    stat, p_value = stats.spearmanr(data1, data2)\n",
    "    \n",
    "    print('stat=%.3f, p=%.3f' % (stat, p_value))\n",
    "    \n",
    "    if p_value < significance_level:\n",
    "        print('Reject null hypothesis (H0): Probably monotonic relationship exists.')\n",
    "    else:\n",
    "        print('Fail to Reject null hypothesis (H0): Probably monotonic relationship doesnot exists')"
   ]
  },
  {
   "cell_type": "code",
   "execution_count": 43,
   "metadata": {},
   "outputs": [],
   "source": [
    "def mann_whitney_u(data1, data2, significance_level):\n",
    "    stat, p_val = stats.mannwhitneyu(data1, data2)\n",
    "    \n",
    "    print('stat=%.3f, p_val=%.3f' % (stat, p_val))\n",
    "    \n",
    "    if p_val < significance_level:\n",
    "        print('Reject null hypothesis (H0): There is a significant difference between the groups.')\n",
    "    else:\n",
    "        print('Fail to Reject null hypothesis (H0): There is no significant difference between the groups.')"
   ]
  },
  {
   "cell_type": "code",
   "execution_count": 46,
   "metadata": {},
   "outputs": [],
   "source": [
    "def kruskal(all_groups, significance_level):\n",
    "    stat, p_val = stats.kruskal(*all_groups)\n",
    "    \n",
    "    print('stat=%.3f, p_val=%.3f' % (stat, p_val))\n",
    "    \n",
    "    if p_val < significance_level:\n",
    "        print('Reject null hypothesis (H0): There is a significant difference between the groups.')\n",
    "    else:\n",
    "        print('Fail to Reject null hypothesis (H0): There is no significant difference between the groups.')"
   ]
  },
  {
   "cell_type": "code",
   "execution_count": 30,
   "metadata": {},
   "outputs": [
    {
     "name": "stdout",
     "output_type": "stream",
     "text": [
      "stat=0.058, p=0.000\n",
      "Reject null hypothesis (H0): Probably monotonic relationship exists.\n"
     ]
    }
   ],
   "source": [
    "spearman(df['age'], df['capital_loss'], significance_level=0.05)"
   ]
  },
  {
   "cell_type": "code",
   "execution_count": 45,
   "metadata": {},
   "outputs": [
    {
     "name": "stdout",
     "output_type": "stream",
     "text": [
      "stat=145560.500, p_val=0.000\n",
      "Reject null hypothesis (H0): Probably different means.\n"
     ]
    }
   ],
   "source": [
    "male_age = df[df.gender=='Male']['age'].sample(n=500)\n",
    "female_age = df[df.gender=='Female']['age'].sample(n=500)\n",
    "\n",
    "mann_whitney_u(male_age, female_age, significance_level=0.05)"
   ]
  },
  {
   "cell_type": "code",
   "execution_count": 47,
   "metadata": {},
   "outputs": [
    {
     "name": "stdout",
     "output_type": "stream",
     "text": [
      "stat=502.326, p_val=0.000\n",
      "Reject null hypothesis (H0): There is a significant difference between the groups.\n"
     ]
    }
   ],
   "source": [
    "divorced_age = df[df['marital_status']=='Divorced']['age'].sample(n=300)\n",
    "never_married_age = df[df['marital_status']=='Never-married']['age'].sample(n=300)\n",
    "widowed_age = df[df['marital_status']=='Widowed']['age'].sample(n=300)\n",
    "\n",
    "all_groups = [divorced_age, never_married_age, widowed_age]\n",
    "\n",
    "kruskal(all_groups, significance_level=0.05)"
   ]
  },
  {
   "cell_type": "markdown",
   "metadata": {},
   "source": [
    "## **Summary**\n",
    "\n",
    "| Where | Statistical Test | Type | Purpose | \n",
    "|:---|:---|:---|:---|\n",
    "| Univariate - Discrete Data | Chi-Square Test for Goodness-of-Fit | Parametric | Tests whether the observed frequencies of categorical data match the expected frequencies according to a specified distribution. | \n",
    "| Univariate - Continuous Data | Kolmogorov-Smirnov Test | Parametric | Tests whether a sample comes from a specific distribution (not limited to normal distribution). It can be used to compare any two continuous distributions. | \n",
    "| Univariate - Continuous Data | One-Sample t-test | Parametric | Tests whether the mean of a single sample is significantly different from a known or hypothesized population mean. | \n",
    "| Bivariate - Continuous vs Continuous Data | Pearson Test | Parametric | Tests whether two samples have a linear relationship. | \n",
    "| Bivariate - Categorical vs Categorical Data | Chi-Square Test of Independence | Parametric | Tests whether there is a significant association between two categorical variables in a contingency table. |\n",
    "| Bivariate - Categorical vs Numerical Data | Two-Sample t-test | Parametric | Compares the means of two related samples (e.g., before and after treatment) to determine if there is a significant difference. |\n",
    "| Bivariate - Categorical vs Numerical Data | One-Way ANOVA | Parametric | Compares the mean of three or more samples. It helps determine if there is a significant difference between the samples. |\n",
    "| Bivariate - Continuous vs Continuous Data | Spearman Test | Non-Parametric | Tests whether two samples have a monotonic relationship. | \n",
    "| Bivariate - Categorical vs Numerical Data | Mann-Whitney U Test | Non-Parametric | Compares the means of two related samples (e.g., before and after treatment) to determine if there is a significant difference. |\n",
    "| Bivariate - Categorical vs Numerical Data | Kruskal-Wallis Test | Non-Parametric | Compares the mean of three or more samples. It helps determine if there is a significant difference between the samples. |"
   ]
  }
 ],
 "metadata": {
  "kernelspec": {
   "display_name": "Python 3 (ipykernel)",
   "language": "python",
   "name": "python3"
  },
  "language_info": {
   "codemirror_mode": {
    "name": "ipython",
    "version": 3
   },
   "file_extension": ".py",
   "mimetype": "text/x-python",
   "name": "python",
   "nbconvert_exporter": "python",
   "pygments_lexer": "ipython3",
   "version": "3.9.13"
  }
 },
 "nbformat": 4,
 "nbformat_minor": 4
}
